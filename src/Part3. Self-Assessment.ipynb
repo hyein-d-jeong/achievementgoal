{
 "cells": [
  {
   "cell_type": "code",
   "execution_count": 1,
   "metadata": {},
   "outputs": [],
   "source": [
    "import pandas as pd\n",
    "import pyreadstat\n",
    "import numpy as np\n",
    "import seaborn as sns\n",
    "import matplotlib.pyplot as plt\n",
    "\n",
    "from econtools import read, outreg, table_statrow, write_notes\n",
    "import econtools as econ\n",
    "import econtools.metrics as mt\n",
    "import math"
   ]
  },
  {
   "cell_type": "markdown",
   "metadata": {},
   "source": [
    "<h3>The relathionship between inaccurate self-assessment and performance goals</h3>"
   ]
  },
  {
   "cell_type": "code",
   "execution_count": 2,
   "metadata": {},
   "outputs": [],
   "source": [
    "df, meta = pyreadstat.read_sav(\"df.sav\")"
   ]
  },
  {
   "cell_type": "code",
   "execution_count": 3,
   "metadata": {},
   "outputs": [
    {
     "data": {
      "text/plain": [
       "2747"
      ]
     },
     "execution_count": 3,
     "metadata": {},
     "output_type": "execute_result"
    }
   ],
   "source": [
    "len(df)"
   ]
  },
  {
   "cell_type": "code",
   "execution_count": 4,
   "metadata": {},
   "outputs": [],
   "source": [
    "\n",
    "\n",
    "df_sat = pd.read_excel(\"C:/Users/thxkn/OneDrive/바탕 화면/CV/박사지원서류/WS_HJ/KEEP/KEEPData_1-12Wave_Ver12/DATA(수능, 직업력, 가중치, 패널조사현황 자료 포함)/수능(2005-2009학년도) DATA(Layout 포함)/수능 DATA(2008-2009학년도)_중학교 3학년생 코호트.xlsx\")"
   ]
  },
  {
   "cell_type": "code",
   "execution_count": 5,
   "metadata": {
    "scrolled": true
   },
   "outputs": [],
   "source": [
    "# df_sat missing values = all nan/ seoncd score에는 nan이 많음 왜? 재수 안 한 사람들이 많으니깐"
   ]
  },
  {
   "cell_type": "code",
   "execution_count": 6,
   "metadata": {},
   "outputs": [],
   "source": [
    "df_sat = df_sat[[\"AT08_32\",\"AT08_33\",\"AT08_34\",\"AT09_32\",\"AT09_33\",\"AT09_34\",\"BYSID\"]]\n",
    "df_sat[\"total_score_1\"] = df_sat[\"AT08_32\"] + df_sat[\"AT08_33\"] + df_sat[\"AT08_34\"]\n",
    "df_sat[\"total_score_2\"] = df_sat[\"AT09_32\"] + df_sat[\"AT09_33\"] + df_sat[\"AT09_34\"]"
   ]
  },
  {
   "cell_type": "code",
   "execution_count": 7,
   "metadata": {},
   "outputs": [],
   "source": [
    "# self assessment = ['F3S01129']\n",
    "df_sat_temp = df_sat[['BYSID','total_score_1','total_score_2']]\n",
    "df_temp = pd.merge(df, df_sat_temp)"
   ]
  },
  {
   "cell_type": "code",
   "execution_count": 8,
   "metadata": {
    "scrolled": false
   },
   "outputs": [
    {
     "data": {
      "text/html": [
       "<div>\n",
       "<style scoped>\n",
       "    .dataframe tbody tr th:only-of-type {\n",
       "        vertical-align: middle;\n",
       "    }\n",
       "\n",
       "    .dataframe tbody tr th {\n",
       "        vertical-align: top;\n",
       "    }\n",
       "\n",
       "    .dataframe thead th {\n",
       "        text-align: right;\n",
       "    }\n",
       "</style>\n",
       "<table border=\"1\" class=\"dataframe\">\n",
       "  <thead>\n",
       "    <tr style=\"text-align: right;\">\n",
       "      <th></th>\n",
       "      <th>BYSID</th>\n",
       "      <th>BYHID</th>\n",
       "      <th>GENDER</th>\n",
       "      <th>BYSCLASS</th>\n",
       "      <th>region</th>\n",
       "      <th>schooltype</th>\n",
       "      <th>F2S01004</th>\n",
       "      <th>F2S01005</th>\n",
       "      <th>F2S01006</th>\n",
       "      <th>F2S01007</th>\n",
       "      <th>...</th>\n",
       "      <th>F3H12025</th>\n",
       "      <th>F3H12026</th>\n",
       "      <th>F3H12027</th>\n",
       "      <th>F3H13001</th>\n",
       "      <th>F3H13002</th>\n",
       "      <th>F3H13003</th>\n",
       "      <th>F3H13004</th>\n",
       "      <th>income_rank_p</th>\n",
       "      <th>total_score_1</th>\n",
       "      <th>total_score_2</th>\n",
       "    </tr>\n",
       "  </thead>\n",
       "  <tbody>\n",
       "    <tr>\n",
       "      <th>0</th>\n",
       "      <td>1003.0</td>\n",
       "      <td>10031.0</td>\n",
       "      <td>1.0</td>\n",
       "      <td>1.0</td>\n",
       "      <td>8.0</td>\n",
       "      <td>7.0</td>\n",
       "      <td>1.0</td>\n",
       "      <td>0.0</td>\n",
       "      <td>1.0</td>\n",
       "      <td>0.0</td>\n",
       "      <td>...</td>\n",
       "      <td>NaN</td>\n",
       "      <td>NaN</td>\n",
       "      <td>NaN</td>\n",
       "      <td>NaN</td>\n",
       "      <td>NaN</td>\n",
       "      <td>NaN</td>\n",
       "      <td>NaN</td>\n",
       "      <td>0.547619</td>\n",
       "      <td>17.0</td>\n",
       "      <td>NaN</td>\n",
       "    </tr>\n",
       "    <tr>\n",
       "      <th>1</th>\n",
       "      <td>1003.0</td>\n",
       "      <td>10031.0</td>\n",
       "      <td>1.0</td>\n",
       "      <td>1.0</td>\n",
       "      <td>8.0</td>\n",
       "      <td>7.0</td>\n",
       "      <td>NaN</td>\n",
       "      <td>NaN</td>\n",
       "      <td>NaN</td>\n",
       "      <td>NaN</td>\n",
       "      <td>...</td>\n",
       "      <td>-5.0</td>\n",
       "      <td>1.0</td>\n",
       "      <td>2.0</td>\n",
       "      <td>2.0</td>\n",
       "      <td>1.0</td>\n",
       "      <td>1.0</td>\n",
       "      <td>2.0</td>\n",
       "      <td>0.369748</td>\n",
       "      <td>17.0</td>\n",
       "      <td>NaN</td>\n",
       "    </tr>\n",
       "    <tr>\n",
       "      <th>2</th>\n",
       "      <td>1007.0</td>\n",
       "      <td>10071.0</td>\n",
       "      <td>1.0</td>\n",
       "      <td>1.0</td>\n",
       "      <td>2.0</td>\n",
       "      <td>7.0</td>\n",
       "      <td>2.0</td>\n",
       "      <td>0.0</td>\n",
       "      <td>1.0</td>\n",
       "      <td>1.0</td>\n",
       "      <td>...</td>\n",
       "      <td>NaN</td>\n",
       "      <td>NaN</td>\n",
       "      <td>NaN</td>\n",
       "      <td>NaN</td>\n",
       "      <td>NaN</td>\n",
       "      <td>NaN</td>\n",
       "      <td>NaN</td>\n",
       "      <td>0.511905</td>\n",
       "      <td>19.0</td>\n",
       "      <td>NaN</td>\n",
       "    </tr>\n",
       "    <tr>\n",
       "      <th>3</th>\n",
       "      <td>1007.0</td>\n",
       "      <td>10071.0</td>\n",
       "      <td>1.0</td>\n",
       "      <td>1.0</td>\n",
       "      <td>2.0</td>\n",
       "      <td>7.0</td>\n",
       "      <td>NaN</td>\n",
       "      <td>NaN</td>\n",
       "      <td>NaN</td>\n",
       "      <td>NaN</td>\n",
       "      <td>...</td>\n",
       "      <td>-5.0</td>\n",
       "      <td>1.0</td>\n",
       "      <td>2.0</td>\n",
       "      <td>3.0</td>\n",
       "      <td>1.0</td>\n",
       "      <td>2.0</td>\n",
       "      <td>3.0</td>\n",
       "      <td>0.613445</td>\n",
       "      <td>19.0</td>\n",
       "      <td>NaN</td>\n",
       "    </tr>\n",
       "    <tr>\n",
       "      <th>4</th>\n",
       "      <td>1008.0</td>\n",
       "      <td>10081.0</td>\n",
       "      <td>1.0</td>\n",
       "      <td>1.0</td>\n",
       "      <td>8.0</td>\n",
       "      <td>7.0</td>\n",
       "      <td>2.0</td>\n",
       "      <td>0.0</td>\n",
       "      <td>1.0</td>\n",
       "      <td>0.0</td>\n",
       "      <td>...</td>\n",
       "      <td>NaN</td>\n",
       "      <td>NaN</td>\n",
       "      <td>NaN</td>\n",
       "      <td>NaN</td>\n",
       "      <td>NaN</td>\n",
       "      <td>NaN</td>\n",
       "      <td>NaN</td>\n",
       "      <td>0.452381</td>\n",
       "      <td>15.0</td>\n",
       "      <td>15.0</td>\n",
       "    </tr>\n",
       "    <tr>\n",
       "      <th>...</th>\n",
       "      <td>...</td>\n",
       "      <td>...</td>\n",
       "      <td>...</td>\n",
       "      <td>...</td>\n",
       "      <td>...</td>\n",
       "      <td>...</td>\n",
       "      <td>...</td>\n",
       "      <td>...</td>\n",
       "      <td>...</td>\n",
       "      <td>...</td>\n",
       "      <td>...</td>\n",
       "      <td>...</td>\n",
       "      <td>...</td>\n",
       "      <td>...</td>\n",
       "      <td>...</td>\n",
       "      <td>...</td>\n",
       "      <td>...</td>\n",
       "      <td>...</td>\n",
       "      <td>...</td>\n",
       "      <td>...</td>\n",
       "      <td>...</td>\n",
       "    </tr>\n",
       "    <tr>\n",
       "      <th>1468</th>\n",
       "      <td>7921.0</td>\n",
       "      <td>79211.0</td>\n",
       "      <td>1.0</td>\n",
       "      <td>1.0</td>\n",
       "      <td>6.0</td>\n",
       "      <td>0.0</td>\n",
       "      <td>NaN</td>\n",
       "      <td>NaN</td>\n",
       "      <td>NaN</td>\n",
       "      <td>NaN</td>\n",
       "      <td>...</td>\n",
       "      <td>-5.0</td>\n",
       "      <td>1.0</td>\n",
       "      <td>2.0</td>\n",
       "      <td>1.0</td>\n",
       "      <td>1.0</td>\n",
       "      <td>0.0</td>\n",
       "      <td>1.0</td>\n",
       "      <td>0.529412</td>\n",
       "      <td>27.0</td>\n",
       "      <td>NaN</td>\n",
       "    </tr>\n",
       "    <tr>\n",
       "      <th>1469</th>\n",
       "      <td>7924.0</td>\n",
       "      <td>79241.0</td>\n",
       "      <td>1.0</td>\n",
       "      <td>1.0</td>\n",
       "      <td>10.0</td>\n",
       "      <td>0.0</td>\n",
       "      <td>NaN</td>\n",
       "      <td>NaN</td>\n",
       "      <td>NaN</td>\n",
       "      <td>NaN</td>\n",
       "      <td>...</td>\n",
       "      <td>-5.0</td>\n",
       "      <td>-5.0</td>\n",
       "      <td>-5.0</td>\n",
       "      <td>2.0</td>\n",
       "      <td>1.0</td>\n",
       "      <td>1.0</td>\n",
       "      <td>2.0</td>\n",
       "      <td>0.268908</td>\n",
       "      <td>14.0</td>\n",
       "      <td>NaN</td>\n",
       "    </tr>\n",
       "    <tr>\n",
       "      <th>1470</th>\n",
       "      <td>7926.0</td>\n",
       "      <td>79261.0</td>\n",
       "      <td>0.0</td>\n",
       "      <td>1.0</td>\n",
       "      <td>2.0</td>\n",
       "      <td>0.0</td>\n",
       "      <td>NaN</td>\n",
       "      <td>NaN</td>\n",
       "      <td>NaN</td>\n",
       "      <td>NaN</td>\n",
       "      <td>...</td>\n",
       "      <td>-5.0</td>\n",
       "      <td>1.0</td>\n",
       "      <td>2.0</td>\n",
       "      <td>2.0</td>\n",
       "      <td>1.0</td>\n",
       "      <td>1.0</td>\n",
       "      <td>2.0</td>\n",
       "      <td>0.445378</td>\n",
       "      <td>NaN</td>\n",
       "      <td>NaN</td>\n",
       "    </tr>\n",
       "    <tr>\n",
       "      <th>1471</th>\n",
       "      <td>7927.0</td>\n",
       "      <td>79271.0</td>\n",
       "      <td>1.0</td>\n",
       "      <td>1.0</td>\n",
       "      <td>2.0</td>\n",
       "      <td>0.0</td>\n",
       "      <td>NaN</td>\n",
       "      <td>NaN</td>\n",
       "      <td>NaN</td>\n",
       "      <td>NaN</td>\n",
       "      <td>...</td>\n",
       "      <td>-5.0</td>\n",
       "      <td>1.0</td>\n",
       "      <td>2.0</td>\n",
       "      <td>3.0</td>\n",
       "      <td>1.0</td>\n",
       "      <td>2.0</td>\n",
       "      <td>3.0</td>\n",
       "      <td>0.478992</td>\n",
       "      <td>23.0</td>\n",
       "      <td>NaN</td>\n",
       "    </tr>\n",
       "    <tr>\n",
       "      <th>1472</th>\n",
       "      <td>7950.0</td>\n",
       "      <td>79501.0</td>\n",
       "      <td>0.0</td>\n",
       "      <td>1.0</td>\n",
       "      <td>4.0</td>\n",
       "      <td>0.0</td>\n",
       "      <td>NaN</td>\n",
       "      <td>NaN</td>\n",
       "      <td>NaN</td>\n",
       "      <td>NaN</td>\n",
       "      <td>...</td>\n",
       "      <td>-5.0</td>\n",
       "      <td>1.0</td>\n",
       "      <td>2.0</td>\n",
       "      <td>2.0</td>\n",
       "      <td>0.0</td>\n",
       "      <td>2.0</td>\n",
       "      <td>2.0</td>\n",
       "      <td>0.495798</td>\n",
       "      <td>NaN</td>\n",
       "      <td>NaN</td>\n",
       "    </tr>\n",
       "  </tbody>\n",
       "</table>\n",
       "<p>1473 rows × 1064 columns</p>\n",
       "</div>"
      ],
      "text/plain": [
       "       BYSID    BYHID  GENDER  BYSCLASS  region  schooltype  F2S01004  \\\n",
       "0     1003.0  10031.0     1.0       1.0     8.0         7.0       1.0   \n",
       "1     1003.0  10031.0     1.0       1.0     8.0         7.0       NaN   \n",
       "2     1007.0  10071.0     1.0       1.0     2.0         7.0       2.0   \n",
       "3     1007.0  10071.0     1.0       1.0     2.0         7.0       NaN   \n",
       "4     1008.0  10081.0     1.0       1.0     8.0         7.0       2.0   \n",
       "...      ...      ...     ...       ...     ...         ...       ...   \n",
       "1468  7921.0  79211.0     1.0       1.0     6.0         0.0       NaN   \n",
       "1469  7924.0  79241.0     1.0       1.0    10.0         0.0       NaN   \n",
       "1470  7926.0  79261.0     0.0       1.0     2.0         0.0       NaN   \n",
       "1471  7927.0  79271.0     1.0       1.0     2.0         0.0       NaN   \n",
       "1472  7950.0  79501.0     0.0       1.0     4.0         0.0       NaN   \n",
       "\n",
       "      F2S01005  F2S01006  F2S01007  ...  F3H12025  F3H12026  F3H12027  \\\n",
       "0          0.0       1.0       0.0  ...       NaN       NaN       NaN   \n",
       "1          NaN       NaN       NaN  ...      -5.0       1.0       2.0   \n",
       "2          0.0       1.0       1.0  ...       NaN       NaN       NaN   \n",
       "3          NaN       NaN       NaN  ...      -5.0       1.0       2.0   \n",
       "4          0.0       1.0       0.0  ...       NaN       NaN       NaN   \n",
       "...        ...       ...       ...  ...       ...       ...       ...   \n",
       "1468       NaN       NaN       NaN  ...      -5.0       1.0       2.0   \n",
       "1469       NaN       NaN       NaN  ...      -5.0      -5.0      -5.0   \n",
       "1470       NaN       NaN       NaN  ...      -5.0       1.0       2.0   \n",
       "1471       NaN       NaN       NaN  ...      -5.0       1.0       2.0   \n",
       "1472       NaN       NaN       NaN  ...      -5.0       1.0       2.0   \n",
       "\n",
       "      F3H13001  F3H13002  F3H13003  F3H13004  income_rank_p  total_score_1  \\\n",
       "0          NaN       NaN       NaN       NaN       0.547619           17.0   \n",
       "1          2.0       1.0       1.0       2.0       0.369748           17.0   \n",
       "2          NaN       NaN       NaN       NaN       0.511905           19.0   \n",
       "3          3.0       1.0       2.0       3.0       0.613445           19.0   \n",
       "4          NaN       NaN       NaN       NaN       0.452381           15.0   \n",
       "...        ...       ...       ...       ...            ...            ...   \n",
       "1468       1.0       1.0       0.0       1.0       0.529412           27.0   \n",
       "1469       2.0       1.0       1.0       2.0       0.268908           14.0   \n",
       "1470       2.0       1.0       1.0       2.0       0.445378            NaN   \n",
       "1471       3.0       1.0       2.0       3.0       0.478992           23.0   \n",
       "1472       2.0       0.0       2.0       2.0       0.495798            NaN   \n",
       "\n",
       "      total_score_2  \n",
       "0               NaN  \n",
       "1               NaN  \n",
       "2               NaN  \n",
       "3               NaN  \n",
       "4              15.0  \n",
       "...             ...  \n",
       "1468            NaN  \n",
       "1469            NaN  \n",
       "1470            NaN  \n",
       "1471            NaN  \n",
       "1472            NaN  \n",
       "\n",
       "[1473 rows x 1064 columns]"
      ]
     },
     "execution_count": 8,
     "metadata": {},
     "output_type": "execute_result"
    }
   ],
   "source": [
    "df_temp"
   ]
  },
  {
   "cell_type": "code",
   "execution_count": 9,
   "metadata": {},
   "outputs": [
    {
     "data": {
      "text/plain": [
       "1231"
      ]
     },
     "execution_count": 9,
     "metadata": {},
     "output_type": "execute_result"
    }
   ],
   "source": [
    "# beliefs missing value\n",
    "df_temp = df_temp[df_temp['F3S01129']>0]\n",
    "df_temp = df_temp[df_temp['total_score_1']>0]\n",
    "len(df_temp) #1231"
   ]
  },
  {
   "cell_type": "code",
   "execution_count": 10,
   "metadata": {},
   "outputs": [],
   "source": [
    "# gap between self-assessment and actual attainments\n",
    "# total score average \n",
    "df_temp['total_score_1'] = df_temp['total_score_1']/3\n",
    "#df_temp['total_score_2'] = df_temp['total_score_2']/3\n",
    "df_temp['belief_gap'] = df_temp['F3S01129'] - df_temp['total_score_1']"
   ]
  },
  {
   "cell_type": "code",
   "execution_count": 11,
   "metadata": {},
   "outputs": [],
   "source": [
    "# perfshare\n",
    "df_temp['perf'] = df_temp['favorablejudg']+df_temp['negativejudg']\n",
    "df_temp['perfshare'] = df_temp['perf'] / (df_temp['perf'] + df_temp['learning'])\n",
    "\n",
    "#exog = ['income_rank_p', 'region', 'schooltype', 'GENDER', 'year']\n",
    "#print(mt.reg(df, 'perfshare', exog))"
   ]
  },
  {
   "cell_type": "code",
   "execution_count": 12,
   "metadata": {},
   "outputs": [
    {
     "data": {
      "text/plain": [
       "59"
      ]
     },
     "execution_count": 12,
     "metadata": {},
     "output_type": "execute_result"
    }
   ],
   "source": [
    "len(df_temp[df_temp['belief_gap']<0]) # underestimate 913 out of 1346\n",
    "len(df_temp[df_temp['belief_gap']>0]) # overestimate 259 out of 1346\n",
    "len(df_temp[df_temp['belief_gap']==0]) # accurate 59 out of 1346"
   ]
  },
  {
   "cell_type": "code",
   "execution_count": 13,
   "metadata": {},
   "outputs": [],
   "source": [
    "df_temp['belief_gap_abs'] = abs(df_temp['belief_gap'])"
   ]
  },
  {
   "cell_type": "code",
   "execution_count": 64,
   "metadata": {},
   "outputs": [
    {
     "data": {
      "text/plain": [
       "array([[1.        , 0.00464427],\n",
       "       [0.00464427, 1.        ]])"
      ]
     },
     "execution_count": 64,
     "metadata": {},
     "output_type": "execute_result"
    }
   ],
   "source": [
    "np.corrcoef(df_temp['belief_gap_abs'], df_temp['perfshare'])"
   ]
  },
  {
   "cell_type": "code",
   "execution_count": 17,
   "metadata": {},
   "outputs": [],
   "source": [
    "stat_b_gap = df_temp['belief_gap_abs'].describe().round(2)\n",
    "stat_b_gap.to_latex('stat_b_gap.tex')"
   ]
  },
  {
   "cell_type": "code",
   "execution_count": 22,
   "metadata": {},
   "outputs": [
    {
     "data": {
      "text/plain": [
       "1424    1.0\n",
       "Name: F3S01129, dtype: float64"
      ]
     },
     "execution_count": 22,
     "metadata": {},
     "output_type": "execute_result"
    }
   ],
   "source": [
    "df_temp.loc[df_temp['belief_gap_abs'] == 8.0, 'F3S01129']"
   ]
  },
  {
   "cell_type": "code",
   "execution_count": 67,
   "metadata": {},
   "outputs": [
    {
     "name": "stdout",
     "output_type": "stream",
     "text": [
      "=======================================================\n",
      "Dependent variable:\tperfshare\n",
      "N:\t\t\t1231\n",
      "R-squared:\t\t0.0230\n",
      "Estimation method:\tOLS\n",
      "VCE method:\t\tStandard (Homosk.)\n",
      "=======================================================\n",
      "                coeff    se      t   p>t CI_low CI_high\n",
      "income_rank_p  -0.015 0.015 -0.978 0.328 -0.044   0.015\n",
      "region         -0.000 0.001 -0.100 0.920 -0.001   0.001\n",
      "schooltype      0.001 0.001  0.523 0.601 -0.001   0.003\n",
      "GENDER         -0.006 0.006 -0.956 0.339 -0.017   0.006\n",
      "year            0.000 0.000 43.770 0.000  0.000   0.000\n",
      "belief_gap_abs -0.004 0.002 -1.517 0.130 -0.008   0.001\n",
      "total_score_1   0.008 0.002  4.556 0.000  0.004   0.011\n",
      "=======================================================\n",
      "\n"
     ]
    }
   ],
   "source": [
    "exog = ['income_rank_p', 'region', 'schooltype', 'GENDER', 'year','belief_gap_abs','total_score_1']\n",
    "print(mt.reg(df_temp, 'perfshare', exog))"
   ]
  },
  {
   "cell_type": "code",
   "execution_count": 23,
   "metadata": {},
   "outputs": [
    {
     "name": "stderr",
     "output_type": "stream",
     "text": [
      "C:\\Users\\thxkn\\anaconda3\\lib\\site-packages\\numpy\\lib\\function_base.py:393: RuntimeWarning: Mean of empty slice.\n",
      "  avg = a.mean(axis)\n",
      "C:\\Users\\thxkn\\anaconda3\\lib\\site-packages\\numpy\\core\\_methods.py:154: RuntimeWarning: invalid value encountered in true_divide\n",
      "  ret, rcount, out=ret, casting='unsafe', subok=False)\n",
      "C:\\Users\\thxkn\\anaconda3\\lib\\site-packages\\numpy\\lib\\function_base.py:2526: RuntimeWarning: Degrees of freedom <= 0 for slice\n",
      "  c = cov(x, y, rowvar)\n",
      "C:\\Users\\thxkn\\anaconda3\\lib\\site-packages\\numpy\\lib\\function_base.py:2455: RuntimeWarning: divide by zero encountered in true_divide\n",
      "  c *= np.true_divide(1, fact)\n",
      "C:\\Users\\thxkn\\anaconda3\\lib\\site-packages\\numpy\\lib\\function_base.py:2455: RuntimeWarning: invalid value encountered in multiply\n",
      "  c *= np.true_divide(1, fact)\n"
     ]
    },
    {
     "data": {
      "text/plain": [
       "array([[nan, nan],\n",
       "       [nan, nan]])"
      ]
     },
     "execution_count": 23,
     "metadata": {},
     "output_type": "execute_result"
    }
   ],
   "source": [
    "# 3rd round self-assessment ['F2S01109']\n",
    "df_temp = df_temp[df_temp['F2S01109']>0]\n",
    "df_temp['belief_gap2'] = df_temp['F2S01109'] - df_temp['total_score_1']\n",
    "df_temp['belief_gap_abs2'] = abs(df_temp['belief_gap2'])\n",
    "df_temp['F2S01109'].value_counts()\n",
    "np.corrcoef(df_temp['belief_gap_abs2'], df_temp['perfshare'])"
   ]
  },
  {
   "cell_type": "code",
   "execution_count": 78,
   "metadata": {
    "scrolled": true
   },
   "outputs": [
    {
     "data": {
      "text/html": [
       "<div>\n",
       "<style scoped>\n",
       "    .dataframe tbody tr th:only-of-type {\n",
       "        vertical-align: middle;\n",
       "    }\n",
       "\n",
       "    .dataframe tbody tr th {\n",
       "        vertical-align: top;\n",
       "    }\n",
       "\n",
       "    .dataframe thead th {\n",
       "        text-align: right;\n",
       "    }\n",
       "</style>\n",
       "<table border=\"1\" class=\"dataframe\">\n",
       "  <thead>\n",
       "    <tr style=\"text-align: right;\">\n",
       "      <th></th>\n",
       "      <th>BYSID</th>\n",
       "      <th>BYHID</th>\n",
       "      <th>GENDER</th>\n",
       "      <th>BYSCLASS</th>\n",
       "      <th>region</th>\n",
       "      <th>schooltype</th>\n",
       "      <th>F2S01004</th>\n",
       "      <th>F2S01005</th>\n",
       "      <th>F2S01006</th>\n",
       "      <th>F2S01007</th>\n",
       "      <th>...</th>\n",
       "      <th>F3H12026</th>\n",
       "      <th>F3H12027</th>\n",
       "      <th>F3H13001</th>\n",
       "      <th>F3H13002</th>\n",
       "      <th>F3H13003</th>\n",
       "      <th>F3H13004</th>\n",
       "      <th>income_rank_p</th>\n",
       "      <th>perf</th>\n",
       "      <th>pefshare</th>\n",
       "      <th>perfshare</th>\n",
       "    </tr>\n",
       "  </thead>\n",
       "  <tbody>\n",
       "    <tr>\n",
       "      <th>0</th>\n",
       "      <td>1003.0</td>\n",
       "      <td>10031.0</td>\n",
       "      <td>1.0</td>\n",
       "      <td>1.0</td>\n",
       "      <td>8.0</td>\n",
       "      <td>7.0</td>\n",
       "      <td>1.0</td>\n",
       "      <td>0.0</td>\n",
       "      <td>1.0</td>\n",
       "      <td>0.0</td>\n",
       "      <td>...</td>\n",
       "      <td>NaN</td>\n",
       "      <td>NaN</td>\n",
       "      <td>NaN</td>\n",
       "      <td>NaN</td>\n",
       "      <td>NaN</td>\n",
       "      <td>NaN</td>\n",
       "      <td>0.547619</td>\n",
       "      <td>6.0</td>\n",
       "      <td>0.666667</td>\n",
       "      <td>0.666667</td>\n",
       "    </tr>\n",
       "    <tr>\n",
       "      <th>1</th>\n",
       "      <td>1005.0</td>\n",
       "      <td>10051.0</td>\n",
       "      <td>1.0</td>\n",
       "      <td>1.0</td>\n",
       "      <td>15.0</td>\n",
       "      <td>5.0</td>\n",
       "      <td>1.0</td>\n",
       "      <td>0.0</td>\n",
       "      <td>1.0</td>\n",
       "      <td>0.0</td>\n",
       "      <td>...</td>\n",
       "      <td>NaN</td>\n",
       "      <td>NaN</td>\n",
       "      <td>NaN</td>\n",
       "      <td>NaN</td>\n",
       "      <td>NaN</td>\n",
       "      <td>NaN</td>\n",
       "      <td>0.380952</td>\n",
       "      <td>4.0</td>\n",
       "      <td>0.571429</td>\n",
       "      <td>0.571429</td>\n",
       "    </tr>\n",
       "    <tr>\n",
       "      <th>2</th>\n",
       "      <td>1007.0</td>\n",
       "      <td>10071.0</td>\n",
       "      <td>1.0</td>\n",
       "      <td>1.0</td>\n",
       "      <td>2.0</td>\n",
       "      <td>7.0</td>\n",
       "      <td>2.0</td>\n",
       "      <td>0.0</td>\n",
       "      <td>1.0</td>\n",
       "      <td>1.0</td>\n",
       "      <td>...</td>\n",
       "      <td>NaN</td>\n",
       "      <td>NaN</td>\n",
       "      <td>NaN</td>\n",
       "      <td>NaN</td>\n",
       "      <td>NaN</td>\n",
       "      <td>NaN</td>\n",
       "      <td>0.511905</td>\n",
       "      <td>6.0</td>\n",
       "      <td>0.666667</td>\n",
       "      <td>0.666667</td>\n",
       "    </tr>\n",
       "    <tr>\n",
       "      <th>3</th>\n",
       "      <td>1008.0</td>\n",
       "      <td>10081.0</td>\n",
       "      <td>1.0</td>\n",
       "      <td>1.0</td>\n",
       "      <td>8.0</td>\n",
       "      <td>7.0</td>\n",
       "      <td>2.0</td>\n",
       "      <td>0.0</td>\n",
       "      <td>1.0</td>\n",
       "      <td>0.0</td>\n",
       "      <td>...</td>\n",
       "      <td>NaN</td>\n",
       "      <td>NaN</td>\n",
       "      <td>NaN</td>\n",
       "      <td>NaN</td>\n",
       "      <td>NaN</td>\n",
       "      <td>NaN</td>\n",
       "      <td>0.452381</td>\n",
       "      <td>7.0</td>\n",
       "      <td>0.777778</td>\n",
       "      <td>0.777778</td>\n",
       "    </tr>\n",
       "    <tr>\n",
       "      <th>4</th>\n",
       "      <td>1010.0</td>\n",
       "      <td>10101.0</td>\n",
       "      <td>1.0</td>\n",
       "      <td>1.0</td>\n",
       "      <td>8.0</td>\n",
       "      <td>7.0</td>\n",
       "      <td>1.0</td>\n",
       "      <td>0.0</td>\n",
       "      <td>1.0</td>\n",
       "      <td>0.0</td>\n",
       "      <td>...</td>\n",
       "      <td>NaN</td>\n",
       "      <td>NaN</td>\n",
       "      <td>NaN</td>\n",
       "      <td>NaN</td>\n",
       "      <td>NaN</td>\n",
       "      <td>NaN</td>\n",
       "      <td>0.583333</td>\n",
       "      <td>5.0</td>\n",
       "      <td>0.625000</td>\n",
       "      <td>0.625000</td>\n",
       "    </tr>\n",
       "    <tr>\n",
       "      <th>...</th>\n",
       "      <td>...</td>\n",
       "      <td>...</td>\n",
       "      <td>...</td>\n",
       "      <td>...</td>\n",
       "      <td>...</td>\n",
       "      <td>...</td>\n",
       "      <td>...</td>\n",
       "      <td>...</td>\n",
       "      <td>...</td>\n",
       "      <td>...</td>\n",
       "      <td>...</td>\n",
       "      <td>...</td>\n",
       "      <td>...</td>\n",
       "      <td>...</td>\n",
       "      <td>...</td>\n",
       "      <td>...</td>\n",
       "      <td>...</td>\n",
       "      <td>...</td>\n",
       "      <td>...</td>\n",
       "      <td>...</td>\n",
       "      <td>...</td>\n",
       "    </tr>\n",
       "    <tr>\n",
       "      <th>409</th>\n",
       "      <td>2980.0</td>\n",
       "      <td>29801.0</td>\n",
       "      <td>0.0</td>\n",
       "      <td>1.0</td>\n",
       "      <td>11.0</td>\n",
       "      <td>0.0</td>\n",
       "      <td>NaN</td>\n",
       "      <td>NaN</td>\n",
       "      <td>NaN</td>\n",
       "      <td>NaN</td>\n",
       "      <td>...</td>\n",
       "      <td>NaN</td>\n",
       "      <td>NaN</td>\n",
       "      <td>NaN</td>\n",
       "      <td>NaN</td>\n",
       "      <td>NaN</td>\n",
       "      <td>NaN</td>\n",
       "      <td>0.142857</td>\n",
       "      <td>7.0</td>\n",
       "      <td>0.777778</td>\n",
       "      <td>0.777778</td>\n",
       "    </tr>\n",
       "    <tr>\n",
       "      <th>410</th>\n",
       "      <td>2981.0</td>\n",
       "      <td>29811.0</td>\n",
       "      <td>1.0</td>\n",
       "      <td>1.0</td>\n",
       "      <td>8.0</td>\n",
       "      <td>0.0</td>\n",
       "      <td>NaN</td>\n",
       "      <td>NaN</td>\n",
       "      <td>NaN</td>\n",
       "      <td>NaN</td>\n",
       "      <td>...</td>\n",
       "      <td>NaN</td>\n",
       "      <td>NaN</td>\n",
       "      <td>NaN</td>\n",
       "      <td>NaN</td>\n",
       "      <td>NaN</td>\n",
       "      <td>NaN</td>\n",
       "      <td>0.416667</td>\n",
       "      <td>7.0</td>\n",
       "      <td>0.700000</td>\n",
       "      <td>0.700000</td>\n",
       "    </tr>\n",
       "    <tr>\n",
       "      <th>411</th>\n",
       "      <td>2985.0</td>\n",
       "      <td>29851.0</td>\n",
       "      <td>0.0</td>\n",
       "      <td>1.0</td>\n",
       "      <td>3.0</td>\n",
       "      <td>0.0</td>\n",
       "      <td>NaN</td>\n",
       "      <td>NaN</td>\n",
       "      <td>NaN</td>\n",
       "      <td>NaN</td>\n",
       "      <td>...</td>\n",
       "      <td>NaN</td>\n",
       "      <td>NaN</td>\n",
       "      <td>NaN</td>\n",
       "      <td>NaN</td>\n",
       "      <td>NaN</td>\n",
       "      <td>NaN</td>\n",
       "      <td>0.321429</td>\n",
       "      <td>6.0</td>\n",
       "      <td>0.666667</td>\n",
       "      <td>0.666667</td>\n",
       "    </tr>\n",
       "    <tr>\n",
       "      <th>412</th>\n",
       "      <td>2986.0</td>\n",
       "      <td>29861.0</td>\n",
       "      <td>0.0</td>\n",
       "      <td>1.0</td>\n",
       "      <td>1.0</td>\n",
       "      <td>0.0</td>\n",
       "      <td>NaN</td>\n",
       "      <td>NaN</td>\n",
       "      <td>NaN</td>\n",
       "      <td>NaN</td>\n",
       "      <td>...</td>\n",
       "      <td>NaN</td>\n",
       "      <td>NaN</td>\n",
       "      <td>NaN</td>\n",
       "      <td>NaN</td>\n",
       "      <td>NaN</td>\n",
       "      <td>NaN</td>\n",
       "      <td>0.273810</td>\n",
       "      <td>7.0</td>\n",
       "      <td>0.700000</td>\n",
       "      <td>0.700000</td>\n",
       "    </tr>\n",
       "    <tr>\n",
       "      <th>413</th>\n",
       "      <td>2999.0</td>\n",
       "      <td>29991.0</td>\n",
       "      <td>0.0</td>\n",
       "      <td>1.0</td>\n",
       "      <td>3.0</td>\n",
       "      <td>0.0</td>\n",
       "      <td>NaN</td>\n",
       "      <td>NaN</td>\n",
       "      <td>NaN</td>\n",
       "      <td>NaN</td>\n",
       "      <td>...</td>\n",
       "      <td>NaN</td>\n",
       "      <td>NaN</td>\n",
       "      <td>NaN</td>\n",
       "      <td>NaN</td>\n",
       "      <td>NaN</td>\n",
       "      <td>NaN</td>\n",
       "      <td>0.297619</td>\n",
       "      <td>4.0</td>\n",
       "      <td>0.666667</td>\n",
       "      <td>0.666667</td>\n",
       "    </tr>\n",
       "  </tbody>\n",
       "</table>\n",
       "<p>412 rows × 1065 columns</p>\n",
       "</div>"
      ],
      "text/plain": [
       "      BYSID    BYHID  GENDER  BYSCLASS  region  schooltype  F2S01004  \\\n",
       "0    1003.0  10031.0     1.0       1.0     8.0         7.0       1.0   \n",
       "1    1005.0  10051.0     1.0       1.0    15.0         5.0       1.0   \n",
       "2    1007.0  10071.0     1.0       1.0     2.0         7.0       2.0   \n",
       "3    1008.0  10081.0     1.0       1.0     8.0         7.0       2.0   \n",
       "4    1010.0  10101.0     1.0       1.0     8.0         7.0       1.0   \n",
       "..      ...      ...     ...       ...     ...         ...       ...   \n",
       "409  2980.0  29801.0     0.0       1.0    11.0         0.0       NaN   \n",
       "410  2981.0  29811.0     1.0       1.0     8.0         0.0       NaN   \n",
       "411  2985.0  29851.0     0.0       1.0     3.0         0.0       NaN   \n",
       "412  2986.0  29861.0     0.0       1.0     1.0         0.0       NaN   \n",
       "413  2999.0  29991.0     0.0       1.0     3.0         0.0       NaN   \n",
       "\n",
       "     F2S01005  F2S01006  F2S01007  ...  F3H12026  F3H12027  F3H13001  \\\n",
       "0         0.0       1.0       0.0  ...       NaN       NaN       NaN   \n",
       "1         0.0       1.0       0.0  ...       NaN       NaN       NaN   \n",
       "2         0.0       1.0       1.0  ...       NaN       NaN       NaN   \n",
       "3         0.0       1.0       0.0  ...       NaN       NaN       NaN   \n",
       "4         0.0       1.0       0.0  ...       NaN       NaN       NaN   \n",
       "..        ...       ...       ...  ...       ...       ...       ...   \n",
       "409       NaN       NaN       NaN  ...       NaN       NaN       NaN   \n",
       "410       NaN       NaN       NaN  ...       NaN       NaN       NaN   \n",
       "411       NaN       NaN       NaN  ...       NaN       NaN       NaN   \n",
       "412       NaN       NaN       NaN  ...       NaN       NaN       NaN   \n",
       "413       NaN       NaN       NaN  ...       NaN       NaN       NaN   \n",
       "\n",
       "     F3H13002  F3H13003  F3H13004  income_rank_p  perf  pefshare  perfshare  \n",
       "0         NaN       NaN       NaN       0.547619   6.0  0.666667   0.666667  \n",
       "1         NaN       NaN       NaN       0.380952   4.0  0.571429   0.571429  \n",
       "2         NaN       NaN       NaN       0.511905   6.0  0.666667   0.666667  \n",
       "3         NaN       NaN       NaN       0.452381   7.0  0.777778   0.777778  \n",
       "4         NaN       NaN       NaN       0.583333   5.0  0.625000   0.625000  \n",
       "..        ...       ...       ...            ...   ...       ...        ...  \n",
       "409       NaN       NaN       NaN       0.142857   7.0  0.777778   0.777778  \n",
       "410       NaN       NaN       NaN       0.416667   7.0  0.700000   0.700000  \n",
       "411       NaN       NaN       NaN       0.321429   6.0  0.666667   0.666667  \n",
       "412       NaN       NaN       NaN       0.273810   7.0  0.700000   0.700000  \n",
       "413       NaN       NaN       NaN       0.297619   4.0  0.666667   0.666667  \n",
       "\n",
       "[412 rows x 1065 columns]"
      ]
     },
     "execution_count": 78,
     "metadata": {},
     "output_type": "execute_result"
    }
   ],
   "source": [
    "df[df['F2S01109']>0] #412명"
   ]
  },
  {
   "cell_type": "markdown",
   "metadata": {},
   "source": [
    "<h2>Self-Assessment Real Proxy for Each Subjects</h2>"
   ]
  },
  {
   "cell_type": "code",
   "execution_count": 24,
   "metadata": {},
   "outputs": [],
   "source": [
    "# 과목 잘한다 (1 전혀 그렇지 않다 - 5 매우 그렇다)\n",
    "df_b = pd.merge(df, df_sat)\n",
    "\n",
    "df_b = df_b[df_b['F3S01100']>0]\n",
    "df_b = df_b[df_b['F3S01103']>0]\n",
    "df_b = df_b[df_b['F3S01106']>0]\n",
    "\n",
    "df_b = df_b.rename(columns = {'F3S01100': 'korean_b', 'F3S01103': 'math_b', 'F3S01106':'eng_b'})\n",
    "df_b = df_b.rename(columns = {\"AT08_32\": 'korean_sat',\"AT08_33\": 'math_sat',\"AT08_34\": 'eng_sat'})\n",
    "\n",
    "df_b = df_b[df_b['korean_sat']>0]\n",
    "df_b = df_b[df_b['math_sat']>0]\n",
    "df_b = df_b[df_b['eng_sat']>0]"
   ]
  },
  {
   "cell_type": "code",
   "execution_count": 25,
   "metadata": {},
   "outputs": [],
   "source": [
    "beliefs = ['korean_b','math_b','eng_b']\n",
    "sat = ['korean_sat', 'math_sat', 'eng_sat']\n",
    "\n",
    "subjects = ['korean', 'math', 'eng']\n",
    "\n",
    "for b in beliefs:\n",
    "    df_b[b] = (5-df_b[b]) + 1"
   ]
  },
  {
   "cell_type": "code",
   "execution_count": 26,
   "metadata": {},
   "outputs": [
    {
     "data": {
      "text/plain": [
       "False    1239\n",
       "Name: korean_b, dtype: int64"
      ]
     },
     "execution_count": 26,
     "metadata": {},
     "output_type": "execute_result"
    }
   ],
   "source": [
    "df_b['korean_b'].isna().value_counts()"
   ]
  },
  {
   "cell_type": "code",
   "execution_count": 27,
   "metadata": {},
   "outputs": [],
   "source": [
    "subjects = ['korean', 'math', 'eng']\n",
    "\n",
    "for s in subjects:\n",
    "    df_b[s+'_b_gap'] = df_b[s+'_b'] - df_b[s+'_sat']\n",
    "    #print(len(df_b[df_b[s+'_b_gap']<0])) # underestimate themselves\n",
    "    \n",
    "for s in subjects:\n",
    "    df_b[s+'_b_gap_abs'] = abs(df_b[s+'_b_gap'])"
   ]
  },
  {
   "cell_type": "code",
   "execution_count": 32,
   "metadata": {},
   "outputs": [],
   "source": [
    "b_gap = df_b[['korean_b_gap','math_b_gap', 'eng_b_gap']].describe().round(2)\n",
    "b_gap.to_latex('b_gap_nonabs.tex')"
   ]
  },
  {
   "cell_type": "code",
   "execution_count": 28,
   "metadata": {},
   "outputs": [],
   "source": [
    "df['total_b_gap_abs'] = (df_b['korean_b_gap_abs'] + df_b['math_b_gap_abs'] + df_b['eng_b_gap_abs'])/3"
   ]
  },
  {
   "cell_type": "code",
   "execution_count": 30,
   "metadata": {},
   "outputs": [],
   "source": [
    "b_gaps = df['total_b_gap_abs'].describe().round(2)\n",
    "b_gaps.to_latex('b_gaps.tex')"
   ]
  },
  {
   "cell_type": "code",
   "execution_count": 101,
   "metadata": {},
   "outputs": [
    {
     "name": "stdout",
     "output_type": "stream",
     "text": [
      "[[1.         0.09225555]\n",
      " [0.09225555 1.        ]]\n",
      "[[1.         0.03512973]\n",
      " [0.03512973 1.        ]]\n",
      "[[1.         0.07978247]\n",
      " [0.07978247 1.        ]]\n"
     ]
    }
   ],
   "source": [
    "df_b['perf'] = df_b['favorablejudg']+df_b['negativejudg']\n",
    "df_b['perfshare'] = df_b['perf'] / (df_b['perf'] + df_b['learning'])\n",
    "\n",
    "for s in subjects:\n",
    "    print(np.corrcoef(df_b[s+'_b_gap_abs'], df_b['perfshare']))"
   ]
  },
  {
   "cell_type": "code",
   "execution_count": 106,
   "metadata": {},
   "outputs": [
    {
     "name": "stdout",
     "output_type": "stream",
     "text": [
      "=======================================================\n",
      "Dependent variable:\tkorean_b_gap_abs\n",
      "N:\t\t\t1239\n",
      "R-squared:\t\t0.0970\n",
      "Estimation method:\tOLS\n",
      "VCE method:\t\tStandard (Homosk.)\n",
      "=======================================================\n",
      "               coeff    se      t   p>t CI_low CI_high\n",
      "income_rank_p -1.742 0.230 -7.574 0.000 -2.193  -1.290\n",
      "region        -0.009 0.010 -0.952 0.341 -0.028   0.010\n",
      "schooltype    -0.076 0.015 -5.194 0.000 -0.105  -0.047\n",
      "GENDER         0.551 0.091  6.057 0.000  0.373   0.729\n",
      "year           0.001 0.000  7.154 0.000  0.001   0.002\n",
      "perfshare      1.389 0.454  3.056 0.002  0.497   2.281\n",
      "=======================================================\n",
      "\n"
     ]
    }
   ],
   "source": [
    "exog = ['income_rank_p', 'region', 'schooltype', 'GENDER', 'year','perfshare']\n",
    "print(mt.reg(df_b, 'korean_b_gap_abs', exog))"
   ]
  },
  {
   "cell_type": "markdown",
   "metadata": {},
   "source": [
    "<h2> parents </h2>"
   ]
  },
  {
   "cell_type": "code",
   "execution_count": 4,
   "metadata": {},
   "outputs": [],
   "source": [
    "df_HH1, meta = pyreadstat.read_sav(\"C:/Users/thxkn/OneDrive/바탕 화면/CV/박사지원서류/WS_HJ/KEEP/KEEPData_1-12Wave_Ver12/DATA(수능, 직업력, 가중치, 패널조사현황 자료 포함)/1-12차년도 DATA(SPSS)/1차년도(2004) DATA/중학교 3학년생 코호트/by_m_household.sav\")"
   ]
  },
  {
   "cell_type": "code",
   "execution_count": 5,
   "metadata": {},
   "outputs": [],
   "source": [
    "\n",
    "# 1 : parents 2: father, 3: mother "
   ]
  },
  {
   "cell_type": "code",
   "execution_count": 6,
   "metadata": {},
   "outputs": [
    {
     "data": {
      "text/plain": [
       " 5.0    945\n",
       " 7.0    413\n",
       " 4.0    205\n",
       " 6.0    113\n",
       "-4.0    106\n",
       " 3.0     86\n",
       " 8.0     52\n",
       " 9.0     18\n",
       " 2.0      8\n",
       "-3.0      5\n",
       "Name: BYH26006, dtype: int64"
      ]
     },
     "execution_count": 6,
     "metadata": {},
     "output_type": "execute_result"
    }
   ],
   "source": [
    "#educational background of legal guradians'BYH26006', 'BYH27006'\n",
    "df_HH1['BYH26006'].value_counts()\n",
    "#df_HH1['BYH27006'].isna().value_counts()"
   ]
  },
  {
   "cell_type": "code",
   "execution_count": 7,
   "metadata": {},
   "outputs": [
    {
     "data": {
      "text/plain": [
       " 5.0    1141\n",
       " 4.0     309\n",
       " 7.0     217\n",
       " 3.0     105\n",
       " 6.0      66\n",
       "-4.0      55\n",
       " 8.0      27\n",
       " 2.0      18\n",
       " 9.0       8\n",
       "-3.0       5\n",
       "Name: BYH27006, dtype: int64"
      ]
     },
     "execution_count": 7,
     "metadata": {},
     "output_type": "execute_result"
    }
   ],
   "source": [
    "df_HH1['BYH27006'].value_counts()"
   ]
  },
  {
   "cell_type": "code",
   "execution_count": 8,
   "metadata": {},
   "outputs": [],
   "source": [
    "df_HH1['parental_edu'] = df_HH1[['BYH26006','BYH27006']].max(axis = 1)"
   ]
  },
  {
   "cell_type": "code",
   "execution_count": 9,
   "metadata": {},
   "outputs": [],
   "source": [
    "df_HH1 = df_HH1[df_HH1['parental_edu']>0]"
   ]
  },
  {
   "cell_type": "markdown",
   "metadata": {},
   "source": [
    "<h2>baseline analysis including parental education</h2>"
   ]
  },
  {
   "cell_type": "code",
   "execution_count": 56,
   "metadata": {},
   "outputs": [
    {
     "data": {
      "text/html": [
       "<div>\n",
       "<style scoped>\n",
       "    .dataframe tbody tr th:only-of-type {\n",
       "        vertical-align: middle;\n",
       "    }\n",
       "\n",
       "    .dataframe tbody tr th {\n",
       "        vertical-align: top;\n",
       "    }\n",
       "\n",
       "    .dataframe thead th {\n",
       "        text-align: right;\n",
       "    }\n",
       "</style>\n",
       "<table border=\"1\" class=\"dataframe\">\n",
       "  <thead>\n",
       "    <tr style=\"text-align: right;\">\n",
       "      <th></th>\n",
       "      <th>BYSID</th>\n",
       "      <th>BYHID</th>\n",
       "      <th>GENDER</th>\n",
       "      <th>BYSCLASS</th>\n",
       "      <th>region</th>\n",
       "      <th>schooltype</th>\n",
       "      <th>F2S01004</th>\n",
       "      <th>F2S01005</th>\n",
       "      <th>F2S01006</th>\n",
       "      <th>F2S01007</th>\n",
       "      <th>...</th>\n",
       "      <th>BYH27010C</th>\n",
       "      <th>BYH27011</th>\n",
       "      <th>BYH27012C</th>\n",
       "      <th>BYH27013</th>\n",
       "      <th>BYH27014</th>\n",
       "      <th>BYH28001</th>\n",
       "      <th>BYH28002</th>\n",
       "      <th>BYH28003</th>\n",
       "      <th>BYH28004</th>\n",
       "      <th>parental_edu</th>\n",
       "    </tr>\n",
       "  </thead>\n",
       "  <tbody>\n",
       "    <tr>\n",
       "      <th>0</th>\n",
       "      <td>1003.0</td>\n",
       "      <td>10031.0</td>\n",
       "      <td>1.0</td>\n",
       "      <td>1.0</td>\n",
       "      <td>8.0</td>\n",
       "      <td>7.0</td>\n",
       "      <td>1.0</td>\n",
       "      <td>0.0</td>\n",
       "      <td>1.0</td>\n",
       "      <td>0.0</td>\n",
       "      <td>...</td>\n",
       "      <td>-5.0</td>\n",
       "      <td>-5.0</td>\n",
       "      <td>-5.0</td>\n",
       "      <td>1.0</td>\n",
       "      <td>2.0</td>\n",
       "      <td>2.0</td>\n",
       "      <td>1.0</td>\n",
       "      <td>1.0</td>\n",
       "      <td>2.0</td>\n",
       "      <td>5.0</td>\n",
       "    </tr>\n",
       "    <tr>\n",
       "      <th>1</th>\n",
       "      <td>1003.0</td>\n",
       "      <td>10031.0</td>\n",
       "      <td>1.0</td>\n",
       "      <td>1.0</td>\n",
       "      <td>8.0</td>\n",
       "      <td>7.0</td>\n",
       "      <td>NaN</td>\n",
       "      <td>NaN</td>\n",
       "      <td>NaN</td>\n",
       "      <td>NaN</td>\n",
       "      <td>...</td>\n",
       "      <td>-5.0</td>\n",
       "      <td>-5.0</td>\n",
       "      <td>-5.0</td>\n",
       "      <td>1.0</td>\n",
       "      <td>2.0</td>\n",
       "      <td>2.0</td>\n",
       "      <td>1.0</td>\n",
       "      <td>1.0</td>\n",
       "      <td>2.0</td>\n",
       "      <td>5.0</td>\n",
       "    </tr>\n",
       "    <tr>\n",
       "      <th>2</th>\n",
       "      <td>1005.0</td>\n",
       "      <td>10051.0</td>\n",
       "      <td>1.0</td>\n",
       "      <td>1.0</td>\n",
       "      <td>15.0</td>\n",
       "      <td>5.0</td>\n",
       "      <td>1.0</td>\n",
       "      <td>0.0</td>\n",
       "      <td>1.0</td>\n",
       "      <td>0.0</td>\n",
       "      <td>...</td>\n",
       "      <td>-5.0</td>\n",
       "      <td>-5.0</td>\n",
       "      <td>-5.0</td>\n",
       "      <td>1.0</td>\n",
       "      <td>2.0</td>\n",
       "      <td>3.0</td>\n",
       "      <td>1.0</td>\n",
       "      <td>2.0</td>\n",
       "      <td>3.0</td>\n",
       "      <td>4.0</td>\n",
       "    </tr>\n",
       "    <tr>\n",
       "      <th>3</th>\n",
       "      <td>1005.0</td>\n",
       "      <td>10051.0</td>\n",
       "      <td>1.0</td>\n",
       "      <td>1.0</td>\n",
       "      <td>15.0</td>\n",
       "      <td>5.0</td>\n",
       "      <td>NaN</td>\n",
       "      <td>NaN</td>\n",
       "      <td>NaN</td>\n",
       "      <td>NaN</td>\n",
       "      <td>...</td>\n",
       "      <td>-5.0</td>\n",
       "      <td>-5.0</td>\n",
       "      <td>-5.0</td>\n",
       "      <td>1.0</td>\n",
       "      <td>2.0</td>\n",
       "      <td>3.0</td>\n",
       "      <td>1.0</td>\n",
       "      <td>2.0</td>\n",
       "      <td>3.0</td>\n",
       "      <td>4.0</td>\n",
       "    </tr>\n",
       "    <tr>\n",
       "      <th>4</th>\n",
       "      <td>1007.0</td>\n",
       "      <td>10071.0</td>\n",
       "      <td>1.0</td>\n",
       "      <td>1.0</td>\n",
       "      <td>2.0</td>\n",
       "      <td>7.0</td>\n",
       "      <td>2.0</td>\n",
       "      <td>0.0</td>\n",
       "      <td>1.0</td>\n",
       "      <td>1.0</td>\n",
       "      <td>...</td>\n",
       "      <td>-5.0</td>\n",
       "      <td>-5.0</td>\n",
       "      <td>-5.0</td>\n",
       "      <td>1.0</td>\n",
       "      <td>2.0</td>\n",
       "      <td>3.0</td>\n",
       "      <td>1.0</td>\n",
       "      <td>2.0</td>\n",
       "      <td>3.0</td>\n",
       "      <td>4.0</td>\n",
       "    </tr>\n",
       "    <tr>\n",
       "      <th>...</th>\n",
       "      <td>...</td>\n",
       "      <td>...</td>\n",
       "      <td>...</td>\n",
       "      <td>...</td>\n",
       "      <td>...</td>\n",
       "      <td>...</td>\n",
       "      <td>...</td>\n",
       "      <td>...</td>\n",
       "      <td>...</td>\n",
       "      <td>...</td>\n",
       "      <td>...</td>\n",
       "      <td>...</td>\n",
       "      <td>...</td>\n",
       "      <td>...</td>\n",
       "      <td>...</td>\n",
       "      <td>...</td>\n",
       "      <td>...</td>\n",
       "      <td>...</td>\n",
       "      <td>...</td>\n",
       "      <td>...</td>\n",
       "      <td>...</td>\n",
       "    </tr>\n",
       "    <tr>\n",
       "      <th>1734</th>\n",
       "      <td>2836.0</td>\n",
       "      <td>28361.0</td>\n",
       "      <td>0.0</td>\n",
       "      <td>1.0</td>\n",
       "      <td>2.0</td>\n",
       "      <td>0.0</td>\n",
       "      <td>NaN</td>\n",
       "      <td>NaN</td>\n",
       "      <td>NaN</td>\n",
       "      <td>NaN</td>\n",
       "      <td>...</td>\n",
       "      <td>-5.0</td>\n",
       "      <td>-5.0</td>\n",
       "      <td>-5.0</td>\n",
       "      <td>1.0</td>\n",
       "      <td>2.0</td>\n",
       "      <td>3.0</td>\n",
       "      <td>2.0</td>\n",
       "      <td>1.0</td>\n",
       "      <td>1.0</td>\n",
       "      <td>5.0</td>\n",
       "    </tr>\n",
       "    <tr>\n",
       "      <th>1735</th>\n",
       "      <td>2837.0</td>\n",
       "      <td>28371.0</td>\n",
       "      <td>1.0</td>\n",
       "      <td>1.0</td>\n",
       "      <td>1.0</td>\n",
       "      <td>0.0</td>\n",
       "      <td>NaN</td>\n",
       "      <td>NaN</td>\n",
       "      <td>NaN</td>\n",
       "      <td>NaN</td>\n",
       "      <td>...</td>\n",
       "      <td>-5.0</td>\n",
       "      <td>-5.0</td>\n",
       "      <td>-5.0</td>\n",
       "      <td>1.0</td>\n",
       "      <td>2.0</td>\n",
       "      <td>3.0</td>\n",
       "      <td>2.0</td>\n",
       "      <td>1.0</td>\n",
       "      <td>1.0</td>\n",
       "      <td>5.0</td>\n",
       "    </tr>\n",
       "    <tr>\n",
       "      <th>1736</th>\n",
       "      <td>2863.0</td>\n",
       "      <td>28631.0</td>\n",
       "      <td>1.0</td>\n",
       "      <td>1.0</td>\n",
       "      <td>4.0</td>\n",
       "      <td>0.0</td>\n",
       "      <td>NaN</td>\n",
       "      <td>NaN</td>\n",
       "      <td>NaN</td>\n",
       "      <td>NaN</td>\n",
       "      <td>...</td>\n",
       "      <td>-5.0</td>\n",
       "      <td>-5.0</td>\n",
       "      <td>-5.0</td>\n",
       "      <td>1.0</td>\n",
       "      <td>2.0</td>\n",
       "      <td>2.0</td>\n",
       "      <td>1.0</td>\n",
       "      <td>1.0</td>\n",
       "      <td>1.0</td>\n",
       "      <td>5.0</td>\n",
       "    </tr>\n",
       "    <tr>\n",
       "      <th>1737</th>\n",
       "      <td>2940.0</td>\n",
       "      <td>29401.0</td>\n",
       "      <td>0.0</td>\n",
       "      <td>1.0</td>\n",
       "      <td>8.0</td>\n",
       "      <td>0.0</td>\n",
       "      <td>NaN</td>\n",
       "      <td>NaN</td>\n",
       "      <td>NaN</td>\n",
       "      <td>NaN</td>\n",
       "      <td>...</td>\n",
       "      <td>-5.0</td>\n",
       "      <td>2.0</td>\n",
       "      <td>11123101.0</td>\n",
       "      <td>1.0</td>\n",
       "      <td>2.0</td>\n",
       "      <td>2.0</td>\n",
       "      <td>0.0</td>\n",
       "      <td>2.0</td>\n",
       "      <td>2.0</td>\n",
       "      <td>7.0</td>\n",
       "    </tr>\n",
       "    <tr>\n",
       "      <th>1738</th>\n",
       "      <td>2989.0</td>\n",
       "      <td>29891.0</td>\n",
       "      <td>0.0</td>\n",
       "      <td>1.0</td>\n",
       "      <td>7.0</td>\n",
       "      <td>0.0</td>\n",
       "      <td>NaN</td>\n",
       "      <td>NaN</td>\n",
       "      <td>NaN</td>\n",
       "      <td>NaN</td>\n",
       "      <td>...</td>\n",
       "      <td>-5.0</td>\n",
       "      <td>-5.0</td>\n",
       "      <td>-5.0</td>\n",
       "      <td>2.0</td>\n",
       "      <td>2.0</td>\n",
       "      <td>2.0</td>\n",
       "      <td>1.0</td>\n",
       "      <td>1.0</td>\n",
       "      <td>2.0</td>\n",
       "      <td>5.0</td>\n",
       "    </tr>\n",
       "  </tbody>\n",
       "</table>\n",
       "<p>1739 rows × 1460 columns</p>\n",
       "</div>"
      ],
      "text/plain": [
       "       BYSID    BYHID  GENDER  BYSCLASS  region  schooltype  F2S01004  \\\n",
       "0     1003.0  10031.0     1.0       1.0     8.0         7.0       1.0   \n",
       "1     1003.0  10031.0     1.0       1.0     8.0         7.0       NaN   \n",
       "2     1005.0  10051.0     1.0       1.0    15.0         5.0       1.0   \n",
       "3     1005.0  10051.0     1.0       1.0    15.0         5.0       NaN   \n",
       "4     1007.0  10071.0     1.0       1.0     2.0         7.0       2.0   \n",
       "...      ...      ...     ...       ...     ...         ...       ...   \n",
       "1734  2836.0  28361.0     0.0       1.0     2.0         0.0       NaN   \n",
       "1735  2837.0  28371.0     1.0       1.0     1.0         0.0       NaN   \n",
       "1736  2863.0  28631.0     1.0       1.0     4.0         0.0       NaN   \n",
       "1737  2940.0  29401.0     0.0       1.0     8.0         0.0       NaN   \n",
       "1738  2989.0  29891.0     0.0       1.0     7.0         0.0       NaN   \n",
       "\n",
       "      F2S01005  F2S01006  F2S01007  ...  BYH27010C  BYH27011   BYH27012C  \\\n",
       "0          0.0       1.0       0.0  ...       -5.0      -5.0        -5.0   \n",
       "1          NaN       NaN       NaN  ...       -5.0      -5.0        -5.0   \n",
       "2          0.0       1.0       0.0  ...       -5.0      -5.0        -5.0   \n",
       "3          NaN       NaN       NaN  ...       -5.0      -5.0        -5.0   \n",
       "4          0.0       1.0       1.0  ...       -5.0      -5.0        -5.0   \n",
       "...        ...       ...       ...  ...        ...       ...         ...   \n",
       "1734       NaN       NaN       NaN  ...       -5.0      -5.0        -5.0   \n",
       "1735       NaN       NaN       NaN  ...       -5.0      -5.0        -5.0   \n",
       "1736       NaN       NaN       NaN  ...       -5.0      -5.0        -5.0   \n",
       "1737       NaN       NaN       NaN  ...       -5.0       2.0  11123101.0   \n",
       "1738       NaN       NaN       NaN  ...       -5.0      -5.0        -5.0   \n",
       "\n",
       "      BYH27013  BYH27014  BYH28001  BYH28002  BYH28003  BYH28004  parental_edu  \n",
       "0          1.0       2.0       2.0       1.0       1.0       2.0           5.0  \n",
       "1          1.0       2.0       2.0       1.0       1.0       2.0           5.0  \n",
       "2          1.0       2.0       3.0       1.0       2.0       3.0           4.0  \n",
       "3          1.0       2.0       3.0       1.0       2.0       3.0           4.0  \n",
       "4          1.0       2.0       3.0       1.0       2.0       3.0           4.0  \n",
       "...        ...       ...       ...       ...       ...       ...           ...  \n",
       "1734       1.0       2.0       3.0       2.0       1.0       1.0           5.0  \n",
       "1735       1.0       2.0       3.0       2.0       1.0       1.0           5.0  \n",
       "1736       1.0       2.0       2.0       1.0       1.0       1.0           5.0  \n",
       "1737       1.0       2.0       2.0       0.0       2.0       2.0           7.0  \n",
       "1738       2.0       2.0       2.0       1.0       1.0       2.0           5.0  \n",
       "\n",
       "[1739 rows x 1460 columns]"
      ]
     },
     "execution_count": 56,
     "metadata": {},
     "output_type": "execute_result"
    }
   ],
   "source": [
    "df = pd.merge(df, df_HH1)\n",
    "df"
   ]
  },
  {
   "cell_type": "code",
   "execution_count": 65,
   "metadata": {},
   "outputs": [],
   "source": [
    "df['perf'] = df['favorablejudg']+df['negativejudg']\n",
    "df['perfshare'] = df['perf'] / (df['perf'] + df['learning'])\n",
    "df['learningshare'] = df['learning'] / (df['learning']+df['perf']) "
   ]
  },
  {
   "cell_type": "code",
   "execution_count": 58,
   "metadata": {},
   "outputs": [],
   "source": [
    "#현재 성적 'F3S01129', 'F2S01109'\n",
    "df['attainment'] = np.nan\n",
    "df.loc[df['year'] == 2004, 'attainment'] = 9 - df['F3S01129'] + 1\n",
    "df.loc[df['year'] == 2003, 'attainment'] = 9 - df['F2S01109'] + 1"
   ]
  },
  {
   "cell_type": "code",
   "execution_count": 59,
   "metadata": {},
   "outputs": [],
   "source": [
    "# teacher effect\n",
    "# F3S01066 , F3S01067, F3S01068, F3S01069 -> 1,2 서로 바꾸기 (높을수록 좋은 선생님 되게)\n",
    "# F3S01070, F3S01071, F3S01072, F3S01073 -> 매우그렇다 (높을수록 좋은 선생님)\n",
    "\n",
    "# F2S01049, F2S01050, F2S01051, F2S01052 -> 1,2 바꾸기\n",
    "# F2S01053, F2S01054, F2S01055, F2S01056 -> 매우그렇다( 높을 수록 좋음 )\n",
    "\n",
    "df['teacher_effect'] = np.nan\n",
    "df.loc[df['year'] == 2003, 'teacher_effect'] = (df.loc[df['year'] == 2003,'F2S01053'] + df.loc[df['year'] == 2003, 'F2S01054'] + df.loc[df['year'] == 2003, 'F2S01055'] + df.loc[df['year'] == 2003, 'F2S01056'])/4\n",
    "df.loc[df['year'] == 2004, 'teacher_effect'] =  (df.loc[df['year'] == 2004,'F3S01070']+ df.loc[df['year'] == 2004, 'F3S01071'] + df.loc[df['year'] == 2004, 'F3S01072'] + df.loc[df['year'] == 2004, 'F3S01073'])/4"
   ]
  },
  {
   "cell_type": "code",
   "execution_count": 60,
   "metadata": {},
   "outputs": [],
   "source": [
    "# 대화시간 F2S02009 F3S02028\n",
    "df['conv_mom'] = np.nan\n",
    "df.loc[df['year'] == 2003, 'conv_mom'] = df.loc[df['year'] == 2003, 'F2S02009']\n",
    "df.loc[df['year'] == 2004, 'conv_mom'] = df.loc[df['year'] == 2004, 'F3S02028']\n",
    "\n",
    "# 남보다 F3S02031\n",
    "df['pressure_mom'] = np.nan\n",
    "df.loc[df['year'] == 2003, 'pressure_mom'] = 0\n",
    "df.loc[df['year'] == 2004, 'pressure_mom'] = df.loc[df['year'] == 2004, 'F3S02031']"
   ]
  },
  {
   "cell_type": "code",
   "execution_count": 63,
   "metadata": {},
   "outputs": [
    {
     "data": {
      "text/plain": [
       "False    1739\n",
       "Name: private_edu, dtype: int64"
      ]
     },
     "execution_count": 63,
     "metadata": {},
     "output_type": "execute_result"
    }
   ],
   "source": [
    "# 사교육비 'BYH22002'\n",
    "df['private_edu'] = df['BYH22002'] \n",
    "df['private_edu'].isna().value_counts()"
   ]
  },
  {
   "cell_type": "code",
   "execution_count": 49,
   "metadata": {},
   "outputs": [],
   "source": [
    "#goal list\n",
    "goal_list = ['learning', 'betterperson', 'betterjob', 'futurework', 'forsociety', 'favorablejudg',  'popular',  'competition', 'forced', 'negativejudg',  'penalty']\n",
    "other_goals = ['betterperson', 'betterjob', 'futurework', 'forsociety',  'popular',  'competition', 'forced',  'penalty','learning']"
   ]
  },
  {
   "cell_type": "code",
   "execution_count": 50,
   "metadata": {},
   "outputs": [],
   "source": [
    "df_base = pd.merge(df, df_HH1)"
   ]
  },
  {
   "cell_type": "code",
   "execution_count": 73,
   "metadata": {
    "scrolled": false
   },
   "outputs": [
    {
     "name": "stdout",
     "output_type": "stream",
     "text": [
      "=======================================================\n",
      "Dependent variable:\tperfshare\n",
      "N:\t\t\t1739\n",
      "R-squared:\t\t0.2489\n",
      "Estimation method:\tOLS\n",
      "VCE method:\t\tStandard (Homosk.)\n",
      "=======================================================\n",
      "                coeff    se      t   p>t CI_low CI_high\n",
      "income_rank_p   0.018 0.012  1.532 0.126 -0.005   0.042\n",
      "region          0.001 0.000  1.573 0.116 -0.000   0.002\n",
      "schooltype     -0.001 0.001 -0.827 0.409 -0.002   0.001\n",
      "GENDER          0.004 0.004  0.899 0.369 -0.004   0.012\n",
      "year            0.000 0.000 29.078 0.000  0.000   0.000\n",
      "parental_edu   -0.002 0.002 -1.248 0.212 -0.006   0.001\n",
      "attainment     -0.007 0.001 -5.964 0.000 -0.010  -0.005\n",
      "teacher_effect -0.009 0.003 -3.585 0.000 -0.014  -0.004\n",
      "conv_mom        0.000 0.000  0.765 0.445 -0.000   0.000\n",
      "pressure_mom   -0.002 0.001 -1.219 0.223 -0.004   0.001\n",
      "betterperson   -0.016 0.003 -4.874 0.000 -0.023  -0.010\n",
      "betterjob       0.022 0.003  6.376 0.000  0.015   0.029\n",
      "futurework     -0.008 0.003 -2.558 0.011 -0.014  -0.002\n",
      "forsociety      0.004 0.003  1.368 0.171 -0.002   0.009\n",
      "popular         0.017 0.003  6.034 0.000  0.011   0.023\n",
      "competition     0.014 0.002  6.608 0.000  0.010   0.019\n",
      "forced          0.022 0.002  9.492 0.000  0.018   0.027\n",
      "penalty         0.008 0.003  2.737 0.006  0.002   0.014\n",
      "=======================================================\n",
      "\n"
     ]
    }
   ],
   "source": [
    "exog = ['income_rank_p', 'region', 'schooltype', 'GENDER', 'year', 'parental_edu', 'attainment', 'teacher_effect', 'pressure_mom'] + other_goals\n",
    "print(mt.reg(df_base, 'perfshare', exog))"
   ]
  },
  {
   "cell_type": "code",
   "execution_count": 52,
   "metadata": {},
   "outputs": [],
   "source": [
    "df_base['masteryshare'] = df_base['learning'] / (df_base['perf']+ df_base['learning'])"
   ]
  },
  {
   "cell_type": "code",
   "execution_count": 68,
   "metadata": {},
   "outputs": [
    {
     "name": "stdout",
     "output_type": "stream",
     "text": [
      "=======================================================\n",
      "Dependent variable:\tmasteryshare\n",
      "N:\t\t\t1739\n",
      "R-squared:\t\t0.2489\n",
      "Estimation method:\tOLS\n",
      "VCE method:\t\tStandard (Homosk.)\n",
      "=======================================================\n",
      "                coeff    se      t   p>t CI_low CI_high\n",
      "income_rank_p  -0.018 0.012 -1.534 0.125 -0.042   0.005\n",
      "region         -0.001 0.000 -1.575 0.115 -0.002   0.000\n",
      "schooltype      0.001 0.001  0.793 0.428 -0.001   0.002\n",
      "GENDER         -0.004 0.004 -0.896 0.370 -0.012   0.004\n",
      "year            0.000 0.000 22.432 0.000  0.000   0.000\n",
      "parental_edu    0.002 0.002  1.249 0.212 -0.001   0.006\n",
      "attainment      0.007 0.001  5.962 0.000  0.005   0.010\n",
      "teacher_effect  0.009 0.003  3.587 0.000  0.004   0.014\n",
      "conv_mom       -0.000 0.000 -0.757 0.449 -0.000   0.000\n",
      "pressure_mom    0.001 0.001  1.173 0.241 -0.001   0.004\n",
      "betterperson    0.016 0.003  4.878 0.000  0.010   0.023\n",
      "betterjob      -0.022 0.003 -6.377 0.000 -0.029  -0.015\n",
      "futurework      0.008 0.003  2.556 0.011  0.002   0.014\n",
      "forsociety     -0.004 0.003 -1.368 0.172 -0.009   0.002\n",
      "popular        -0.017 0.003 -6.034 0.000 -0.023  -0.011\n",
      "competition    -0.014 0.002 -6.606 0.000 -0.019  -0.010\n",
      "forced         -0.022 0.002 -9.487 0.000 -0.027  -0.018\n",
      "penalty        -0.008 0.003 -2.735 0.006 -0.014  -0.002\n",
      "=======================================================\n",
      "\n"
     ]
    }
   ],
   "source": [
    "other_goals = ['betterperson', 'betterjob', 'futurework', 'forsociety',  'popular',  'competition', 'forced',  'penalty']\n",
    "exog = ['income_rank_p', 'region', 'schooltype', 'GENDER', 'year', 'parental_edu', 'attainment', 'teacher_effect', 'conv_mom', 'pressure_mom'] + other_goals\n",
    "print(mt.reg(df_base, 'masteryshare', exog))"
   ]
  },
  {
   "cell_type": "markdown",
   "metadata": {},
   "source": [
    "<h2>Control</h2>"
   ]
  },
  {
   "cell_type": "code",
   "execution_count": 64,
   "metadata": {},
   "outputs": [
    {
     "data": {
      "image/png": "[encoded data removed]",
      "text/plain": [
       "<Figure size 432x288 with 2 Axes>"
      ]
     },
     "metadata": {
      "needs_background": "light"
     },
     "output_type": "display_data"
    }
   ],
   "source": [
    "goal_array = np.array([df['negativejudg'],df['learning'],df['favorablejudg'],df['income_rank_p'],df['teacher_effect'], df['parental_edu'], df['private_edu']])\n",
    "\n",
    "cov = np.cov(goal_array , bias = True).round(2)\n",
    "goals = ['negativejudg','learning','favorablejudg','income_rank_p','teacher_effect', 'parental_edu', 'private_edu']\n",
    "\n",
    "sns.heatmap(cov, annot = True, fmt= 'g', xticklabels = goals, yticklabels=goals )\n",
    "plt.show()"
   ]
  },
  {
   "cell_type": "markdown",
   "metadata": {},
   "source": [
    "<h2> Goal Scale </h2>"
   ]
  },
  {
   "cell_type": "code",
   "execution_count": 86,
   "metadata": {},
   "outputs": [],
   "source": [
    "goal_list = ['learning', 'betterperson', 'betterjob', 'futurework', 'forsociety', 'favorablejudg',  'popular',  'competition', 'forced', 'negativejudg',  'penalty']"
   ]
  },
  {
   "cell_type": "code",
   "execution_count": 143,
   "metadata": {
    "scrolled": true
   },
   "outputs": [
    {
     "name": "stdout",
     "output_type": "stream",
     "text": [
      "=======================================================\n",
      "Dependent variable:\tlearning\n",
      "N:\t\t\t1739\n",
      "R-squared:\t\t0.2214\n",
      "Estimation method:\tOLS\n",
      "VCE method:\t\tStandard (Homosk.)\n",
      "Fixed effects by:\tyear\n",
      "  No. of FE:\t\t  2\n",
      "=======================================================\n",
      "                coeff    se      t   p>t CI_low CI_high\n",
      "income_rank_p   0.010 0.105  0.097 0.923 -0.196   0.216\n",
      "region          0.003 0.004  0.873 0.383 -0.004   0.011\n",
      "schooltype      0.008 0.007  1.230 0.219 -0.005   0.021\n",
      "GENDER         -0.217 0.037 -5.881 0.000 -0.289  -0.144\n",
      "parental_edu    0.025 0.017  1.455 0.146 -0.009   0.058\n",
      "attainment      0.079 0.011  7.418 0.000  0.058   0.099\n",
      "teacher_effect  0.122 0.023  5.439 0.000  0.078   0.167\n",
      "pressure_mom    0.015 0.013  1.170 0.242 -0.010   0.041\n",
      "betterperson    0.270 0.029  9.359 0.000  0.214   0.327\n",
      "betterjob      -0.135 0.030 -4.501 0.000 -0.194  -0.076\n",
      "futurework      0.061 0.027  2.250 0.025  0.008   0.115\n",
      "forsociety      0.063 0.023  2.710 0.007  0.017   0.109\n",
      "favorablejudg   0.037 0.023  1.625 0.104 -0.008   0.081\n",
      "popular         0.141 0.027  5.311 0.000  0.089   0.193\n",
      "competition    -0.004 0.020 -0.200 0.842 -0.043   0.035\n",
      "forced         -0.050 0.021 -2.320 0.020 -0.092  -0.008\n",
      "negativejudg   -0.014 0.020 -0.695 0.487 -0.054   0.026\n",
      "penalty         0.013 0.026  0.508 0.612 -0.038   0.064\n",
      "=======================================================\n",
      "\n",
      "=======================================================\n",
      "Dependent variable:\tbetterperson\n",
      "N:\t\t\t1739\n",
      "R-squared:\t\t0.4407\n",
      "Estimation method:\tOLS\n",
      "VCE method:\t\tStandard (Homosk.)\n",
      "Fixed effects by:\tyear\n",
      "  No. of FE:\t\t  2\n",
      "=======================================================\n",
      "                coeff    se      t   p>t CI_low CI_high\n",
      "income_rank_p   0.025 0.085  0.296 0.768 -0.142   0.193\n",
      "region         -0.001 0.003 -0.437 0.662 -0.008   0.005\n",
      "schooltype      0.002 0.005  0.362 0.717 -0.009   0.013\n",
      "GENDER          0.018 0.030  0.580 0.562 -0.042   0.077\n",
      "parental_edu    0.021 0.014  1.517 0.129 -0.006   0.048\n",
      "attainment      0.013 0.009  1.538 0.124 -0.004   0.031\n",
      "teacher_effect -0.010 0.018 -0.559 0.576 -0.047   0.026\n",
      "pressure_mom    0.032 0.011  3.038 0.002  0.011   0.053\n",
      "learning        0.179 0.019  9.359 0.000  0.142   0.217\n",
      "betterjob       0.438 0.022 19.684 0.000  0.394   0.481\n",
      "futurework      0.077 0.022  3.474 0.001  0.034   0.121\n",
      "forsociety      0.148 0.019  7.902 0.000  0.111   0.185\n",
      "favorablejudg   0.036 0.018  1.940 0.053 -0.000   0.072\n",
      "popular        -0.060 0.022 -2.751 0.006 -0.103  -0.017\n",
      "competition     0.028 0.016  1.741 0.082 -0.004   0.060\n",
      "forced         -0.043 0.017 -2.494 0.013 -0.078  -0.009\n",
      "negativejudg    0.033 0.016  1.985 0.047  0.000   0.065\n",
      "penalty        -0.029 0.021 -1.386 0.166 -0.070   0.012\n",
      "=======================================================\n",
      "\n",
      "=======================================================\n",
      "Dependent variable:\tbetterjob\n",
      "N:\t\t\t1739\n",
      "R-squared:\t\t0.4339\n",
      "Estimation method:\tOLS\n",
      "VCE method:\t\tStandard (Homosk.)\n",
      "Fixed effects by:\tyear\n",
      "  No. of FE:\t\t  2\n",
      "=======================================================\n",
      "                coeff    se      t   p>t CI_low CI_high\n",
      "income_rank_p   0.019 0.084  0.223 0.823 -0.145   0.183\n",
      "region          0.004 0.003  1.210 0.227 -0.002   0.010\n",
      "schooltype      0.002 0.005  0.299 0.765 -0.009   0.012\n",
      "GENDER          0.011 0.030  0.364 0.716 -0.047   0.069\n",
      "parental_edu   -0.022 0.014 -1.635 0.102 -0.049   0.004\n",
      "attainment      0.036 0.009  4.261 0.000  0.020   0.053\n",
      "teacher_effect  0.019 0.018  1.035 0.301 -0.017   0.054\n",
      "pressure_mom   -0.018 0.010 -1.711 0.087 -0.038   0.003\n",
      "learning       -0.086 0.019 -4.501 0.000 -0.124  -0.049\n",
      "betterperson    0.420 0.021 19.684 0.000  0.379   0.462\n",
      "futurework      0.270 0.021 12.929 0.000  0.229   0.310\n",
      "forsociety      0.006 0.019  0.321 0.749 -0.031   0.043\n",
      "favorablejudg   0.056 0.018  3.143 0.002  0.021   0.092\n",
      "popular        -0.023 0.021 -1.063 0.288 -0.065   0.019\n",
      "competition    -0.010 0.016 -0.627 0.531 -0.041   0.021\n",
      "forced          0.063 0.017  3.675 0.000  0.029   0.096\n",
      "negativejudg    0.067 0.016  4.192 0.000  0.036   0.098\n",
      "penalty        -0.098 0.020 -4.799 0.000 -0.138  -0.058\n",
      "=======================================================\n",
      "\n",
      "=======================================================\n",
      "Dependent variable:\tfuturework\n",
      "N:\t\t\t1739\n",
      "R-squared:\t\t0.3615\n",
      "Estimation method:\tOLS\n",
      "VCE method:\t\tStandard (Homosk.)\n",
      "Fixed effects by:\tyear\n",
      "  No. of FE:\t\t  2\n",
      "=======================================================\n",
      "                coeff    se      t   p>t CI_low CI_high\n",
      "income_rank_p   0.107 0.092  1.158 0.247 -0.074   0.288\n",
      "region         -0.004 0.003 -1.209 0.227 -0.011   0.003\n",
      "schooltype      0.014 0.006  2.386 0.017  0.003   0.026\n",
      "GENDER         -0.109 0.033 -3.350 0.001 -0.174  -0.045\n",
      "parental_edu   -0.003 0.015 -0.192 0.847 -0.032   0.027\n",
      "attainment      0.009 0.009  0.932 0.351 -0.010   0.027\n",
      "teacher_effect  0.035 0.020  1.750 0.080 -0.004   0.074\n",
      "pressure_mom   -0.006 0.012 -0.488 0.626 -0.028   0.017\n",
      "learning        0.048 0.021  2.250 0.025  0.006   0.089\n",
      "betterperson    0.090 0.026  3.474 0.001  0.039   0.141\n",
      "betterjob       0.329 0.025 12.929 0.000  0.279   0.379\n",
      "forsociety      0.217 0.020 10.893 0.000  0.178   0.257\n",
      "favorablejudg  -0.038 0.020 -1.937 0.053 -0.077   0.000\n",
      "popular        -0.055 0.024 -2.333 0.020 -0.101  -0.009\n",
      "competition     0.054 0.017  3.116 0.002  0.020   0.088\n",
      "forced         -0.023 0.019 -1.196 0.232 -0.060   0.014\n",
      "negativejudg    0.016 0.018  0.900 0.368 -0.019   0.051\n",
      "penalty        -0.092 0.023 -4.046 0.000 -0.136  -0.047\n",
      "=======================================================\n",
      "\n",
      "=======================================================\n",
      "Dependent variable:\tforsociety\n",
      "N:\t\t\t1739\n",
      "R-squared:\t\t0.2890\n",
      "Estimation method:\tOLS\n",
      "VCE method:\t\tStandard (Homosk.)\n",
      "Fixed effects by:\tyear\n",
      "  No. of FE:\t\t  2\n",
      "=======================================================\n",
      "                coeff    se      t   p>t CI_low CI_high\n",
      "income_rank_p  -0.074 0.108 -0.681 0.496 -0.285   0.138\n",
      "region          0.005 0.004  1.134 0.257 -0.003   0.012\n",
      "schooltype     -0.004 0.007 -0.593 0.553 -0.018   0.009\n",
      "GENDER          0.012 0.038  0.320 0.749 -0.063   0.087\n",
      "parental_edu    0.007 0.018  0.417 0.677 -0.027   0.042\n",
      "attainment     -0.007 0.011 -0.610 0.542 -0.029   0.015\n",
      "teacher_effect  0.070 0.023  3.008 0.003  0.024   0.116\n",
      "pressure_mom    0.001 0.013  0.090 0.928 -0.025   0.028\n",
      "learning        0.067 0.025  2.710 0.007  0.019   0.116\n",
      "betterperson    0.237 0.030  7.902 0.000  0.178   0.296\n",
      "betterjob       0.010 0.031  0.321 0.749 -0.051   0.071\n",
      "futurework      0.297 0.027 10.893 0.000  0.243   0.350\n",
      "favorablejudg   0.169 0.023  7.382 0.000  0.124   0.214\n",
      "popular         0.043 0.028  1.575 0.116 -0.011   0.098\n",
      "competition     0.046 0.020  2.273 0.023  0.006   0.086\n",
      "forced         -0.092 0.022 -4.178 0.000 -0.135  -0.049\n",
      "negativejudg    0.008 0.021  0.367 0.714 -0.033   0.048\n",
      "penalty         0.010 0.027  0.387 0.699 -0.042   0.062\n",
      "=======================================================\n",
      "\n",
      "=======================================================\n",
      "Dependent variable:\tfavorablejudg\n",
      "N:\t\t\t1739\n",
      "R-squared:\t\t0.3664\n",
      "Estimation method:\tOLS\n",
      "VCE method:\t\tStandard (Homosk.)\n",
      "Fixed effects by:\tyear\n",
      "  No. of FE:\t\t  2\n",
      "=======================================================\n",
      "                coeff    se      t   p>t CI_low CI_high\n",
      "income_rank_p   0.178 0.112  1.583 0.114 -0.042   0.398\n",
      "region          0.002 0.004  0.445 0.656 -0.006   0.010\n",
      "schooltype     -0.023 0.007 -3.251 0.001 -0.037  -0.009\n",
      "GENDER         -0.222 0.039 -5.620 0.000 -0.299  -0.144\n",
      "parental_edu    0.008 0.018  0.461 0.645 -0.027   0.044\n",
      "attainment      0.012 0.012  1.083 0.279 -0.010   0.035\n",
      "teacher_effect  0.033 0.024  1.347 0.178 -0.015   0.080\n",
      "pressure_mom   -0.007 0.014 -0.468 0.640 -0.034   0.021\n",
      "learning        0.042 0.026  1.625 0.104 -0.009   0.092\n",
      "betterperson    0.061 0.032  1.940 0.053 -0.001   0.124\n",
      "betterjob       0.101 0.032  3.143 0.002  0.038   0.165\n",
      "futurework     -0.057 0.029 -1.937 0.053 -0.114   0.001\n",
      "forsociety      0.182 0.025  7.382 0.000  0.134   0.231\n",
      "popular         0.377 0.027 13.830 0.000  0.323   0.430\n",
      "competition     0.024 0.021  1.132 0.258 -0.018   0.066\n",
      "forced          0.223 0.022 10.014 0.000  0.180   0.267\n",
      "negativejudg    0.055 0.022  2.554 0.011  0.013   0.097\n",
      "penalty         0.042 0.028  1.524 0.128 -0.012   0.096\n",
      "=======================================================\n",
      "\n"
     ]
    },
    {
     "name": "stdout",
     "output_type": "stream",
     "text": [
      "=======================================================\n",
      "Dependent variable:\tpopular\n",
      "N:\t\t\t1739\n",
      "R-squared:\t\t0.4186\n",
      "Estimation method:\tOLS\n",
      "VCE method:\t\tStandard (Homosk.)\n",
      "Fixed effects by:\tyear\n",
      "  No. of FE:\t\t  2\n",
      "=======================================================\n",
      "                coeff    se      t   p>t CI_low CI_high\n",
      "income_rank_p   0.052 0.094  0.554 0.580 -0.133   0.237\n",
      "region         -0.004 0.004 -1.256 0.209 -0.011   0.002\n",
      "schooltype      0.006 0.006  1.020 0.308 -0.006   0.018\n",
      "GENDER          0.110 0.033  3.313 0.001  0.045   0.176\n",
      "parental_edu   -0.012 0.015 -0.779 0.436 -0.042   0.018\n",
      "attainment      0.018 0.010  1.878 0.061 -0.001   0.037\n",
      "teacher_effect  0.041 0.020  2.029 0.043  0.001   0.081\n",
      "pressure_mom    0.025 0.012  2.146 0.032  0.002   0.048\n",
      "learning        0.114 0.022  5.311 0.000  0.072   0.156\n",
      "betterperson   -0.073 0.027 -2.751 0.006 -0.125  -0.021\n",
      "betterjob      -0.029 0.027 -1.063 0.288 -0.082   0.024\n",
      "futurework     -0.057 0.025 -2.333 0.020 -0.106  -0.009\n",
      "forsociety      0.033 0.021  1.575 0.116 -0.008   0.074\n",
      "favorablejudg   0.266 0.019 13.830 0.000  0.228   0.304\n",
      "competition     0.190 0.017 11.015 0.000  0.156   0.224\n",
      "forced         -0.026 0.019 -1.368 0.171 -0.064   0.011\n",
      "negativejudg    0.126 0.018  7.037 0.000  0.091   0.161\n",
      "penalty         0.209 0.023  9.204 0.000  0.164   0.253\n",
      "=======================================================\n",
      "\n",
      "=======================================================\n",
      "Dependent variable:\tcompetition\n",
      "N:\t\t\t1739\n",
      "R-squared:\t\t0.3101\n",
      "Estimation method:\tOLS\n",
      "VCE method:\t\tStandard (Homosk.)\n",
      "Fixed effects by:\tyear\n",
      "  No. of FE:\t\t  2\n",
      "=======================================================\n",
      "                coeff    se      t   p>t CI_low CI_high\n",
      "income_rank_p  -0.170 0.128 -1.333 0.183 -0.420   0.080\n",
      "region         -0.000 0.005 -0.021 0.983 -0.009   0.009\n",
      "schooltype     -0.016 0.008 -1.999 0.046 -0.032  -0.000\n",
      "GENDER         -0.093 0.045 -2.063 0.039 -0.182  -0.005\n",
      "parental_edu    0.030 0.021  1.471 0.142 -0.010   0.071\n",
      "attainment      0.024 0.013  1.826 0.068 -0.002   0.050\n",
      "teacher_effect -0.037 0.028 -1.332 0.183 -0.091   0.017\n",
      "pressure_mom    0.055 0.016  3.445 0.001  0.023   0.086\n",
      "learning       -0.006 0.029 -0.200 0.842 -0.063   0.052\n",
      "betterperson    0.063 0.036  1.741 0.082 -0.008   0.133\n",
      "betterjob      -0.023 0.037 -0.627 0.531 -0.095   0.049\n",
      "futurework      0.103 0.033  3.116 0.002  0.038   0.169\n",
      "forsociety      0.065 0.028  2.273 0.023  0.009   0.120\n",
      "favorablejudg   0.031 0.027  1.132 0.258 -0.023   0.085\n",
      "popular         0.347 0.032 11.015 0.000  0.285   0.409\n",
      "forced          0.056 0.026  2.151 0.032  0.005   0.107\n",
      "negativejudg    0.290 0.024 12.319 0.000  0.243   0.336\n",
      "penalty        -0.040 0.031 -1.283 0.200 -0.102   0.021\n",
      "=======================================================\n",
      "\n",
      "=======================================================\n",
      "Dependent variable:\tforced\n",
      "N:\t\t\t1739\n",
      "R-squared:\t\t0.3445\n",
      "Estimation method:\tOLS\n",
      "VCE method:\t\tStandard (Homosk.)\n",
      "Fixed effects by:\tyear\n",
      "  No. of FE:\t\t  2\n",
      "=======================================================\n",
      "                coeff    se      t   p>t CI_low CI_high\n",
      "income_rank_p  -0.122 0.118 -1.035 0.301 -0.353   0.109\n",
      "region         -0.007 0.004 -1.529 0.126 -0.015   0.002\n",
      "schooltype      0.026 0.008  3.437 0.001  0.011   0.041\n",
      "GENDER          0.089 0.042  2.121 0.034  0.007   0.170\n",
      "parental_edu   -0.003 0.019 -0.132 0.895 -0.040   0.035\n",
      "attainment     -0.029 0.012 -2.368 0.018 -0.052  -0.005\n",
      "teacher_effect -0.047 0.026 -1.861 0.063 -0.097   0.003\n",
      "pressure_mom    0.051 0.015  3.455 0.001  0.022   0.079\n",
      "learning       -0.063 0.027 -2.320 0.020 -0.116  -0.010\n",
      "betterperson   -0.083 0.033 -2.494 0.013 -0.148  -0.018\n",
      "betterjob       0.124 0.034  3.675 0.000  0.058   0.191\n",
      "futurework     -0.037 0.031 -1.196 0.232 -0.097   0.024\n",
      "forsociety     -0.109 0.026 -4.178 0.000 -0.161  -0.058\n",
      "favorablejudg   0.247 0.025 10.014 0.000  0.198   0.295\n",
      "popular        -0.041 0.030 -1.368 0.171 -0.100   0.018\n",
      "competition     0.048 0.022  2.151 0.032  0.004   0.092\n",
      "negativejudg    0.136 0.022  6.056 0.000  0.092   0.180\n",
      "penalty         0.443 0.027 16.409 0.000  0.390   0.496\n",
      "=======================================================\n",
      "\n",
      "=======================================================\n",
      "Dependent variable:\tnegativejudg\n",
      "N:\t\t\t1739\n",
      "R-squared:\t\t0.3344\n",
      "Estimation method:\tOLS\n",
      "VCE method:\t\tStandard (Homosk.)\n",
      "Fixed effects by:\tyear\n",
      "  No. of FE:\t\t  2\n",
      "=======================================================\n",
      "                coeff    se      t   p>t CI_low CI_high\n",
      "income_rank_p   0.142 0.125  1.133 0.257 -0.104   0.388\n",
      "region          0.009 0.005  1.866 0.062 -0.000   0.018\n",
      "schooltype      0.022 0.008  2.751 0.006  0.006   0.038\n",
      "GENDER         -0.046 0.044 -1.032 0.302 -0.133   0.041\n",
      "parental_edu   -0.023 0.020 -1.131 0.258 -0.063   0.017\n",
      "attainment     -0.022 0.013 -1.738 0.082 -0.048   0.003\n",
      "teacher_effect -0.030 0.027 -1.097 0.273 -0.083   0.023\n",
      "pressure_mom    0.002 0.016  0.097 0.923 -0.029   0.032\n",
      "learning       -0.020 0.029 -0.695 0.487 -0.077   0.037\n",
      "betterperson    0.070 0.035  1.985 0.047  0.001   0.140\n",
      "betterjob       0.151 0.036  4.192 0.000  0.080   0.221\n",
      "futurework      0.029 0.033  0.900 0.368 -0.035   0.094\n",
      "forsociety      0.010 0.028  0.367 0.714 -0.045   0.065\n",
      "favorablejudg   0.069 0.027  2.554 0.011  0.016   0.122\n",
      "popular         0.223 0.032  7.037 0.000  0.161   0.285\n",
      "competition     0.280 0.023 12.319 0.000  0.236   0.325\n",
      "forced          0.154 0.025  6.056 0.000  0.104   0.204\n",
      "penalty         0.134 0.031  4.371 0.000  0.074   0.195\n",
      "=======================================================\n",
      "\n",
      "=======================================================\n",
      "Dependent variable:\tpenalty\n",
      "N:\t\t\t1739\n",
      "R-squared:\t\t0.3624\n",
      "Estimation method:\tOLS\n",
      "VCE method:\t\tStandard (Homosk.)\n",
      "Fixed effects by:\tyear\n",
      "  No. of FE:\t\t  2\n",
      "=======================================================\n",
      "                coeff    se      t   p>t CI_low CI_high\n",
      "income_rank_p  -0.126 0.098 -1.282 0.200 -0.318   0.067\n",
      "region          0.006 0.004  1.521 0.128 -0.002   0.013\n",
      "schooltype     -0.022 0.006 -3.489 0.000 -0.034  -0.010\n",
      "GENDER          0.057 0.035  1.632 0.103 -0.011   0.125\n",
      "parental_edu    0.008 0.016  0.508 0.612 -0.023   0.039\n",
      "attainment     -0.009 0.010 -0.920 0.358 -0.029   0.010\n",
      "teacher_effect  0.006 0.021  0.261 0.794 -0.036   0.047\n",
      "pressure_mom   -0.001 0.012 -0.114 0.909 -0.025   0.023\n",
      "learning        0.011 0.023  0.508 0.612 -0.033   0.056\n",
      "betterperson   -0.038 0.028 -1.386 0.166 -0.093   0.016\n",
      "betterjob      -0.135 0.028 -4.799 0.000 -0.190  -0.080\n",
      "futurework     -0.103 0.025 -4.046 0.000 -0.153  -0.053\n",
      "forsociety      0.008 0.022  0.387 0.699 -0.034   0.051\n",
      "favorablejudg   0.032 0.021  1.524 0.128 -0.009   0.073\n",
      "popular         0.225 0.024  9.204 0.000  0.177   0.273\n",
      "competition    -0.024 0.019 -1.283 0.200 -0.060   0.013\n",
      "forced          0.306 0.019 16.409 0.000  0.269   0.342\n",
      "negativejudg    0.082 0.019  4.371 0.000  0.045   0.119\n",
      "=======================================================\n",
      "\n"
     ]
    }
   ],
   "source": [
    "for i in goal_list:\n",
    "    exog = ['income_rank_p', 'region', 'schooltype', 'GENDER', 'parental_edu', 'attainment', 'teacher_effect', 'pressure_mom'] + goal_list\n",
    "    exog.remove(i)\n",
    "    print(mt.reg(df, i , exog, fe_name = 'year', addcons = True))\n",
    "    a = mt.reg(df, i , exog)"
   ]
  },
  {
   "cell_type": "code",
   "execution_count": 148,
   "metadata": {},
   "outputs": [
    {
     "name": "stdout",
     "output_type": "stream",
     "text": [
      "=======================================================\n",
      "Dependent variable:\tlearning\n",
      "N:\t\t\t1739\n",
      "R-squared:\t\t0.2200\n",
      "Estimation method:\tOLS\n",
      "VCE method:\t\tStandard (Homosk.)\n",
      "Fixed effects by:\tyear\n",
      "  No. of FE:\t\t  2\n",
      "=======================================================\n",
      "                coeff    se      t   p>t CI_low CI_high\n",
      "income_rank_p   0.015 0.105  0.142 0.887 -0.191   0.220\n",
      "region          0.003 0.004  0.866 0.387 -0.004   0.011\n",
      "schooltype      0.007 0.007  1.073 0.283 -0.006   0.020\n",
      "GENDER         -0.224 0.036 -6.155 0.000 -0.296  -0.153\n",
      "parental_edu    0.025 0.017  1.492 0.136 -0.008   0.059\n",
      "attainment      0.080 0.011  7.508 0.000  0.059   0.100\n",
      "teacher_effect  0.124 0.022  5.521 0.000  0.080   0.168\n",
      "pressure_mom    0.015 0.013  1.152 0.249 -0.011   0.041\n",
      "betterperson    0.272 0.029  9.445 0.000  0.216   0.329\n",
      "betterjob      -0.134 0.030 -4.485 0.000 -0.192  -0.075\n",
      "futurework      0.059 0.027  2.168 0.030  0.006   0.113\n",
      "forsociety      0.070 0.023  3.037 0.002  0.025   0.115\n",
      "popular         0.152 0.025  6.173 0.000  0.104   0.201\n",
      "competition    -0.006 0.019 -0.342 0.733 -0.044   0.031\n",
      "forced         -0.044 0.021 -2.123 0.034 -0.084  -0.003\n",
      "penalty         0.013 0.026  0.508 0.612 -0.037   0.063\n",
      "=======================================================\n",
      "\n",
      "=======================================================\n",
      "Dependent variable:\tperf\n",
      "N:\t\t\t1739\n",
      "R-squared:\t\t0.4822\n",
      "Estimation method:\tOLS\n",
      "VCE method:\t\tStandard (Homosk.)\n",
      "Fixed effects by:\tyear\n",
      "  No. of FE:\t\t  2\n",
      "=======================================================\n",
      "                coeff    se      t   p>t CI_low CI_high\n",
      "income_rank_p   0.341 0.174  1.965 0.050  0.001   0.682\n",
      "region          0.011 0.006  1.737 0.083 -0.001   0.024\n",
      "schooltype     -0.002 0.011 -0.147 0.883 -0.023   0.020\n",
      "GENDER         -0.286 0.061 -4.695 0.000 -0.406  -0.167\n",
      "parental_edu   -0.015 0.028 -0.546 0.585 -0.071   0.040\n",
      "attainment     -0.010 0.018 -0.579 0.563 -0.045   0.025\n",
      "teacher_effect  0.004 0.038  0.094 0.925 -0.070   0.077\n",
      "pressure_mom   -0.005 0.022 -0.251 0.802 -0.048   0.037\n",
      "betterperson    0.140 0.049  2.867 0.004  0.044   0.236\n",
      "betterjob       0.269 0.050  5.409 0.000  0.171   0.366\n",
      "futurework     -0.030 0.045 -0.653 0.514 -0.118   0.059\n",
      "forsociety      0.206 0.038  5.402 0.000  0.131   0.281\n",
      "popular         0.640 0.041 15.485 0.000  0.559   0.721\n",
      "competition     0.323 0.031 10.256 0.000  0.261   0.384\n",
      "forced          0.403 0.034 11.818 0.000  0.336   0.469\n",
      "penalty         0.187 0.043  4.410 0.000  0.104   0.271\n",
      "learning        0.024 0.040  0.594 0.553 -0.055   0.102\n",
      "=======================================================\n",
      "\n",
      "=======================================================\n",
      "Dependent variable:\tperfshare\n",
      "N:\t\t\t1739\n",
      "R-squared:\t\t0.6265\n",
      "Estimation method:\tOLS\n",
      "VCE method:\t\tStandard (Homosk.)\n",
      "Fixed effects by:\tyear\n",
      "  No. of FE:\t\t  2\n",
      "=======================================================\n",
      "                coeff    se       t   p>t CI_low CI_high\n",
      "income_rank_p   0.020 0.008   2.347 0.019  0.003   0.036\n",
      "region          0.001 0.000   3.021 0.003  0.000   0.002\n",
      "schooltype     -0.000 0.001  -0.085 0.932 -0.001   0.001\n",
      "GENDER         -0.015 0.003  -4.978 0.000 -0.021  -0.009\n",
      "parental_edu   -0.000 0.001  -0.238 0.812 -0.003   0.002\n",
      "attainment     -0.001 0.001  -0.907 0.364 -0.002   0.001\n",
      "teacher_effect  0.001 0.002   0.517 0.605 -0.003   0.005\n",
      "pressure_mom   -0.000 0.001  -0.281 0.778 -0.002   0.002\n",
      "betterperson    0.006 0.002   2.490 0.013  0.001   0.011\n",
      "betterjob       0.011 0.002   4.610 0.000  0.006   0.016\n",
      "futurework     -0.003 0.002  -1.421 0.156 -0.007   0.001\n",
      "forsociety      0.009 0.002   5.004 0.000  0.006   0.013\n",
      "popular         0.029 0.002  14.601 0.000  0.025   0.033\n",
      "competition     0.014 0.002   9.046 0.000  0.011   0.017\n",
      "forced          0.019 0.002  11.252 0.000  0.015   0.022\n",
      "penalty         0.009 0.002   4.407 0.000  0.005   0.013\n",
      "learning       -0.081 0.002 -41.711 0.000 -0.085  -0.077\n",
      "=======================================================\n",
      "\n"
     ]
    }
   ],
   "source": [
    "other_goals = ['betterperson', 'betterjob', 'futurework', 'forsociety',  'popular',  'competition', 'forced',  'penalty']\n",
    "for i in ['learning', 'perf', 'perfshare']:\n",
    "    exog = ['income_rank_p', 'region', 'schooltype', 'GENDER', 'parental_edu', 'attainment', 'teacher_effect', 'pressure_mom'] + other_goals\n",
    "    if i != 'learning':\n",
    "        exog.append('learning')\n",
    "    print(mt.reg(df, i , exog, fe_name = 'year', addcons = True))\n",
    "    a = mt.reg(df, i , exog)"
   ]
  },
  {
   "cell_type": "code",
   "execution_count": 199,
   "metadata": {
    "scrolled": true
   },
   "outputs": [
    {
     "name": "stdout",
     "output_type": "stream",
     "text": [
      "=======================================================\n",
      "Dependent variable:\tlearning\n",
      "N:\t\t\t1739\n",
      "R-squared:\t\t0.1231\n",
      "Estimation method:\tOLS\n",
      "VCE method:\t\tStandard (Homosk.)\n",
      "Fixed effects by:\tyear\n",
      "  No. of FE:\t\t  2\n",
      "=======================================================\n",
      "                coeff    se      t   p>t CI_low CI_high\n",
      "income_rank_p   0.064 0.111  0.582 0.561 -0.153   0.281\n",
      "region          0.004 0.004  1.004 0.315 -0.004   0.012\n",
      "schooltype      0.008 0.007  1.194 0.233 -0.005   0.022\n",
      "GENDER         -0.275 0.038 -7.234 0.000 -0.349  -0.200\n",
      "parental_edu    0.035 0.018  1.973 0.049  0.000   0.071\n",
      "attainment      0.106 0.011  9.788 0.000  0.085   0.128\n",
      "teacher_effect  0.169 0.023  7.232 0.000  0.123   0.215\n",
      "pressure_mom    0.037 0.014  2.713 0.007  0.010   0.063\n",
      "=======================================================\n",
      "\n",
      "=======================================================\n",
      "Dependent variable:\tbetterperson\n",
      "N:\t\t\t1739\n",
      "R-squared:\t\t0.0701\n",
      "Estimation method:\tOLS\n",
      "VCE method:\t\tStandard (Homosk.)\n",
      "Fixed effects by:\tyear\n",
      "  No. of FE:\t\t  2\n",
      "=======================================================\n",
      "                coeff    se      t   p>t CI_low CI_high\n",
      "income_rank_p   0.151 0.109  1.377 0.169 -0.064   0.365\n",
      "region          0.003 0.004  0.690 0.491 -0.005   0.011\n",
      "schooltype      0.013 0.007  1.832 0.067 -0.001   0.026\n",
      "GENDER         -0.150 0.038 -3.986 0.000 -0.223  -0.076\n",
      "parental_edu    0.023 0.018  1.321 0.187 -0.011   0.058\n",
      "attainment      0.086 0.011  8.040 0.000  0.065   0.107\n",
      "teacher_effect  0.084 0.023  3.613 0.000  0.038   0.129\n",
      "pressure_mom    0.042 0.013  3.158 0.002  0.016   0.068\n",
      "=======================================================\n",
      "\n",
      "=======================================================\n",
      "Dependent variable:\tbetterjob\n",
      "N:\t\t\t1739\n",
      "R-squared:\t\t0.0533\n",
      "Estimation method:\tOLS\n",
      "VCE method:\t\tStandard (Homosk.)\n",
      "Fixed effects by:\tyear\n",
      "  No. of FE:\t\t  2\n",
      "=======================================================\n",
      "                coeff    se      t   p>t CI_low CI_high\n",
      "income_rank_p   0.159 0.108  1.477 0.140 -0.052   0.370\n",
      "region          0.005 0.004  1.164 0.244 -0.003   0.013\n",
      "schooltype      0.016 0.007  2.362 0.018  0.003   0.029\n",
      "GENDER         -0.115 0.037 -3.126 0.002 -0.188  -0.043\n",
      "parental_edu   -0.017 0.017 -0.975 0.330 -0.051   0.017\n",
      "attainment      0.084 0.011  7.932 0.000  0.063   0.104\n",
      "teacher_effect  0.069 0.023  3.026 0.003  0.024   0.114\n",
      "pressure_mom    0.004 0.013  0.316 0.752 -0.022   0.030\n",
      "=======================================================\n",
      "\n",
      "=======================================================\n",
      "Dependent variable:\tfuturework\n",
      "N:\t\t\t1739\n",
      "R-squared:\t\t0.0700\n",
      "Estimation method:\tOLS\n",
      "VCE method:\t\tStandard (Homosk.)\n",
      "Fixed effects by:\tyear\n",
      "  No. of FE:\t\t  2\n",
      "=======================================================\n",
      "                coeff    se      t   p>t CI_low CI_high\n",
      "income_rank_p   0.200 0.111  1.808 0.071 -0.017   0.418\n",
      "region         -0.001 0.004 -0.254 0.799 -0.009   0.007\n",
      "schooltype      0.024 0.007  3.424 0.001  0.010   0.038\n",
      "GENDER         -0.225 0.038 -5.910 0.000 -0.300  -0.150\n",
      "parental_edu   -0.000 0.018 -0.011 0.991 -0.036   0.035\n",
      "attainment      0.065 0.011  5.944 0.000  0.043   0.086\n",
      "teacher_effect  0.103 0.023  4.403 0.000  0.057   0.149\n",
      "pressure_mom    0.001 0.014  0.057 0.955 -0.026   0.027\n",
      "=======================================================\n",
      "\n",
      "=======================================================\n",
      "Dependent variable:\tforsociety\n",
      "N:\t\t\t1739\n",
      "R-squared:\t\t0.0444\n",
      "Estimation method:\tOLS\n",
      "VCE method:\t\tStandard (Homosk.)\n",
      "Fixed effects by:\tyear\n",
      "  No. of FE:\t\t  2\n",
      "=======================================================\n",
      "                coeff    se      t   p>t CI_low CI_high\n",
      "income_rank_p   0.072 0.124  0.576 0.564 -0.172   0.316\n",
      "region          0.007 0.005  1.411 0.158 -0.003   0.016\n",
      "schooltype      0.001 0.008  0.170 0.865 -0.014   0.017\n",
      "GENDER         -0.168 0.043 -3.929 0.000 -0.252  -0.084\n",
      "parental_edu    0.019 0.020  0.928 0.353 -0.021   0.058\n",
      "attainment      0.056 0.012  4.563 0.000  0.032   0.080\n",
      "teacher_effect  0.158 0.026  5.987 0.000  0.106   0.209\n",
      "pressure_mom    0.027 0.015  1.751 0.080 -0.003   0.056\n",
      "=======================================================\n",
      "\n",
      "=======================================================\n",
      "Dependent variable:\tfavorablejudg\n",
      "N:\t\t\t1739\n",
      "R-squared:\t\t0.0398\n",
      "Estimation method:\tOLS\n",
      "VCE method:\t\tStandard (Homosk.)\n",
      "Fixed effects by:\tyear\n",
      "  No. of FE:\t\t  2\n",
      "=======================================================\n",
      "                coeff    se      t   p>t CI_low CI_high\n",
      "income_rank_p   0.189 0.137  1.376 0.169 -0.080   0.458\n",
      "region          0.005 0.005  0.908 0.364 -0.005   0.015\n",
      "schooltype     -0.021 0.009 -2.430 0.015 -0.038  -0.004\n",
      "GENDER         -0.252 0.047 -5.341 0.000 -0.344  -0.159\n",
      "parental_edu    0.012 0.022  0.520 0.603 -0.032   0.055\n",
      "attainment      0.043 0.013  3.159 0.002  0.016   0.069\n",
      "teacher_effect  0.090 0.029  3.103 0.002  0.033   0.147\n",
      "pressure_mom    0.065 0.017  3.906 0.000  0.033   0.098\n",
      "=======================================================\n",
      "\n",
      "=======================================================\n",
      "Dependent variable:\tpopular\n",
      "N:\t\t\t1739\n",
      "R-squared:\t\t0.0326\n",
      "Estimation method:\tOLS\n",
      "VCE method:\t\tStandard (Homosk.)\n",
      "Fixed effects by:\tyear\n",
      "  No. of FE:\t\t  2\n",
      "=======================================================\n",
      "                coeff    se      t   p>t CI_low CI_high\n",
      "income_rank_p   0.052 0.121  0.429 0.668 -0.185   0.289\n",
      "region          0.001 0.005  0.125 0.901 -0.008   0.009\n",
      "schooltype     -0.006 0.008 -0.729 0.466 -0.021   0.009\n",
      "GENDER          0.010 0.042  0.235 0.815 -0.072   0.091\n",
      "parental_edu   -0.001 0.020 -0.026 0.979 -0.039   0.038\n",
      "attainment      0.037 0.012  3.136 0.002  0.014   0.060\n",
      "teacher_effect  0.078 0.026  3.054 0.002  0.028   0.128\n",
      "pressure_mom    0.085 0.015  5.772 0.000  0.056   0.114\n",
      "=======================================================\n",
      "\n",
      "=======================================================\n",
      "Dependent variable:\tcompetition\n",
      "N:\t\t\t1739\n",
      "R-squared:\t\t0.0388\n",
      "Estimation method:\tOLS\n",
      "VCE method:\t\tStandard (Homosk.)\n",
      "Fixed effects by:\tyear\n",
      "  No. of FE:\t\t  2\n",
      "=======================================================\n",
      "                coeff    se      t   p>t CI_low CI_high\n",
      "income_rank_p  -0.078 0.150 -0.518 0.605 -0.371   0.216\n",
      "region          0.004 0.006  0.642 0.521 -0.007   0.015\n",
      "schooltype     -0.009 0.009 -0.915 0.360 -0.027   0.010\n",
      "GENDER         -0.168 0.051 -3.260 0.001 -0.268  -0.067\n",
      "parental_edu    0.028 0.024  1.163 0.245 -0.019   0.076\n",
      "attainment      0.054 0.015  3.664 0.000  0.025   0.083\n",
      "teacher_effect  0.015 0.032  0.470 0.639 -0.047   0.077\n",
      "pressure_mom    0.117 0.018  6.424 0.000  0.082   0.153\n",
      "=======================================================\n",
      "\n",
      "=======================================================\n",
      "Dependent variable:\tforced\n",
      "N:\t\t\t1739\n",
      "R-squared:\t\t0.0280\n",
      "Estimation method:\tOLS\n",
      "VCE method:\t\tStandard (Homosk.)\n",
      "Fixed effects by:\tyear\n",
      "  No. of FE:\t\t  2\n",
      "=======================================================\n",
      "                coeff    se      t   p>t CI_low CI_high\n",
      "income_rank_p  -0.159 0.143 -1.115 0.265 -0.439   0.121\n",
      "region         -0.002 0.005 -0.376 0.707 -0.012   0.008\n",
      "schooltype      0.012 0.009  1.354 0.176 -0.005   0.030\n",
      "GENDER          0.096 0.049  1.964 0.050  0.000   0.192\n",
      "parental_edu   -0.006 0.023 -0.255 0.799 -0.051   0.040\n",
      "attainment     -0.042 0.014 -2.963 0.003 -0.069  -0.014\n",
      "teacher_effect -0.063 0.030 -2.088 0.037 -0.122  -0.004\n",
      "pressure_mom    0.094 0.017  5.418 0.000  0.060   0.129\n",
      "=======================================================\n",
      "\n",
      "=======================================================\n",
      "Dependent variable:\tnegativejudg\n",
      "N:\t\t\t1739\n",
      "R-squared:\t\t0.0219\n",
      "Estimation method:\tOLS\n",
      "VCE method:\t\tStandard (Homosk.)\n",
      "Fixed effects by:\tyear\n",
      "  No. of FE:\t\t  2\n",
      "=======================================================\n",
      "                coeff    se      t   p>t CI_low CI_high\n",
      "income_rank_p   0.135 0.151  0.892 0.372 -0.162   0.431\n",
      "region          0.011 0.006  2.034 0.042  0.000   0.022\n",
      "schooltype      0.020 0.010  2.044 0.041  0.001   0.038\n",
      "GENDER         -0.109 0.052 -2.090 0.037 -0.210  -0.007\n",
      "parental_edu   -0.016 0.025 -0.648 0.517 -0.064   0.032\n",
      "attainment      0.012 0.015  0.827 0.408 -0.017   0.041\n",
      "teacher_effect  0.004 0.032  0.126 0.899 -0.059   0.067\n",
      "pressure_mom    0.082 0.018  4.465 0.000  0.046   0.119\n",
      "=======================================================\n",
      "\n"
     ]
    },
    {
     "name": "stdout",
     "output_type": "stream",
     "text": [
      "=======================================================\n",
      "Dependent variable:\tpenalty\n",
      "N:\t\t\t1739\n",
      "R-squared:\t\t0.0375\n",
      "Estimation method:\tOLS\n",
      "VCE method:\t\tStandard (Homosk.)\n",
      "Fixed effects by:\tyear\n",
      "  No. of FE:\t\t  2\n",
      "=======================================================\n",
      "                coeff    se      t   p>t CI_low CI_high\n",
      "income_rank_p  -0.190 0.120 -1.589 0.112 -0.425   0.045\n",
      "region          0.006 0.004  1.244 0.214 -0.003   0.014\n",
      "schooltype     -0.023 0.008 -3.064 0.002 -0.038  -0.008\n",
      "GENDER          0.115 0.041  2.803 0.005  0.035   0.196\n",
      "parental_edu    0.007 0.019  0.336 0.737 -0.032   0.045\n",
      "attainment     -0.032 0.012 -2.728 0.006 -0.055  -0.009\n",
      "teacher_effect -0.013 0.025 -0.518 0.604 -0.063   0.037\n",
      "pressure_mom    0.051 0.015  3.498 0.000  0.022   0.080\n",
      "=======================================================\n",
      "\n"
     ]
    }
   ],
   "source": [
    "j = 1\n",
    "reg_result = []\n",
    "for i in goal_list:\n",
    "    exog = ['income_rank_p', 'region', 'schooltype', 'GENDER', 'parental_edu', 'attainment', 'teacher_effect', 'pressure_mom']\n",
    "    print(mt.reg(df, i , exog, fe_name = 'year', addcons = True))\n",
    "    globals()['reg_{}'.format(j)] = mt.reg(df, i , exog, fe_name = 'year', addcons = True)\n",
    "    reg_result.append(globals()['reg_{}'.format(j)])\n",
    "    j = j + 1\n",
    "\n",
    "regs = tuple(reg_result)\n",
    "exog_tab = ['income_rank_p', 'parental_edu', 'attainment', 'teacher_effect', 'pressure_mom', '_cons']\n",
    "# Put coefficients and standard errors in a table\n",
    "table_string = outreg(regs,\n",
    "                      exog_tab,     # Add these coefficients to the table\n",
    "                      ['Parental Income',                 # Use these label for the coeffs\n",
    "                       'Parents Education' ,\n",
    "                       'Academic Ability',\n",
    "                       'Teacher Effect',\n",
    "                       'Parents Effect','Constant'],\n",
    "                      digits=3)                           # Round to 3 decimal digits.-\n",
    "\n",
    "# Add R^2 to the table\n",
    "table_string += \"\\\\\\\\ \\n\"                           # Empty line between betas and r2\n",
    "table_string += table_statrow(\"R$^2$\",               # Add a row with this label\n",
    "                              [x.r2 for x in regs], digits=3) # Fill the row with these values\n",
    "                              \n",
    "\n",
    "# Save the table string to a file\n",
    "results_path = 'mental_reg_tab.tex'\n",
    "with open(results_path,'w') as f:\n",
    "    f.write(table_string)\n",
    "\n",
    "# Save separate file with table notes\n",
    "#notes = \"Sample size is {}.\".format(reg1.N)\n",
    "#write_notes(notes, results_path)"
   ]
  },
  {
   "cell_type": "code",
   "execution_count": 153,
   "metadata": {},
   "outputs": [],
   "source": [
    "df['income_rank_log'] = np.log(df['income_rank_p'])"
   ]
  },
  {
   "cell_type": "code",
   "execution_count": 157,
   "metadata": {},
   "outputs": [],
   "source": [
    "df['mental_log'] = np.log(df['mental_resource'])"
   ]
  },
  {
   "cell_type": "code",
   "execution_count": 175,
   "metadata": {},
   "outputs": [
    {
     "data": {
      "text/plain": [
       "count    1739.000000\n",
       "mean        3.280930\n",
       "std         0.517882\n",
       "min         1.099000\n",
       "25%         2.998000\n",
       "50%         3.298000\n",
       "75%         3.597000\n",
       "max         4.896000\n",
       "Name: mental_resource, dtype: float64"
      ]
     },
     "execution_count": 175,
     "metadata": {},
     "output_type": "execute_result"
    }
   ],
   "source": [
    "df['mental_resource'].describe()"
   ]
  },
  {
   "cell_type": "code",
   "execution_count": 176,
   "metadata": {},
   "outputs": [],
   "source": [
    "df['mental_norm'] = (df['mental_resource']-df['mental_resource'].mean())/0.517882"
   ]
  },
  {
   "cell_type": "code",
   "execution_count": 170,
   "metadata": {},
   "outputs": [],
   "source": [
    "df['perflearn'] = df['perf']+df['learning']\n",
    "df['perflearn'] = np.log(df['perflearn'])\n",
    "df['perfshare_log'] = np.log(df['perfshare'])"
   ]
  },
  {
   "cell_type": "code",
   "execution_count": 246,
   "metadata": {
    "scrolled": false
   },
   "outputs": [
    {
     "data": {
      "image/png": "[encoded data removed]",
      "text/plain": [
       "<Figure size 432x288 with 1 Axes>"
      ]
     },
     "metadata": {
      "needs_background": "light"
     },
     "output_type": "display_data"
    }
   ],
   "source": [
    "ax = sns.regplot(x=\"income_rank_p\", y=\"mental_resource\", data=df, line_kws={\"color\": \"orange\", 'linewidth': 0.5})\n",
    "ax.set(xlabel='Parental Income Rank', ylabel='Average Achievement Goals')\n",
    "plt.show()\n",
    "fig = ax.get_figure()\n",
    "fig.savefig('mental_income_r_plot.png')"
   ]
  },
  {
   "cell_type": "code",
   "execution_count": 136,
   "metadata": {},
   "outputs": [
    {
     "data": {
      "text/plain": [
       "0.011909090909090904"
      ]
     },
     "execution_count": 136,
     "metadata": {},
     "output_type": "execute_result"
    }
   ],
   "source": [
    "(0.1+0.025+0.019+0.107+ (-0.074)+(0.178)+(0.052)+(-0.17)+(-0.122)+(0.142)+(-0.126))/11"
   ]
  },
  {
   "cell_type": "code",
   "execution_count": 125,
   "metadata": {},
   "outputs": [
    {
     "name": "stdout",
     "output_type": "stream",
     "text": [
      "=======================================================\n",
      "Dependent variable:\tlearning\n",
      "N:\t\t\t1739\n",
      "R-squared:\t\t-2.0505\n",
      "Estimation method:\tOLS\n",
      "VCE method:\t\tStandard (Homosk.)\n",
      "=======================================================\n",
      "              coeff    se      t   p>t CI_low CI_high\n",
      "income_rank_p 5.797 0.078 74.583 0.000  5.644   5.949\n",
      "=======================================================\n",
      "\n",
      "=======================================================\n",
      "Dependent variable:\tbetterperson\n",
      "N:\t\t\t1739\n",
      "R-squared:\t\t-3.9812\n",
      "Estimation method:\tOLS\n",
      "VCE method:\t\tStandard (Homosk.)\n",
      "=======================================================\n",
      "              coeff    se      t   p>t CI_low CI_high\n",
      "income_rank_p 7.671 0.095 80.410 0.000  7.484   7.858\n",
      "=======================================================\n",
      "\n",
      "=======================================================\n",
      "Dependent variable:\tbetterjob\n",
      "N:\t\t\t1739\n",
      "R-squared:\t\t-4.9595\n",
      "Estimation method:\tOLS\n",
      "VCE method:\t\tStandard (Homosk.)\n",
      "=======================================================\n",
      "              coeff    se      t   p>t CI_low CI_high\n",
      "income_rank_p 8.179 0.102 80.458 0.000  7.980   8.379\n",
      "=======================================================\n",
      "\n",
      "=======================================================\n",
      "Dependent variable:\tfuturework\n",
      "N:\t\t\t1739\n",
      "R-squared:\t\t-4.5089\n",
      "Estimation method:\tOLS\n",
      "VCE method:\t\tStandard (Homosk.)\n",
      "=======================================================\n",
      "              coeff    se      t   p>t CI_low CI_high\n",
      "income_rank_p 8.285 0.102 81.493 0.000  8.086   8.484\n",
      "=======================================================\n",
      "\n",
      "=======================================================\n",
      "Dependent variable:\tforsociety\n",
      "N:\t\t\t1739\n",
      "R-squared:\t\t-2.8261\n",
      "Estimation method:\tOLS\n",
      "VCE method:\t\tStandard (Homosk.)\n",
      "=======================================================\n",
      "              coeff    se      t   p>t CI_low CI_high\n",
      "income_rank_p 7.074 0.094 75.397 0.000  6.890   7.258\n",
      "=======================================================\n",
      "\n",
      "=======================================================\n",
      "Dependent variable:\tfavorablejudg\n",
      "N:\t\t\t1739\n",
      "R-squared:\t\t-1.3666\n",
      "Estimation method:\tOLS\n",
      "VCE method:\t\tStandard (Homosk.)\n",
      "=======================================================\n",
      "              coeff    se      t   p>t CI_low CI_high\n",
      "income_rank_p 5.486 0.081 67.552 0.000  5.327   5.646\n",
      "=======================================================\n",
      "\n",
      "=======================================================\n",
      "Dependent variable:\tpopular\n",
      "N:\t\t\t1739\n",
      "R-squared:\t\t-1.0694\n",
      "Estimation method:\tOLS\n",
      "VCE method:\t\tStandard (Homosk.)\n",
      "=======================================================\n",
      "              coeff    se      t   p>t CI_low CI_high\n",
      "income_rank_p 4.231 0.067 63.502 0.000  4.101   4.362\n",
      "=======================================================\n",
      "\n",
      "=======================================================\n",
      "Dependent variable:\tcompetition\n",
      "N:\t\t\t1739\n",
      "R-squared:\t\t-1.1533\n",
      "Estimation method:\tOLS\n",
      "VCE method:\t\tStandard (Homosk.)\n",
      "=======================================================\n",
      "              coeff    se      t   p>t CI_low CI_high\n",
      "income_rank_p 5.375 0.084 63.685 0.000  5.209   5.540\n",
      "=======================================================\n",
      "\n",
      "=======================================================\n",
      "Dependent variable:\tforced\n",
      "N:\t\t\t1739\n",
      "R-squared:\t\t-1.2267\n",
      "Estimation method:\tOLS\n",
      "VCE method:\t\tStandard (Homosk.)\n",
      "=======================================================\n",
      "              coeff    se      t   p>t CI_low CI_high\n",
      "income_rank_p 5.064 0.081 62.221 0.000  4.904   5.224\n",
      "=======================================================\n",
      "\n",
      "=======================================================\n",
      "Dependent variable:\tnegativejudg\n",
      "N:\t\t\t1739\n",
      "R-squared:\t\t-1.0663\n",
      "Estimation method:\tOLS\n",
      "VCE method:\t\tStandard (Homosk.)\n",
      "=======================================================\n",
      "              coeff    se      t   p>t CI_low CI_high\n",
      "income_rank_p 5.303 0.083 64.045 0.000  5.141   5.466\n",
      "=======================================================\n",
      "\n",
      "=======================================================\n",
      "Dependent variable:\tpenalty\n",
      "N:\t\t\t1739\n",
      "R-squared:\t\t-1.0311\n",
      "Estimation method:\tOLS\n",
      "VCE method:\t\tStandard (Homosk.)\n",
      "=======================================================\n",
      "              coeff    se      t   p>t CI_low CI_high\n",
      "income_rank_p 3.681 0.065 56.243 0.000  3.553   3.810\n",
      "=======================================================\n",
      "\n"
     ]
    }
   ],
   "source": [
    "for i in goal_list:\n",
    "    exog = ['income_rank_p']\n",
    "    print(mt.reg(df, i , exog))"
   ]
  },
  {
   "cell_type": "code",
   "execution_count": 88,
   "metadata": {},
   "outputs": [
    {
     "name": "stdout",
     "output_type": "stream",
     "text": [
      "['learning', 'betterperson', 'betterjob', 'futurework', 'forsociety', 'favorablejudg', 'popular', 'competition', 'forced', 'negativejudg', 'penalty']\n"
     ]
    }
   ],
   "source": [
    "print(goal_list)"
   ]
  },
  {
   "cell_type": "code",
   "execution_count": 97,
   "metadata": {},
   "outputs": [],
   "source": [
    "df['mental_resource'] = 0\n",
    "for i in goal_list:\n",
    "    df['mental_resource'] = df['mental_resource']+df[i]\n",
    "df['mental_resource'] = df['mental_resource']/len(goal_list)\n",
    "df['mental_resource'] = df['mental_resource'].round(3)"
   ]
  },
  {
   "cell_type": "code",
   "execution_count": 99,
   "metadata": {},
   "outputs": [
    {
     "data": {
      "text/plain": [
       "count    1739.000\n",
       "mean        3.281\n",
       "std         0.518\n",
       "min         1.099\n",
       "25%         2.998\n",
       "50%         3.298\n",
       "75%         3.597\n",
       "max         4.896\n",
       "Name: mental_resource, dtype: float64"
      ]
     },
     "execution_count": 99,
     "metadata": {},
     "output_type": "execute_result"
    }
   ],
   "source": [
    "df['mental_resource'].describe().round(3)"
   ]
  },
  {
   "cell_type": "code",
   "execution_count": 106,
   "metadata": {},
   "outputs": [
    {
     "name": "stdout",
     "output_type": "stream",
     "text": [
      "lb:  2.099500000000001\n",
      "ub:  4.4955\n"
     ]
    },
    {
     "data": {
      "image/png": "[encoded data removed]",
      "text/plain": [
       "<Figure size 504x504 with 1 Axes>"
      ]
     },
     "metadata": {
      "needs_background": "light"
     },
     "output_type": "display_data"
    }
   ],
   "source": [
    "plt.figure(figsize=(7,7))\n",
    "sns.boxplot(data = df['mental_resource'])\n",
    "plt.show\n",
    "\n",
    "def outliers(data):\n",
    "    q1, q3 = np.percentile(data, [25,75])\n",
    "    iqr = q3-q1\n",
    "    lower_bound = q1 - (iqr *1.5)\n",
    "    print('lb: ', lower_bound)\n",
    "    upper_bound = q3 + (iqr * 1.5)\n",
    "    print('ub: ', upper_bound)\n",
    "\n",
    "    return np.where((data > upper_bound)|(data < lower_bound))\n",
    "\n",
    "mental_out = outliers(df['mental_resource'])"
   ]
  },
  {
   "cell_type": "code",
   "execution_count": 121,
   "metadata": {},
   "outputs": [
    {
     "data": {
      "text/plain": [
       "316.3636363636364"
      ]
     },
     "execution_count": 121,
     "metadata": {},
     "output_type": "execute_result"
    }
   ],
   "source": [
    "df.loc[df['mental_resource'] > 4.5, 'income'].mean()"
   ]
  },
  {
   "cell_type": "code",
   "execution_count": 115,
   "metadata": {},
   "outputs": [
    {
     "name": "stdout",
     "output_type": "stream",
     "text": [
      "top 50 0.41504413085989106\n",
      "bottom 50 0.3930317806134795\n"
     ]
    }
   ],
   "source": [
    "print('top 50', df.loc[df['mental_resource'] > 3.298, 'income_rank_p'].mean())\n",
    "print('bottom 50', df.loc[df['mental_resource'] < 3.298, 'income_rank_p'].mean())"
   ]
  },
  {
   "cell_type": "code",
   "execution_count": 202,
   "metadata": {},
   "outputs": [
    {
     "name": "stdout",
     "output_type": "stream",
     "text": [
      "top 25% 0.41627573359440767\n",
      "bottom 25% 0.3912602424147224\n",
      "top 25% 325.99514563106794\n",
      "bottom 25% 308.0397196261682\n"
     ]
    }
   ],
   "source": [
    "print('top 25%', df.loc[df['mental_resource'] > 3.597, 'income_rank_p'].mean())\n",
    "print('bottom 25%', df.loc[df['mental_resource'] < 2.998, 'income_rank_p'].mean())\n",
    "print('top 25%', df.loc[df['mental_resource'] > 3.597, 'income'].mean())\n",
    "print('bottom 25%', df.loc[df['mental_resource'] < 2.998, 'income'].mean())"
   ]
  },
  {
   "cell_type": "code",
   "execution_count": 210,
   "metadata": {},
   "outputs": [
    {
     "name": "stderr",
     "output_type": "stream",
     "text": [
      "C:\\Users\\thxkn\\anaconda3\\lib\\site-packages\\ipykernel_launcher.py:2: SettingWithCopyWarning: \n",
      "A value is trying to be set on a copy of a slice from a DataFrame.\n",
      "Try using .loc[row_indexer,col_indexer] = value instead\n",
      "\n",
      "See the caveats in the documentation: https://pandas.pydata.org/pandas-docs/stable/user_guide/indexing.html#returning-a-view-versus-a-copy\n",
      "  \n",
      "C:\\Users\\thxkn\\anaconda3\\lib\\site-packages\\pandas\\core\\indexing.py:965: SettingWithCopyWarning: \n",
      "A value is trying to be set on a copy of a slice from a DataFrame.\n",
      "Try using .loc[row_indexer,col_indexer] = value instead\n",
      "\n",
      "See the caveats in the documentation: https://pandas.pydata.org/pandas-docs/stable/user_guide/indexing.html#returning-a-view-versus-a-copy\n",
      "  self.obj[item] = s\n"
     ]
    },
    {
     "data": {
      "image/png": "[encoded data removed]",
      "text/plain": [
       "<Figure size 432x288 with 1 Axes>"
      ]
     },
     "metadata": {
      "needs_background": "light"
     },
     "output_type": "display_data"
    }
   ],
   "source": [
    "df_mental = df[(df['mental_resource']>3.597) | (df['mental_resource']<2.998)]\n",
    "df_mental['label'] = 'bottom'\n",
    "df_mental.loc[df_mental['mental_resource']>3.597, 'label'] = 'top'\n",
    "\n",
    "x = df_mental['income']\n",
    "groups = df_mental.groupby('label')\n",
    "\n",
    "fig, ax = plt.subplots()\n",
    "ax.margins(0.05) # Optional, just adds 5% padding to the autoscaling\n",
    "for name, group in groups:\n",
    "    ax.plot( group['mental_resource'], group['income'], marker='o', alpha = 0.5, linestyle = '', ms=12, label=name)\n",
    "ax.legend()\n",
    "\n",
    "plt.show()"
   ]
  },
  {
   "cell_type": "code",
   "execution_count": 120,
   "metadata": {},
   "outputs": [
    {
     "name": "stdout",
     "output_type": "stream",
     "text": [
      "income top 10%  3.2119285714285715\n",
      "income bottom 10%  3.0470597014925382\n"
     ]
    }
   ],
   "source": [
    "print('income top 10% ', df.loc[df['income_rank_p'] > 0.9, 'mental_resource'].mean())\n",
    "print('income bottom 10% ', df.loc[df['income_rank_p'] <= 0.1, 'mental_resource'].mean())"
   ]
  },
  {
   "cell_type": "code",
   "execution_count": null,
   "metadata": {},
   "outputs": [],
   "source": []
  },
  {
   "cell_type": "code",
   "execution_count": 239,
   "metadata": {},
   "outputs": [
    {
     "data": {
      "image/png": "[encoded data removed]",
      "text/plain": [
       "<Figure size 432x288 with 1 Axes>"
      ]
     },
     "metadata": {
      "needs_background": "light"
     },
     "output_type": "display_data"
    }
   ],
   "source": [
    "df['label'] = 'bottom'\n",
    "df.loc[df['income_rank_p']>0.25, 'label'] = 'middle'\n",
    "df.loc[df['income_rank_p']>0.75, 'label'] = 'top'\n",
    "\n",
    "groups = df.groupby('label')\n",
    "\n",
    "fig, ax = plt.subplots()\n",
    "ax.margins(0.05) # Optional, just adds 5% padding to the autoscaling\n",
    "for name, group in groups:\n",
    "    ax.plot( group['mental_resource'], group['income'], marker='o', alpha = 0.5, linestyle = '', ms=12, label=name)\n",
    "\n",
    "ax.axvline(df.loc[df['label'] == 'bottom','mental_resource'].mean(), color = 'b', linestyle = '--', linewidth = 1)\n",
    "ax.axvline(df.loc[df['label'] == 'middle','mental_resource'].mean(), color = 'r', linestyle = '--', linewidth = 1)\n",
    "ax.axvline(df.loc[df['label'] == 'top','mental_resource'].mean(), color = 'g', linestyle = '--', linewidth = 1)\n",
    "ax.legend()\n",
    "plt.xlabel('Average Achievement Goals')\n",
    "plt.ylabel('Parental Income(KRW)')\n",
    "plt.show()\n",
    "\n",
    "fig = ax.get_figure()\n",
    "fig.savefig('mental_income_plot.png')"
   ]
  },
  {
   "cell_type": "code",
   "execution_count": 111,
   "metadata": {},
   "outputs": [
    {
     "data": {
      "text/plain": [
       "0.38466386554621845"
      ]
     },
     "execution_count": 111,
     "metadata": {},
     "output_type": "execute_result"
    }
   ],
   "source": [
    "df.loc[df['mental_resource']<2.1, 'income_rank_p'].mean()"
   ]
  },
  {
   "cell_type": "code",
   "execution_count": null,
   "metadata": {},
   "outputs": [],
   "source": [
    "goal_array = np.array([df['negativejudg'],df['learning'],df['favorablejudg'],df['income_rank_p'],df['teacher_effect'], df['parental_edu'], df['private_edu']])\n",
    "\n",
    "cov = np.cov(goal_array , bias = True).round(2)\n",
    "goals = ['negativejudg','learning','favorablejudg','income_rank_p','teacher_effect', 'parental_edu', 'private_edu']\n",
    "\n",
    "sns.heatmap(cov, annot = True, fmt= 'g', xticklabels = goals, yticklabels=goals )\n",
    "plt.show()"
   ]
  },
  {
   "cell_type": "code",
   "execution_count": 101,
   "metadata": {},
   "outputs": [
    {
     "data": {
      "text/plain": [
       "array([[1.        , 0.05582566],\n",
       "       [0.05582566, 1.        ]])"
      ]
     },
     "execution_count": 101,
     "metadata": {},
     "output_type": "execute_result"
    }
   ],
   "source": [
    "np.corrcoef(df['mental_resource'],df['income_rank_p'])"
   ]
  },
  {
   "cell_type": "code",
   "execution_count": 121,
   "metadata": {},
   "outputs": [],
   "source": [
    "df_b_p = pd.merge(df_b, df_HH1)"
   ]
  },
  {
   "cell_type": "code",
   "execution_count": 140,
   "metadata": {},
   "outputs": [
    {
     "data": {
      "text/plain": [
       "875"
      ]
     },
     "execution_count": 140,
     "metadata": {},
     "output_type": "execute_result"
    }
   ],
   "source": [
    "len(df_b_p)"
   ]
  },
  {
   "cell_type": "code",
   "execution_count": 127,
   "metadata": {},
   "outputs": [
    {
     "data": {
      "text/plain": [
       "<matplotlib.axes._subplots.AxesSubplot at 0x189744207c8>"
      ]
     },
     "execution_count": 127,
     "metadata": {},
     "output_type": "execute_result"
    },
    {
     "data": {
      "image/png": "[encoded data removed]",
      "text/plain": [
       "<Figure size 432x288 with 1 Axes>"
      ]
     },
     "metadata": {
      "needs_background": "light"
     },
     "output_type": "display_data"
    }
   ],
   "source": [
    "# 사교육비 BYH22002\n",
    "df_b_p['BYH22002'].hist()"
   ]
  },
  {
   "cell_type": "code",
   "execution_count": 122,
   "metadata": {
    "scrolled": true
   },
   "outputs": [
    {
     "name": "stdout",
     "output_type": "stream",
     "text": [
      "=======================================================\n",
      "Dependent variable:\tkorean_b_gap_abs\n",
      "N:\t\t\t875\n",
      "R-squared:\t\t0.1040\n",
      "Estimation method:\tOLS\n",
      "VCE method:\t\tStandard (Homosk.)\n",
      "=======================================================\n",
      "               coeff    se      t   p>t CI_low CI_high\n",
      "income_rank_p -0.795 0.299 -2.662 0.008 -1.382  -0.209\n",
      "region        -0.017 0.011 -1.527 0.127 -0.039   0.005\n",
      "schooltype    -0.166 0.025 -6.693 0.000 -0.214  -0.117\n",
      "GENDER         0.357 0.104  3.434 0.001  0.153   0.561\n",
      "year           0.002 0.000  8.324 0.000  0.001   0.002\n",
      "perfshare      1.084 0.531  2.040 0.042  0.041   2.126\n",
      "parental_edu  -0.165 0.047 -3.484 0.001 -0.258  -0.072\n",
      "=======================================================\n",
      "\n"
     ]
    }
   ],
   "source": [
    "exog = ['income_rank_p', 'region', 'schooltype', 'GENDER', 'year','perfshare', 'parental_edu']\n",
    "print(mt.reg(df_b_p, 'korean_b_gap_abs', exog))"
   ]
  },
  {
   "cell_type": "code",
   "execution_count": 130,
   "metadata": {
    "scrolled": true
   },
   "outputs": [
    {
     "name": "stdout",
     "output_type": "stream",
     "text": [
      "=======================================================\n",
      "Dependent variable:\tmath_b_gap_abs\n",
      "N:\t\t\t875\n",
      "R-squared:\t\t0.0722\n",
      "Estimation method:\tOLS\n",
      "VCE method:\t\tStandard (Homosk.)\n",
      "=======================================================\n",
      "              coeff    se      t   p>t CI_low CI_high\n",
      "region        0.007 0.010  0.699 0.485 -0.013   0.028\n",
      "schooltype   -0.168 0.023 -7.321 0.000 -0.213  -0.123\n",
      "GENDER        0.285 0.096  2.954 0.003  0.096   0.474\n",
      "year          0.001 0.000  6.871 0.000  0.001   0.002\n",
      "perfshare     0.272 0.492  0.553 0.580 -0.694   1.239\n",
      "parental_edu -0.054 0.041 -1.322 0.187 -0.134   0.026\n",
      "=======================================================\n",
      "\n"
     ]
    }
   ],
   "source": [
    "exog = [ 'region', 'schooltype', 'GENDER', 'year','perfshare', 'parental_edu']\n",
    "print(mt.reg(df_b_p, 'math_b_gap_abs', exog))"
   ]
  },
  {
   "cell_type": "code",
   "execution_count": 133,
   "metadata": {
    "scrolled": false
   },
   "outputs": [
    {
     "name": "stdout",
     "output_type": "stream",
     "text": [
      "=======================================================\n",
      "Dependent variable:\teng_b_gap_abs\n",
      "N:\t\t\t875\n",
      "R-squared:\t\t0.1107\n",
      "Estimation method:\tOLS\n",
      "VCE method:\t\tStandard (Homosk.)\n",
      "=======================================================\n",
      "              coeff    se      t   p>t CI_low CI_high\n",
      "region       -0.002 0.011 -0.153 0.878 -0.022   0.019\n",
      "schooltype   -0.173 0.023 -7.464 0.000 -0.219  -0.128\n",
      "GENDER        0.300 0.098  3.076 0.002  0.109   0.492\n",
      "year          0.002 0.000  8.628 0.000  0.001   0.002\n",
      "perfshare     0.993 0.499  1.990 0.047  0.013   1.972\n",
      "parental_edu -0.230 0.041 -5.577 0.000 -0.311  -0.149\n",
      "=======================================================\n",
      "\n"
     ]
    }
   ],
   "source": [
    "exog = [ 'region', 'schooltype', 'GENDER', 'year','perfshare', 'parental_edu']\n",
    "print(mt.reg(df_b_p, 'eng_b_gap_abs', exog))"
   ]
  },
  {
   "cell_type": "code",
   "execution_count": 134,
   "metadata": {},
   "outputs": [],
   "source": [
    "#df.to_excel('df.xlsx')\n",
    "#df_b.to_excel('df_b.xlsx')\n",
    "#df_b_p.to_excel('df_b_p.xlsx')"
   ]
  },
  {
   "cell_type": "markdown",
   "metadata": {},
   "source": [
    "<h1> Future Earnings </h1>"
   ]
  },
  {
   "cell_type": "code",
   "execution_count": 138,
   "metadata": {},
   "outputs": [],
   "source": [
    "# 학생 earning (2015) \"F11Y05034\"\n",
    "\n",
    "df_youth, meta = pyreadstat.read_sav(\"C:/Users/thxkn/OneDrive/바탕 화면/CV/박사지원서류/WS_HJ/KEEP/KEEPData_1-12Wave_Ver12/DATA(수능, 직업력, 가중치, 패널조사현황 자료 포함)/1-12차년도 DATA(SPSS)/12차년도(2015) DATA/중학교 3학년 코호트/f11_m_youth.sav\")"
   ]
  },
  {
   "cell_type": "code",
   "execution_count": 139,
   "metadata": {},
   "outputs": [],
   "source": [
    "df_youth = df_youth.rename(columns = {\"F11Y05034\": \"income_st\"})"
   ]
  },
  {
   "cell_type": "code",
   "execution_count": 141,
   "metadata": {
    "scrolled": true
   },
   "outputs": [
    {
     "data": {
      "text/plain": [
       "367"
      ]
     },
     "execution_count": 141,
     "metadata": {},
     "output_type": "execute_result"
    }
   ],
   "source": [
    "df_bpi = pd.merge(df_b_p, df_youth)\n",
    "len(df_bpi)"
   ]
  },
  {
   "cell_type": "code",
   "execution_count": 143,
   "metadata": {},
   "outputs": [],
   "source": [
    "df_bpi = df_bpi[df_bpi['income_st']>0]"
   ]
  },
  {
   "cell_type": "code",
   "execution_count": 150,
   "metadata": {},
   "outputs": [
    {
     "name": "stdout",
     "output_type": "stream",
     "text": [
      "=======================================================\n",
      "Dependent variable:\tincome_st\n",
      "N:\t\t\t151\n",
      "R-squared:\t\t-25576607501071228156998844416.0000\n",
      "Estimation method:\tOLS\n",
      "VCE method:\t\tStandard (Homosk.)\n",
      "=======================================================\n",
      "                               coeff                   se      t   p>t                 CI_low               CI_high\n",
      "perfshare     -18378910317440960.000 6771164114290793.000 -2.714 0.007 -31761842381209968.000 -4995978253671952.000\n",
      "region            51671655682492.500  219557261603262.594  0.235 0.814   -382274393556247.688   485617704921232.688\n",
      "schooltype        49355022230891.000  404831734655218.438  0.122 0.903   -750778530981031.125   849488575442813.125\n",
      "GENDER         -9007199254740992.000                  nan    nan   nan                    nan                   nan\n",
      "year               4398046511104.000                  nan    nan   nan                    nan                   nan\n",
      "income_rank_p                  0.000 3670717716707227.500  0.000 1.000  -7255025132869849.000  7255025132869849.000\n",
      "=======================================================\n",
      "\n"
     ]
    },
    {
     "name": "stderr",
     "output_type": "stream",
     "text": [
      "C:\\Users\\thxkn\\anaconda3\\lib\\site-packages\\econtools\\metrics\\core.py:203: RuntimeWarning: invalid value encountered in sqrt\n",
      "  se = pd.Series(np.sqrt(np.diagonal(vce)), index=vce.columns)\n",
      "C:\\Users\\thxkn\\anaconda3\\lib\\site-packages\\scipy\\stats\\_distn_infrastructure.py:903: RuntimeWarning: invalid value encountered in greater\n",
      "  return (a < x) & (x < b)\n",
      "C:\\Users\\thxkn\\anaconda3\\lib\\site-packages\\scipy\\stats\\_distn_infrastructure.py:903: RuntimeWarning: invalid value encountered in less\n",
      "  return (a < x) & (x < b)\n",
      "C:\\Users\\thxkn\\anaconda3\\lib\\site-packages\\scipy\\stats\\_distn_infrastructure.py:1827: RuntimeWarning: invalid value encountered in greater_equal\n",
      "  cond2 = (x >= np.asarray(_b)) & cond0\n"
     ]
    }
   ],
   "source": [
    "exog = ['perfshare','region', 'schooltype', 'GENDER', 'year', 'income_rank_p']\n",
    "print(mt.reg(df_bpi, 'income_st', exog))"
   ]
  }
 ],
 "metadata": {
  "kernelspec": {
   "display_name": "Python 3",
   "language": "python",
   "name": "python3"
  },
  "language_info": {
   "codemirror_mode": {
    "name": "ipython",
    "version": 3
   },
   "file_extension": ".py",
   "mimetype": "text/x-python",
   "name": "python",
   "nbconvert_exporter": "python",
   "pygments_lexer": "ipython3",
   "version": "3.7.6"
  }
 },
 "nbformat": 4,
 "nbformat_minor": 4
}
