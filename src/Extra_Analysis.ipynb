{
 "cells": [
  {
   "cell_type": "code",
   "execution_count": 1,
   "metadata": {},
   "outputs": [],
   "source": [
    "import pandas as pd\n",
    "import pyreadstat\n",
    "import numpy as np\n",
    "import seaborn as sns\n",
    "import matplotlib.pyplot as plt \n",
    "\n",
    "import econtools as econ\n",
    "import econtools.metrics as mt\n",
    "import math"
   ]
  },
  {
   "cell_type": "code",
   "execution_count": 2,
   "metadata": {},
   "outputs": [],
   "source": [
    "df, meta = pyreadstat.read_sav(\"C:/Users/thxkn/OneDrive/바탕 화면/CV/박사지원서류/WS_HJ/KEEP/df.sav\")"
   ]
  },
  {
   "cell_type": "code",
   "execution_count": 3,
   "metadata": {},
   "outputs": [],
   "source": [
    "##### linear combination ###### - works well\n",
    "var_neg = np.var(df['negativejudg'])\n",
    "var_comp = np.var(df['competition'])\n",
    "var_learn = np.var(df['learning'])\n",
    "var_bp = np.var(df['betterperson'])\n",
    "\n",
    "df['comb_perf'] = (var_neg*df['negativejudg'] + var_comp*df['competition']) / (var_neg + var_comp)\n",
    "df['comb_mastery'] =(var_learn*df['learning'] + var_bp*df['betterperson']) / (var_learn + var_bp)\n",
    "df['comb_perfshare']= df['comb_perf']/ (df['comb_mastery']+df['comb_perf'])\n",
    "df['comb_masteryshare'] = 1-df['comb_perfshare']"
   ]
  },
  {
   "cell_type": "code",
   "execution_count": 69,
   "metadata": {},
   "outputs": [],
   "source": [
    "\n",
    "df_youth, meta = pyreadstat.read_sav(\"C:/Users/thxkn/OneDrive/바탕 화면/CV/박사지원서류/WS_HJ/KEEP/KEEPData_1-12Wave_Ver12/DATA(수능, 직업력, 가중치, 패널조사현황 자료 포함)/1-12차년도 DATA(SPSS)/12차년도(2015) DATA/중학교 3학년 코호트/f11_m_youth.sav\")"
   ]
  },
  {
   "cell_type": "code",
   "execution_count": 70,
   "metadata": {},
   "outputs": [],
   "source": [
    "# employed and earning values\n",
    "df_youth = df_youth[(df_youth[\"F11Y05034\"]>0) & (df_youth[\"F11Y05002\"] == 1)]\n",
    "df_youth = df_youth.rename(columns = {\"F11Y05034\": \"income_st\"})\n",
    "df_youth = df_youth[[\"BYSID\", \"income_st\"]]"
   ]
  },
  {
   "cell_type": "code",
   "execution_count": 71,
   "metadata": {},
   "outputs": [],
   "source": [
    "income_list = df_youth[\"BYSID\"].to_list()\n",
    "df3 = df[df[\"year\"]==2003]\n",
    "df4 = df[df[\"year\"]==2004]"
   ]
  },
  {
   "cell_type": "code",
   "execution_count": 72,
   "metadata": {},
   "outputs": [],
   "source": [
    "df3 = pd.merge(df3,df_youth)\n",
    "df4 = pd.merge(df4,df_youth)"
   ]
  },
  {
   "cell_type": "code",
   "execution_count": 73,
   "metadata": {},
   "outputs": [
    {
     "data": {
      "text/plain": [
       "4       0.503149\n",
       "7       0.405132\n",
       "8       0.365742\n",
       "10      0.447594\n",
       "12      0.535595\n",
       "          ...   \n",
       "3837    0.447594\n",
       "3838    0.365742\n",
       "3839    0.503149\n",
       "3841    0.365742\n",
       "3842    0.334130\n",
       "Name: comb_perfshare, Length: 1650, dtype: float64"
      ]
     },
     "execution_count": 73,
     "metadata": {},
     "output_type": "execute_result"
    }
   ],
   "source": [
    "df.loc[df['BYSID'].isin(income_list) == True, 'comb_perfshare']"
   ]
  },
  {
   "cell_type": "code",
   "execution_count": 74,
   "metadata": {},
   "outputs": [
    {
     "data": {
      "text/plain": [
       "<matplotlib.axes._subplots.AxesSubplot at 0x23a820df888>"
      ]
     },
     "execution_count": 74,
     "metadata": {},
     "output_type": "execute_result"
    },
    {
     "data": {
      "image/png": "[encoded data removed]",
      "text/plain": [
       "<Figure size 432x288 with 1 Axes>"
      ]
     },
     "metadata": {
      "needs_background": "light"
     },
     "output_type": "display_data"
    }
   ],
   "source": [
    "df3['comb_perfshare'].hist(bins = 100)"
   ]
  },
  {
   "cell_type": "code",
   "execution_count": 75,
   "metadata": {},
   "outputs": [
    {
     "name": "stdout",
     "output_type": "stream",
     "text": [
      "=======================================================\n",
      "Dependent variable:\tcomb_perf\n",
      "N:\t\t\t641\n",
      "R-squared:\t\t-2.6726\n",
      "Estimation method:\tOLS\n",
      "VCE method:\t\tStandard (Homosk.)\n",
      "=======================================================\n",
      "                    coeff    se      t   p>t CI_low CI_high\n",
      "comb_perfshare     -2.000   nan    nan   nan    nan     nan\n",
      "comb_masteryshare -14.000   nan    nan   nan    nan     nan\n",
      "income_rank_p       0.189 0.353  0.537 0.592 -0.503   0.882\n",
      "region              0.003 0.015  0.233 0.816 -0.026   0.032\n",
      "typeofschool       -0.002 0.080 -0.022 0.982 -0.160   0.156\n",
      "GENDER             -0.168 0.137 -1.221 0.222 -0.437   0.102\n",
      "year                0.005   nan    nan   nan    nan     nan\n",
      "=======================================================\n",
      "\n",
      "[[ 1.         -0.05740888]\n",
      " [-0.05740888  1.        ]]\n",
      "=======================================================\n",
      "Dependent variable:\tcomb_perf\n",
      "N:\t\t\t641\n",
      "R-squared:\t\t1.0000\n",
      "Estimation method:\tOLS\n",
      "VCE method:\t\tStandard (Homosk.)\n",
      "=======================================================\n",
      "               coeff    se                    t   p>t CI_low CI_high\n",
      "comb_perf      1.000 0.000 1349878017759207.250 0.000  1.000   1.000\n",
      "income_rank_p  0.000 0.000                0.391 0.696 -0.000   0.000\n",
      "region        -0.000 0.000               -1.558 0.120 -0.000   0.000\n",
      "typeofschool   0.000 0.000                0.000 1.000 -0.000   0.000\n",
      "GENDER        -0.000 0.000               -0.332 0.740 -0.000   0.000\n",
      "year           0.000 0.000                0.000 1.000 -0.000   0.000\n",
      "=======================================================\n",
      "\n",
      "[[1.00000000e+00 8.09430775e-04]\n",
      " [8.09430775e-04 1.00000000e+00]]\n"
     ]
    },
    {
     "name": "stderr",
     "output_type": "stream",
     "text": [
      "C:\\Users\\thxkn\\anaconda3\\lib\\site-packages\\econtools\\metrics\\core.py:203: RuntimeWarning: invalid value encountered in sqrt\n",
      "  se = pd.Series(np.sqrt(np.diagonal(vce)), index=vce.columns)\n",
      "C:\\Users\\thxkn\\anaconda3\\lib\\site-packages\\scipy\\stats\\_distn_infrastructure.py:903: RuntimeWarning: invalid value encountered in greater\n",
      "  return (a < x) & (x < b)\n",
      "C:\\Users\\thxkn\\anaconda3\\lib\\site-packages\\scipy\\stats\\_distn_infrastructure.py:903: RuntimeWarning: invalid value encountered in less\n",
      "  return (a < x) & (x < b)\n",
      "C:\\Users\\thxkn\\anaconda3\\lib\\site-packages\\scipy\\stats\\_distn_infrastructure.py:1827: RuntimeWarning: invalid value encountered in greater_equal\n",
      "  cond2 = (x >= np.asarray(_b)) & cond0\n"
     ]
    }
   ],
   "source": [
    "#############################################\n",
    "#완전 박제: 음수가 나왔어ㅠㅠㅠcomb_perfshare\n",
    "############################################\n",
    "y = df3['income_st']\n",
    "x = df3['comb_perfshare']\n",
    "\n",
    "exog = ['comb_perfshare', 'comb_masteryshare','income_rank_p', 'region', 'typeofschool', 'GENDER', 'year']\n",
    "print(mt.reg(df3, 'comb_perf', exog))\n",
    "print(np.corrcoef(x,y))\n",
    "\n",
    "y = df3['income_st']\n",
    "x = df3['comb_perf']\n",
    "\n",
    "exog = ['comb_perf','income_rank_p', 'region', 'typeofschool', 'GENDER', 'year']\n",
    "print(mt.reg(df3, 'comb_perf', exog))\n",
    "print(np.corrcoef(x,y))"
   ]
  },
  {
   "cell_type": "code",
   "execution_count": null,
   "metadata": {},
   "outputs": [],
   "source": [
    "# 자기 대학에 만족? F5Y01048\n",
    "# 대학 선택 가장 크게 영향 준 사람: F5Y01050, F5Y01051\n",
    "# 학교성적 우수학생이 경제적으로 성공?F5Y12009\n",
    "# 우리사회에서 경제적으로 성공하는데 가장 중요한 것F5Y12010\n",
    "# 직장생활 성공에서 가장 중요한 것 F5Y12028 \n",
    "# 우리 사회에서 누구나 성공? F5Y12022"
   ]
  },
  {
   "cell_type": "code",
   "execution_count": 77,
   "metadata": {},
   "outputs": [],
   "source": [
    "\n",
    "df_help, meta = pyreadstat.read_sav(\"C:/Users/thxkn/OneDrive/바탕 화면/CV/박사지원서류/WS_HJ/KEEP/KEEPData_1-12Wave_Ver12/DATA(수능, 직업력, 가중치, 패널조사현황 자료 포함)/1-12차년도 DATA(SPSS)/6차년도(2009) DATA/중학교 3학년생 코호트/f5_m_youth.sav\")"
   ]
  },
  {
   "cell_type": "code",
   "execution_count": 80,
   "metadata": {},
   "outputs": [
    {
     "data": {
      "text/plain": [
       " 2.0    618\n",
       " 4.0    597\n",
       " 3.0    544\n",
       " 1.0    103\n",
       " 5.0     95\n",
       "-3.0      2\n",
       "-2.0      1\n",
       "Name: F5Y12022, dtype: int64"
      ]
     },
     "execution_count": 80,
     "metadata": {},
     "output_type": "execute_result"
    }
   ],
   "source": [
    "df_help['F5Y12022'].value_counts()"
   ]
  },
  {
   "cell_type": "code",
   "execution_count": 103,
   "metadata": {},
   "outputs": [],
   "source": [
    "df_help = df_help[['BYSID','F5Y12022']]"
   ]
  },
  {
   "cell_type": "code",
   "execution_count": 104,
   "metadata": {},
   "outputs": [],
   "source": [
    "df3 = pd.merge(df3, df_help)"
   ]
  },
  {
   "cell_type": "code",
   "execution_count": 92,
   "metadata": {},
   "outputs": [],
   "source": [
    "just_list = df_help.loc[df_help['F5Y12022'] == 2.0, \"BYSID\"]\n",
    "just_list_po = df_help.loc[df_help['F5Y12022'] == 4.0, \"BYSID\"]"
   ]
  },
  {
   "cell_type": "code",
   "execution_count": 90,
   "metadata": {},
   "outputs": [
    {
     "data": {
      "text/plain": [
       "171.86861313868613"
      ]
     },
     "execution_count": 90,
     "metadata": {},
     "output_type": "execute_result"
    }
   ],
   "source": [
    "df3.loc[ df3[\"BYSID\"].isin(just_list) == True, 'income_st' ].mean()"
   ]
  },
  {
   "cell_type": "code",
   "execution_count": 91,
   "metadata": {},
   "outputs": [
    {
     "data": {
      "text/plain": [
       "178.4383775351014"
      ]
     },
     "execution_count": 91,
     "metadata": {},
     "output_type": "execute_result"
    }
   ],
   "source": [
    "df3['income_st'].mean()"
   ]
  },
  {
   "cell_type": "code",
   "execution_count": 93,
   "metadata": {},
   "outputs": [
    {
     "data": {
      "text/plain": [
       "182.4033613445378"
      ]
     },
     "execution_count": 93,
     "metadata": {},
     "output_type": "execute_result"
    }
   ],
   "source": [
    "df3.loc[ df3[\"BYSID\"].isin(just_list_po) == True, 'income_st' ].mean()"
   ]
  },
  {
   "cell_type": "code",
   "execution_count": 96,
   "metadata": {},
   "outputs": [],
   "source": [
    "#SAT\n",
    "\n",
    "df_sat = pd.read_excel(\"C:/Users/thxkn/OneDrive/바탕 화면/CV/박사지원서류/WS_HJ/KEEP/KEEPData_1-12Wave_Ver12/DATA(수능, 직업력, 가중치, 패널조사현황 자료 포함)/수능(2005-2009학년도) DATA(Layout 포함)/수능 DATA(2008-2009학년도)_중학교 3학년생 코호트.xlsx\")\n",
    "\n",
    "df_sat = df_sat[[\"AT08_32\",\"AT08_33\",\"AT08_34\",\"AT09_32\",\"AT09_33\",\"AT09_34\",\"BYSID\"]]\n",
    "df_sat[\"total_score_1\"] = df_sat[\"AT08_32\"] + df_sat[\"AT08_33\"] + df_sat[\"AT08_34\"]\n",
    "df_sat[\"total_score_2\"] = df_sat[\"AT09_32\"] + df_sat[\"AT09_33\"] + df_sat[\"AT09_34\"]"
   ]
  },
  {
   "cell_type": "code",
   "execution_count": 97,
   "metadata": {},
   "outputs": [
    {
     "data": {
      "text/plain": [
       "14.436666666666667"
      ]
     },
     "execution_count": 97,
     "metadata": {},
     "output_type": "execute_result"
    }
   ],
   "source": [
    "df_sat.loc[df_sat[\"BYSID\"].isin(just_list_po) == True, 'total_score_1'].mean()"
   ]
  },
  {
   "cell_type": "code",
   "execution_count": 98,
   "metadata": {},
   "outputs": [
    {
     "data": {
      "text/plain": [
       "13.85919540229885"
      ]
     },
     "execution_count": 98,
     "metadata": {},
     "output_type": "execute_result"
    }
   ],
   "source": [
    "df_sat.loc[df_sat[\"BYSID\"].isin(just_list) == True, 'total_score_1'].mean()"
   ]
  },
  {
   "cell_type": "code",
   "execution_count": 99,
   "metadata": {},
   "outputs": [
    {
     "data": {
      "text/plain": [
       "15.020515826494725"
      ]
     },
     "execution_count": 99,
     "metadata": {},
     "output_type": "execute_result"
    }
   ],
   "source": [
    "df_sat[\"total_score_1\"].mean()"
   ]
  },
  {
   "cell_type": "code",
   "execution_count": 100,
   "metadata": {},
   "outputs": [
    {
     "data": {
      "text/plain": [
       "0.4527201213038497"
      ]
     },
     "execution_count": 100,
     "metadata": {},
     "output_type": "execute_result"
    }
   ],
   "source": [
    "df3.loc[df3[\"BYSID\"].isin(just_list_po) == True, 'comb_perfshare'].mean()"
   ]
  },
  {
   "cell_type": "code",
   "execution_count": 101,
   "metadata": {},
   "outputs": [
    {
     "data": {
      "text/plain": [
       "0.4315825674873673"
      ]
     },
     "execution_count": 101,
     "metadata": {},
     "output_type": "execute_result"
    }
   ],
   "source": [
    "df3.loc[df3[\"BYSID\"].isin(just_list) == True, 'comb_perfshare'].mean()"
   ]
  },
  {
   "cell_type": "code",
   "execution_count": 107,
   "metadata": {},
   "outputs": [
    {
     "data": {
      "text/plain": [
       "array([[ 1.        , -0.05701253],\n",
       "       [-0.05701253,  1.        ]])"
      ]
     },
     "execution_count": 107,
     "metadata": {},
     "output_type": "execute_result"
    }
   ],
   "source": [
    "np.corrcoef(df3['comb_masteryshare'], df3['F5Y12022']) #mastery 일 수록 사회에 대한 belief 적어졌다"
   ]
  },
  {
   "cell_type": "code",
   "execution_count": 119,
   "metadata": {},
   "outputs": [
    {
     "data": {
      "text/plain": [
       "[<matplotlib.lines.Line2D at 0x23a819bf308>]"
      ]
     },
     "execution_count": 119,
     "metadata": {},
     "output_type": "execute_result"
    },
    {
     "data": {
      "image/png": "[encoded data removed]",
      "text/plain": [
       "<Figure size 432x288 with 1 Axes>"
      ]
     },
     "metadata": {
      "needs_background": "light"
     },
     "output_type": "display_data"
    }
   ],
   "source": [
    "p = 1\n",
    "m = 5\n",
    "x0 = 1\n",
    "v = range(5,100)\n",
    "y = [ 1 - ((p/m) * (x- x0)/(2*x - x0)) for x in v]\n",
    "plt.plot(v,y, 'ro')"
   ]
  },
  {
   "cell_type": "markdown",
   "metadata": {},
   "source": [
    "<h2> Bootstrap </h2>"
   ]
  },
  {
   "cell_type": "markdown",
   "metadata": {},
   "source": [
    "The bootstrap is a widely applicable and extremely powerful statistical tool\n",
    "bootstrap\n",
    "that can be used to quantify the uncertainty associated with a given estimator\n",
    "or statistical learning method. As a simple example, the bootstrap\n",
    "can be used to estimate the standard errors of the coefficients from a linear\n",
    "regression fit."
   ]
  },
  {
   "cell_type": "code",
   "execution_count": null,
   "metadata": {},
   "outputs": [],
   "source": [
    "#F3S01129 등급\n",
    "#F2S01109"
   ]
  },
  {
   "cell_type": "markdown",
   "metadata": {},
   "source": [
    "<h2>Proxy</h2>"
   ]
  },
  {
   "cell_type": "code",
   "execution_count": 11,
   "metadata": {},
   "outputs": [
    {
     "data": {
      "text/plain": [
       "4.0    2200\n",
       "3.0     795\n",
       "5.0     607\n",
       "2.0     196\n",
       "1.0      46\n",
       "Name: betterperson, dtype: int64"
      ]
     },
     "execution_count": 11,
     "metadata": {},
     "output_type": "execute_result"
    }
   ],
   "source": [
    "goals = ['negativejudg', 'competition','learning','betterperson']\n",
    "\n",
    "df['negativejudg'].value_counts()\n",
    "df['competition'].value_counts()\n",
    "df['learning'].value_counts()\n",
    "df['betterperson'].value_counts()"
   ]
  },
  {
   "cell_type": "code",
   "execution_count": 56,
   "metadata": {},
   "outputs": [],
   "source": [
    "goal_mean = []\n",
    "goal_var = []\n",
    "for i in goals:\n",
    "    goal_mean.append(df[i].mean())\n",
    "    goal_var.append(np.var(df[i]))"
   ]
  },
  {
   "cell_type": "code",
   "execution_count": 57,
   "metadata": {},
   "outputs": [],
   "source": [
    "j = 0\n",
    "for i in goals:\n",
    "    df[i+'_std'] = (df[i]-goal_mean[j])/ goal_var[j]\n",
    "    j = j+1"
   ]
  },
  {
   "cell_type": "code",
   "execution_count": 58,
   "metadata": {},
   "outputs": [],
   "source": [
    "df['perf_std'] = (df['competition_std']+df['negativejudg_std'])/2\n",
    "df['mastery_std'] = (df['learning_std']+df['betterperson_std'])/2\n",
    "df['perfshare_std'] = df['perf_std'] / df['perf_std'] + df['mastery_std']\n",
    "df['masteryshare_std'] = df['mastery_std'] / df['mastery_std'] + df['perf_std'] "
   ]
  },
  {
   "cell_type": "code",
   "execution_count": 22,
   "metadata": {},
   "outputs": [
    {
     "data": {
      "text/plain": [
       "<matplotlib.axes._subplots.AxesSubplot at 0x1dbeb2007c8>"
      ]
     },
     "execution_count": 22,
     "metadata": {},
     "output_type": "execute_result"
    },
    {
     "data": {
      "image/png": "[encoded data removed]",
      "text/plain": [
       "<Figure size 432x288 with 1 Axes>"
      ]
     },
     "metadata": {
      "needs_background": "light"
     },
     "output_type": "display_data"
    }
   ],
   "source": [
    "df['perf_std'].hist()"
   ]
  },
  {
   "cell_type": "code",
   "execution_count": 23,
   "metadata": {},
   "outputs": [
    {
     "name": "stdout",
     "output_type": "stream",
     "text": [
      "=======================================================\n",
      "Dependent variable:\tperf_std\n",
      "N:\t\t\t3844\n",
      "R-squared:\t\t0.0098\n",
      "Estimation method:\tOLS\n",
      "VCE method:\t\tStandard (Homosk.)\n",
      "=======================================================\n",
      "               coeff    se      t   p>t CI_low CI_high\n",
      "income_rank_p  0.087 0.063  1.394 0.163 -0.035   0.210\n",
      "region         0.002 0.003  0.723 0.470 -0.003   0.007\n",
      "typeofschool   0.010 0.005  2.095 0.036  0.001   0.019\n",
      "GENDER        -0.133 0.025 -5.355 0.000 -0.182  -0.085\n",
      "year          -0.000 0.000 -0.190 0.850 -0.000   0.000\n",
      "=======================================================\n",
      "\n",
      "[[1.         0.02697525]\n",
      " [0.02697525 1.        ]]\n",
      "=======================================================\n",
      "Dependent variable:\tperfshare_std\n",
      "N:\t\t\t3844\n",
      "R-squared:\t\t0.0370\n",
      "Estimation method:\tOLS\n",
      "VCE method:\t\tStandard (Homosk.)\n",
      "=======================================================\n",
      "               coeff    se      t   p>t CI_low CI_high\n",
      "income_rank_p  0.551 0.079  7.014 0.000  0.397   0.705\n",
      "region         0.000 0.003  0.108 0.914 -0.006   0.007\n",
      "typeofschool   0.015 0.006  2.583 0.010  0.004   0.026\n",
      "GENDER        -0.279 0.031 -8.938 0.000 -0.340  -0.218\n",
      "year           0.000 0.000 17.503 0.000  0.000   0.000\n",
      "=======================================================\n",
      "\n",
      "[[1.         0.12105894]\n",
      " [0.12105894 1.        ]]\n"
     ]
    }
   ],
   "source": [
    "std_goal = ['perf_std', 'perfshare_std', 'mastery_std', 'masteryshare_std']\n",
    "\n",
    "y = df['perf_std']\n",
    "x = df['income_rank_p']\n",
    "\n",
    "exog = ['income_rank_p', 'region', 'typeofschool', 'GENDER', 'year']\n",
    "print(mt.reg(df, 'perf_std', exog))\n",
    "print(np.corrcoef(x,y))\n",
    "\n",
    "y = df['perfshare_std']\n",
    "x = df['income_rank_p']\n",
    "\n",
    "exog = ['income_rank_p', 'region', 'typeofschool', 'GENDER', 'year']\n",
    "print(mt.reg(df, 'perfshare_std', exog))\n",
    "print(np.corrcoef(x,y))"
   ]
  },
  {
   "cell_type": "code",
   "execution_count": 24,
   "metadata": {},
   "outputs": [
    {
     "name": "stdout",
     "output_type": "stream",
     "text": [
      "=======================================================\n",
      "Dependent variable:\tmastery_std\n",
      "N:\t\t\t3844\n",
      "R-squared:\t\t0.0370\n",
      "Estimation method:\tOLS\n",
      "VCE method:\t\tStandard (Homosk.)\n",
      "=======================================================\n",
      "               coeff    se      t   p>t CI_low CI_high\n",
      "income_rank_p  0.551 0.079  7.013 0.000  0.397   0.705\n",
      "region         0.000 0.003  0.109 0.914 -0.006   0.007\n",
      "typeofschool   0.015 0.006  2.587 0.010  0.004   0.026\n",
      "GENDER        -0.279 0.031 -8.938 0.000 -0.340  -0.218\n",
      "year          -0.000 0.000 -2.576 0.010 -0.000  -0.000\n",
      "=======================================================\n",
      "\n",
      "[[1.         0.12105894]\n",
      " [0.12105894 1.        ]]\n",
      "=======================================================\n",
      "Dependent variable:\tmasteryshare_std\n",
      "N:\t\t\t3844\n",
      "R-squared:\t\t0.0098\n",
      "Estimation method:\tOLS\n",
      "VCE method:\t\tStandard (Homosk.)\n",
      "=======================================================\n",
      "               coeff    se      t   p>t CI_low CI_high\n",
      "income_rank_p  0.087 0.063  1.395 0.163 -0.035   0.210\n",
      "region         0.002 0.003  0.722 0.470 -0.003   0.007\n",
      "typeofschool   0.010 0.005  2.090 0.037  0.001   0.019\n",
      "GENDER        -0.133 0.025 -5.355 0.000 -0.182  -0.085\n",
      "year           0.000 0.000 24.984 0.000  0.000   0.001\n",
      "=======================================================\n",
      "\n",
      "[[1.         0.02697525]\n",
      " [0.02697525 1.        ]]\n"
     ]
    }
   ],
   "source": [
    "y = df['mastery_std']\n",
    "x = df['income_rank_p']\n",
    "\n",
    "exog = ['income_rank_p', 'region', 'typeofschool', 'GENDER', 'year']\n",
    "print(mt.reg(df, 'mastery_std', exog))\n",
    "print(np.corrcoef(x,y))\n",
    "\n",
    "y = df['masteryshare_std']\n",
    "x = df['income_rank_p']\n",
    "\n",
    "exog = ['income_rank_p', 'region', 'typeofschool', 'GENDER', 'year']\n",
    "print(mt.reg(df, 'masteryshare_std', exog))\n",
    "print(np.corrcoef(x,y))"
   ]
  },
  {
   "cell_type": "code",
   "execution_count": 25,
   "metadata": {},
   "outputs": [
    {
     "name": "stdout",
     "output_type": "stream",
     "text": [
      "=======================================================\n",
      "Dependent variable:\tnegativejudg\n",
      "N:\t\t\t3844\n",
      "R-squared:\t\t0.0101\n",
      "Estimation method:\tOLS\n",
      "VCE method:\t\tStandard (Homosk.)\n",
      "=======================================================\n",
      "               coeff    se      t   p>t CI_low CI_high\n",
      "income_rank_p  0.163 0.088  1.864 0.062 -0.008   0.335\n",
      "region         0.005 0.004  1.337 0.181 -0.002   0.012\n",
      "typeofschool   0.020 0.006  3.100 0.002  0.007   0.033\n",
      "GENDER        -0.158 0.035 -4.527 0.000 -0.226  -0.089\n",
      "year           0.001 0.000 45.391 0.000  0.001   0.001\n",
      "=======================================================\n",
      "\n",
      "=======================================================\n",
      "Dependent variable:\tcompetition\n",
      "N:\t\t\t3844\n",
      "R-squared:\t\t0.0054\n",
      "Estimation method:\tOLS\n",
      "VCE method:\t\tStandard (Homosk.)\n",
      "=======================================================\n",
      "               coeff    se      t   p>t CI_low CI_high\n",
      "income_rank_p  0.043 0.090  0.477 0.634 -0.134   0.219\n",
      "region        -0.001 0.004 -0.138 0.890 -0.008   0.007\n",
      "typeofschool   0.003 0.007  0.384 0.701 -0.010   0.016\n",
      "GENDER        -0.161 0.036 -4.508 0.000 -0.231  -0.091\n",
      "year           0.001 0.000 47.647 0.000  0.001   0.001\n",
      "=======================================================\n",
      "\n",
      "=======================================================\n",
      "Dependent variable:\tlearning\n",
      "N:\t\t\t3844\n",
      "R-squared:\t\t0.0354\n",
      "Estimation method:\tOLS\n",
      "VCE method:\t\tStandard (Homosk.)\n",
      "=======================================================\n",
      "               coeff    se      t   p>t CI_low CI_high\n",
      "income_rank_p  0.400 0.068  5.854 0.000  0.266   0.534\n",
      "region         0.001 0.003  0.451 0.652 -0.004   0.007\n",
      "typeofschool   0.013 0.005  2.557 0.011  0.003   0.023\n",
      "GENDER        -0.257 0.027 -9.474 0.000 -0.311  -0.204\n",
      "year           0.001 0.000 63.677 0.000  0.001   0.001\n",
      "=======================================================\n",
      "\n",
      "=======================================================\n",
      "Dependent variable:\tbetterperson\n",
      "N:\t\t\t3844\n",
      "R-squared:\t\t0.0166\n",
      "Estimation method:\tOLS\n",
      "VCE method:\t\tStandard (Homosk.)\n",
      "=======================================================\n",
      "               coeff    se      t   p>t CI_low CI_high\n",
      "income_rank_p  0.355 0.065  5.477 0.000  0.228   0.482\n",
      "region        -0.001 0.003 -0.257 0.797 -0.006   0.005\n",
      "typeofschool   0.008 0.005  1.615 0.106 -0.002   0.017\n",
      "GENDER        -0.131 0.026 -5.102 0.000 -0.182  -0.081\n",
      "year           0.002 0.000 90.539 0.000  0.002   0.002\n",
      "=======================================================\n",
      "\n"
     ]
    }
   ],
   "source": [
    "x = df['income_rank_p']\n",
    "exog = ['income_rank_p', 'region', 'typeofschool', 'GENDER', 'year', ]\n",
    "\n",
    "for i in goals:\n",
    "    print(mt.reg(df, i, exog))"
   ]
  },
  {
   "cell_type": "code",
   "execution_count": 38,
   "metadata": {},
   "outputs": [],
   "source": [
    "#F3S01129 등급\n",
    "#F2S01109\n",
    "\n",
    "df['attainment'] = df['F3S01129']\n",
    "df.loc[df['year'] == 2003, 'attainment' ] = df['F2S01109']\n",
    "df = df[df['attainment']>0]"
   ]
  },
  {
   "cell_type": "code",
   "execution_count": 39,
   "metadata": {},
   "outputs": [
    {
     "name": "stdout",
     "output_type": "stream",
     "text": [
      "=======================================================\n",
      "Dependent variable:\tnegativejudg\n",
      "N:\t\t\t3824\n",
      "R-squared:\t\t0.0104\n",
      "Estimation method:\tOLS\n",
      "VCE method:\t\tStandard (Homosk.)\n",
      "=======================================================\n",
      "               coeff    se      t   p>t CI_low CI_high\n",
      "income_rank_p  0.145 0.088  1.639 0.101 -0.028   0.318\n",
      "region         0.005 0.004  1.239 0.216 -0.003   0.012\n",
      "typeofschool   0.019 0.007  2.906 0.004  0.006   0.032\n",
      "GENDER        -0.149 0.035 -4.276 0.000 -0.218  -0.081\n",
      "year           0.001 0.000 35.440 0.000  0.001   0.001\n",
      "attainment    -0.019 0.011 -1.826 0.068 -0.040   0.001\n",
      "=======================================================\n",
      "\n",
      "=======================================================\n",
      "Dependent variable:\tcompetition\n",
      "N:\t\t\t3824\n",
      "R-squared:\t\t0.0231\n",
      "Estimation method:\tOLS\n",
      "VCE method:\t\tStandard (Homosk.)\n",
      "=======================================================\n",
      "               coeff    se      t   p>t CI_low CI_high\n",
      "income_rank_p -0.033 0.090 -0.368 0.713 -0.210   0.143\n",
      "region         0.000 0.004  0.069 0.945 -0.007   0.008\n",
      "typeofschool  -0.002 0.007 -0.342 0.732 -0.015   0.011\n",
      "GENDER        -0.145 0.036 -4.063 0.000 -0.215  -0.075\n",
      "year           0.002 0.000 41.643 0.000  0.001   0.002\n",
      "attainment    -0.091 0.011 -8.346 0.000 -0.112  -0.069\n",
      "=======================================================\n",
      "\n",
      "=======================================================\n",
      "Dependent variable:\tlearning\n",
      "N:\t\t\t3824\n",
      "R-squared:\t\t0.0876\n",
      "Estimation method:\tOLS\n",
      "VCE method:\t\tStandard (Homosk.)\n",
      "=======================================================\n",
      "               coeff    se       t   p>t CI_low CI_high\n",
      "income_rank_p  0.287 0.067   4.276 0.000  0.155   0.418\n",
      "region         0.003 0.003   0.876 0.381 -0.003   0.008\n",
      "typeofschool   0.007 0.005   1.380 0.168 -0.003   0.017\n",
      "GENDER        -0.238 0.027  -8.970 0.000 -0.290  -0.186\n",
      "year           0.002 0.000  59.052 0.000  0.002   0.002\n",
      "attainment    -0.120 0.008 -14.861 0.000 -0.136  -0.104\n",
      "=======================================================\n",
      "\n",
      "=======================================================\n",
      "Dependent variable:\tbetterperson\n",
      "N:\t\t\t3824\n",
      "R-squared:\t\t0.0523\n",
      "Estimation method:\tOLS\n",
      "VCE method:\t\tStandard (Homosk.)\n",
      "=======================================================\n",
      "               coeff    se       t   p>t CI_low CI_high\n",
      "income_rank_p  0.273 0.064   4.261 0.000  0.147   0.399\n",
      "region         0.000 0.003   0.137 0.891 -0.005   0.006\n",
      "typeofschool   0.003 0.005   0.685 0.494 -0.006   0.012\n",
      "GENDER        -0.117 0.025  -4.617 0.000 -0.167  -0.067\n",
      "year           0.002 0.000  77.327 0.000  0.002   0.002\n",
      "attainment    -0.093 0.008 -11.998 0.000 -0.108  -0.078\n",
      "=======================================================\n",
      "\n"
     ]
    }
   ],
   "source": [
    "x = df['income_rank_p']\n",
    "exog = ['income_rank_p', 'region', 'typeofschool', 'GENDER', 'year', 'attainment', ]\n",
    "\n",
    "for i in goals:\n",
    "    print(mt.reg(df, i, exog))"
   ]
  },
  {
   "cell_type": "code",
   "execution_count": 40,
   "metadata": {},
   "outputs": [],
   "source": [
    "df.loc[df['year'] == 2003, 'F3TID']= 0"
   ]
  },
  {
   "cell_type": "code",
   "execution_count": 44,
   "metadata": {},
   "outputs": [
    {
     "data": {
      "text/plain": [
       "False    1487\n",
       "True      834\n",
       "Name: F3TID, dtype: int64"
      ]
     },
     "execution_count": 44,
     "metadata": {},
     "output_type": "execute_result"
    }
   ],
   "source": [
    "df.loc[df['year'] == 2004, 'F3TID'].isna().value_counts()"
   ]
  },
  {
   "cell_type": "code",
   "execution_count": 59,
   "metadata": {},
   "outputs": [],
   "source": [
    "df_temp = df[df['year']==2004]"
   ]
  },
  {
   "cell_type": "code",
   "execution_count": 49,
   "metadata": {
    "scrolled": false
   },
   "outputs": [
    {
     "name": "stdout",
     "output_type": "stream",
     "text": [
      "=======================================================\n",
      "Dependent variable:\tnegativejudg\n",
      "N:\t\t\t1487\n",
      "R-squared:\t\t0.0156\n",
      "Estimation method:\tOLS\n",
      "VCE method:\t\tStandard (Homosk.)\n",
      "=======================================================\n",
      "               coeff    se      t   p>t CI_low CI_high\n",
      "income_rank_p  0.065 0.153  0.425 0.671 -0.234   0.364\n",
      "region        -0.002 0.006 -0.330 0.741 -0.014   0.010\n",
      "typeofschool   0.022 0.011  2.083 0.037  0.001   0.043\n",
      "GENDER        -0.147 0.058 -2.534 0.011 -0.261  -0.033\n",
      "year           0.001 0.000 10.541 0.000  0.001   0.002\n",
      "attainment    -0.027 0.018 -1.505 0.133 -0.061   0.008\n",
      "F3TID         -0.000 0.000 -1.003 0.316 -0.000   0.000\n",
      "=======================================================\n",
      "\n",
      "=======================================================\n",
      "Dependent variable:\tcompetition\n",
      "N:\t\t\t1487\n",
      "R-squared:\t\t0.0274\n",
      "Estimation method:\tOLS\n",
      "VCE method:\t\tStandard (Homosk.)\n",
      "=======================================================\n",
      "               coeff    se      t   p>t CI_low CI_high\n",
      "income_rank_p -0.162 0.153 -1.062 0.289 -0.461   0.137\n",
      "region        -0.003 0.006 -0.453 0.650 -0.015   0.009\n",
      "typeofschool   0.007 0.011  0.648 0.517 -0.014   0.028\n",
      "GENDER        -0.151 0.058 -2.597 0.010 -0.264  -0.037\n",
      "year           0.002 0.000 12.015 0.000  0.001   0.002\n",
      "attainment    -0.093 0.018 -5.296 0.000 -0.128  -0.059\n",
      "F3TID         -0.000 0.000 -0.759 0.448 -0.000   0.000\n",
      "=======================================================\n",
      "\n",
      "=======================================================\n",
      "Dependent variable:\tlearning\n",
      "N:\t\t\t1487\n",
      "R-squared:\t\t0.0779\n",
      "Estimation method:\tOLS\n",
      "VCE method:\t\tStandard (Homosk.)\n",
      "=======================================================\n",
      "               coeff    se      t   p>t CI_low CI_high\n",
      "income_rank_p  0.362 0.115  3.140 0.002  0.136   0.588\n",
      "region        -0.008 0.005 -1.669 0.095 -0.017   0.001\n",
      "typeofschool   0.008 0.008  0.947 0.344 -0.008   0.023\n",
      "GENDER        -0.226 0.044 -5.170 0.000 -0.312  -0.140\n",
      "year           0.002 0.000 14.795 0.000  0.001   0.002\n",
      "attainment    -0.107 0.013 -8.014 0.000 -0.133  -0.081\n",
      "F3TID          0.000 0.000  1.078 0.281 -0.000   0.000\n",
      "=======================================================\n",
      "\n",
      "=======================================================\n",
      "Dependent variable:\tbetterperson\n",
      "N:\t\t\t1487\n",
      "R-squared:\t\t0.0468\n",
      "Estimation method:\tOLS\n",
      "VCE method:\t\tStandard (Homosk.)\n",
      "=======================================================\n",
      "               coeff    se      t   p>t CI_low CI_high\n",
      "income_rank_p  0.230 0.110  2.080 0.038  0.013   0.446\n",
      "region        -0.006 0.004 -1.397 0.163 -0.015   0.003\n",
      "typeofschool   0.004 0.008  0.507 0.612 -0.011   0.019\n",
      "GENDER        -0.155 0.042 -3.707 0.000 -0.238  -0.073\n",
      "year           0.002 0.000 19.812 0.000  0.002   0.002\n",
      "attainment    -0.082 0.013 -6.443 0.000 -0.107  -0.057\n",
      "F3TID          0.000 0.000  0.813 0.417 -0.000   0.000\n",
      "=======================================================\n",
      "\n"
     ]
    }
   ],
   "source": [
    "x = df_temp['income_rank_p']\n",
    "exog = ['income_rank_p', 'region', 'typeofschool', 'GENDER', 'year', 'attainment', 'F3TID' ]\n",
    "\n",
    "for i in goals:\n",
    "    print(mt.reg(df_temp, i, exog))"
   ]
  },
  {
   "cell_type": "code",
   "execution_count": 52,
   "metadata": {},
   "outputs": [],
   "source": [
    "comb_goal = ['comb_perf', 'comb_perfshare', 'comb_mastery', 'comb_masteryshare']"
   ]
  },
  {
   "cell_type": "code",
   "execution_count": 54,
   "metadata": {},
   "outputs": [
    {
     "name": "stdout",
     "output_type": "stream",
     "text": [
      "=======================================================\n",
      "Dependent variable:\tcomb_perf\n",
      "N:\t\t\t1487\n",
      "R-squared:\t\t0.0254\n",
      "Estimation method:\tOLS\n",
      "VCE method:\t\tStandard (Homosk.)\n",
      "=======================================================\n",
      "               coeff    se      t   p>t CI_low CI_high\n",
      "income_rank_p -0.051 0.130 -0.395 0.693 -0.307   0.204\n",
      "region        -0.002 0.005 -0.461 0.645 -0.013   0.008\n",
      "typeofschool   0.014 0.009  1.579 0.115 -0.003   0.032\n",
      "GENDER        -0.149 0.049 -3.009 0.003 -0.246  -0.052\n",
      "year           0.002 0.000 13.245 0.000  0.001   0.002\n",
      "attainment    -0.061 0.015 -4.044 0.000 -0.090  -0.031\n",
      "F3TID         -0.000 0.000 -1.029 0.304 -0.000   0.000\n",
      "=======================================================\n",
      "\n",
      "=======================================================\n",
      "Dependent variable:\tcomb_perfshare\n",
      "N:\t\t\t1487\n",
      "R-squared:\t\t0.0094\n",
      "Estimation method:\tOLS\n",
      "VCE method:\t\tStandard (Homosk.)\n",
      "=======================================================\n",
      "               coeff    se      t   p>t CI_low CI_high\n",
      "income_rank_p -0.029 0.014 -2.173 0.030 -0.056  -0.003\n",
      "region         0.000 0.001  0.658 0.511 -0.001   0.001\n",
      "typeofschool   0.001 0.001  1.001 0.317 -0.001   0.003\n",
      "GENDER        -0.002 0.005 -0.322 0.747 -0.012   0.008\n",
      "year           0.000 0.000 18.856 0.000  0.000   0.000\n",
      "attainment     0.002 0.002  1.373 0.170 -0.001   0.005\n",
      "F3TID         -0.000 0.000 -1.709 0.088 -0.000   0.000\n",
      "=======================================================\n",
      "\n",
      "=======================================================\n",
      "Dependent variable:\tcomb_mastery\n",
      "N:\t\t\t1487\n",
      "R-squared:\t\t0.0920\n",
      "Estimation method:\tOLS\n",
      "VCE method:\t\tStandard (Homosk.)\n",
      "=======================================================\n",
      "               coeff    se      t   p>t CI_low CI_high\n",
      "income_rank_p  0.300 0.092  3.265 0.001  0.120   0.480\n",
      "region        -0.007 0.004 -1.899 0.058 -0.014   0.000\n",
      "typeofschool   0.006 0.006  0.917 0.359 -0.007   0.018\n",
      "GENDER        -0.193 0.035 -5.534 0.000 -0.262  -0.125\n",
      "year           0.002 0.000 21.008 0.000  0.002   0.002\n",
      "attainment    -0.095 0.011 -8.969 0.000 -0.116  -0.074\n",
      "F3TID          0.000 0.000  1.176 0.240 -0.000   0.000\n",
      "=======================================================\n",
      "\n",
      "=======================================================\n",
      "Dependent variable:\tcomb_masteryshare\n",
      "N:\t\t\t1487\n",
      "R-squared:\t\t0.0094\n",
      "Estimation method:\tOLS\n",
      "VCE method:\t\tStandard (Homosk.)\n",
      "=======================================================\n",
      "               coeff    se      t   p>t CI_low CI_high\n",
      "income_rank_p  0.029 0.014  2.173 0.030  0.003   0.056\n",
      "region        -0.000 0.001 -0.658 0.511 -0.001   0.001\n",
      "typeofschool  -0.001 0.001 -1.001 0.317 -0.003   0.001\n",
      "GENDER         0.002 0.005  0.322 0.747 -0.008   0.012\n",
      "year           0.000 0.000 21.336 0.000  0.000   0.000\n",
      "attainment    -0.002 0.002 -1.373 0.170 -0.005   0.001\n",
      "F3TID          0.000 0.000  1.709 0.088 -0.000   0.000\n",
      "=======================================================\n",
      "\n"
     ]
    }
   ],
   "source": [
    "x = df_temp['income_rank_p']\n",
    "exog = ['income_rank_p', 'region', 'typeofschool', 'GENDER', 'year', 'attainment', 'F3TID' ]\n",
    "\n",
    "for i in comb_goal:\n",
    "    print(mt.reg(df_temp, i, exog))"
   ]
  },
  {
   "cell_type": "code",
   "execution_count": 62,
   "metadata": {},
   "outputs": [
    {
     "data": {
      "text/plain": [
       "5.260460251046025"
      ]
     },
     "execution_count": 62,
     "metadata": {},
     "output_type": "execute_result"
    }
   ],
   "source": [
    "(df['negativejudg']+df['competition']).mean()"
   ]
  },
  {
   "cell_type": "code",
   "execution_count": 63,
   "metadata": {},
   "outputs": [
    {
     "data": {
      "text/plain": [
       "6.650366108786611"
      ]
     },
     "execution_count": 63,
     "metadata": {},
     "output_type": "execute_result"
    }
   ],
   "source": [
    "(df['learning']+df['betterperson']).mean()"
   ]
  },
  {
   "cell_type": "code",
   "execution_count": 65,
   "metadata": {},
   "outputs": [
    {
     "data": {
      "text/plain": [
       "count    3824.000000\n",
       "mean        6.650366\n",
       "std         1.341264\n",
       "min         2.000000\n",
       "25%         6.000000\n",
       "50%         7.000000\n",
       "75%         7.000000\n",
       "max        10.000000\n",
       "dtype: float64"
      ]
     },
     "execution_count": 65,
     "metadata": {},
     "output_type": "execute_result"
    }
   ],
   "source": [
    "(df['learning']+df['betterperson']).describe()"
   ]
  },
  {
   "cell_type": "code",
   "execution_count": 67,
   "metadata": {},
   "outputs": [
    {
     "data": {
      "text/plain": [
       "count    3824.000000\n",
       "mean        5.260460\n",
       "std         1.848045\n",
       "min         2.000000\n",
       "25%         4.000000\n",
       "50%         5.000000\n",
       "75%         6.000000\n",
       "max        10.000000\n",
       "dtype: float64"
      ]
     },
     "execution_count": 67,
     "metadata": {},
     "output_type": "execute_result"
    }
   ],
   "source": [
    "(df['negativejudg']+df['competition']).describe()"
   ]
  },
  {
   "cell_type": "code",
   "execution_count": null,
   "metadata": {},
   "outputs": [],
   "source": []
  }
 ],
 "metadata": {
  "kernelspec": {
   "display_name": "Python 3",
   "language": "python",
   "name": "python3"
  },
  "language_info": {
   "codemirror_mode": {
    "name": "ipython",
    "version": 3
   },
   "file_extension": ".py",
   "mimetype": "text/x-python",
   "name": "python",
   "nbconvert_exporter": "python",
   "pygments_lexer": "ipython3",
   "version": "3.7.6"
  }
 },
 "nbformat": 4,
 "nbformat_minor": 4
}
