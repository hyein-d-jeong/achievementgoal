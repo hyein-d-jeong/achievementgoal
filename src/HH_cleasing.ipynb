{
 "cells": [
  {
   "cell_type": "code",
   "execution_count": 1,
   "metadata": {},
   "outputs": [],
   "source": [
    "import pandas as pd\n",
    "import pyreadstat\n",
    "import numpy as np\n",
    "import seaborn as sns\n",
    "import matplotlib.pyplot as plt \n",
    "\n",
    "import econtools as econ\n",
    "import econtools.metrics as mt\n",
    "import math"
   ]
  },
  {
   "cell_type": "code",
   "execution_count": 2,
   "metadata": {},
   "outputs": [],
   "source": [
    "df, meta = pyreadstat.read_sav(\"df.sav\")"
   ]
  },
  {
   "cell_type": "code",
   "execution_count": 16,
   "metadata": {},
   "outputs": [],
   "source": [
    "#pyreadstat.write_sav(df, 'df.sav')\n",
    "\n",
    "### educational background ### 0. 둘다 고졸 이하 / 1. 한명 대졸 / 2. 두명 대졸 이상"
   ]
  },
  {
   "cell_type": "code",
   "execution_count": 3,
   "metadata": {},
   "outputs": [],
   "source": [
    "df_HH1, meta = pyreadstat.read_sav(\"C:/Users/thxkn/OneDrive/바탕 화면/CV/박사지원서류/WS_HJ/KEEP/KEEPData_1-12Wave_Ver12/DATA(수능, 직업력, 가중치, 패널조사현황 자료 포함)/1-12차년도 DATA(SPSS)/1차년도(2004) DATA/중학교 3학년생 코호트/by_m_household.sav\")\n",
    "df_HH3, meta = pyreadstat.read_sav(\"C:/Users/thxkn/OneDrive/바탕 화면/CV/박사지원서류/WS_HJ/KEEP/KEEPData_1-12Wave_Ver12/DATA(수능, 직업력, 가중치, 패널조사현황 자료 포함)/1-12차년도 DATA(SPSS)/3차년도(2006) DATA/중학교 3학년생 코호트/f2_m_household.sav\")\n",
    "df_HH4, meta = pyreadstat.read_sav(\"C:/Users/thxkn/OneDrive/바탕 화면/CV/박사지원서류/WS_HJ/KEEP/KEEPData_1-12Wave_Ver12/DATA(수능, 직업력, 가중치, 패널조사현황 자료 포함)/1-12차년도 DATA(SPSS)/4차년도(2007) DATA/중학교 3학년생 코호트/f3_m_household.sav\")\n"
   ]
  },
  {
   "cell_type": "code",
   "execution_count": 6,
   "metadata": {},
   "outputs": [
    {
     "name": "stdout",
     "output_type": "stream",
     "text": [
      "1951\n",
      "1684\n",
      "2711\n"
     ]
    }
   ],
   "source": [
    "print(len(df_HH1))\n",
    "print(len(df_HH3))\n",
    "print(len(df_HH4))"
   ]
  },
  {
   "cell_type": "code",
   "execution_count": 4,
   "metadata": {},
   "outputs": [],
   "source": [
    "df_HH3 = df_HH3.rename(columns = {\"F2H04001\": \"income\"})\n",
    "df_HH4 = df_HH4.rename(columns = {\"F3H08001\": \"income\"})\n",
    "df_HH3 = df_HH3[df_HH3[\"income\"]>0]\n",
    "df_HH4 = df_HH4[df_HH4[\"income\"]>0]"
   ]
  },
  {
   "cell_type": "code",
   "execution_count": 34,
   "metadata": {},
   "outputs": [],
   "source": [
    "df_HH3['year'] = 2003\n",
    "df_HH4['year'] = 2004\n",
    "\n",
    "stu = df_HH3['BYSID'].to_list()\n",
    "\n",
    "#middle school cohorts and detected in 2003 and 2004\n",
    "stu4 = df_HH4.loc[df_HH4['BYSID'].isin(stu) == True, 'BYSID'].to_list()\n",
    "\n",
    "# new cohorts\n",
    "stu_new = df_HH4.loc[df_HH4['BYSID'].isin(stu) == False, 'BYSID'].to_list()"
   ]
  },
  {
   "cell_type": "code",
   "execution_count": 35,
   "metadata": {},
   "outputs": [
    {
     "data": {
      "text/plain": [
       "5000.0"
      ]
     },
     "execution_count": 35,
     "metadata": {},
     "output_type": "execute_result"
    }
   ],
   "source": [
    "df['income'].max()"
   ]
  },
  {
   "cell_type": "code",
   "execution_count": 36,
   "metadata": {},
   "outputs": [],
   "source": [
    "df['perf'] = df['negativejudg'] + df['favorablejudg']\n",
    "df['perfshare'] = df['perf'] / (df['perf']+ df['learning'])\n",
    "df['income_new'] = df.loc[df['BYSID'].isin(stu_new) == True, 'income']\n",
    "df['income_2003'] = df.loc[(df['year']==2003) & (df['BYSID'].isin(stu4) == True), 'income']\n",
    "df['income_2004'] = df.loc[(df['year']==2004) & (df['BYSID'].isin(stu4) == True), 'income']\n",
    "\n",
    "desc_stat = df[['GENDER', 'perf', 'perfshare', 'income_new', 'income_2003', 'income_2004']].describe().round(2)"
   ]
  },
  {
   "cell_type": "code",
   "execution_count": 37,
   "metadata": {},
   "outputs": [],
   "source": [
    "desc_stat.to_latex('desc_stat.tex')"
   ]
  },
  {
   "cell_type": "code",
   "execution_count": 7,
   "metadata": {},
   "outputs": [
    {
     "data": {
      "text/plain": [
       "2002.0    1564\n",
       "2001.0     346\n",
       "1002.0      22\n",
       "1001.0       5\n",
       "4011.0       4\n",
       "4001.0       4\n",
       "1004.0       3\n",
       "3001.0       2\n",
       "4002.0       1\n",
       "Name: BYH01001, dtype: int64"
      ]
     },
     "execution_count": 7,
     "metadata": {},
     "output_type": "execute_result"
    }
   ],
   "source": [
    "#관계\n",
    "df_HH1.BYH01001.value_counts()\n",
    "#2002 mother/ 2001 father"
   ]
  },
  {
   "cell_type": "code",
   "execution_count": 12,
   "metadata": {},
   "outputs": [
    {
     "data": {
      "text/plain": [
       "1.0    1919\n",
       "2.0      32\n",
       "Name: BYH01006, dtype: int64"
      ]
     },
     "execution_count": 12,
     "metadata": {},
     "output_type": "execute_result"
    }
   ],
   "source": [
    "#residence\n",
    "df_HH1.BYH01006.value_counts()"
   ]
  },
  {
   "cell_type": "code",
   "execution_count": 13,
   "metadata": {},
   "outputs": [
    {
     "data": {
      "text/plain": [
       "-5.0    1919\n",
       " 1.0      23\n",
       " 5.0       5\n",
       " 3.0       2\n",
       " 7.0       1\n",
       " 4.0       1\n",
       "Name: BYH01007, dtype: int64"
      ]
     },
     "execution_count": 13,
     "metadata": {},
     "output_type": "execute_result"
    }
   ],
   "source": [
    "#residence_not\n",
    "df_HH1.BYH01007.value_counts()\n",
    "#대부분 1: 학업, 직장/ 5: 불화"
   ]
  },
  {
   "cell_type": "code",
   "execution_count": 14,
   "metadata": {},
   "outputs": [
    {
     "data": {
      "text/plain": [
       " 5.0    965\n",
       " 7.0    378\n",
       " 4.0    239\n",
       " 3.0    126\n",
       " 6.0     99\n",
       " 2.0     71\n",
       " 8.0     52\n",
       " 9.0     17\n",
       "-3.0      4\n",
       "Name: BYH01008, dtype: int64"
      ]
     },
     "execution_count": 14,
     "metadata": {},
     "output_type": "execute_result"
    }
   ],
   "source": [
    "#eduational background \n",
    "#5. highschool/ 7.4년제 대학/ 4 중학교 /3. 초등학교\n",
    "df_HH1.BYH01008.value_counts()"
   ]
  },
  {
   "cell_type": "code",
   "execution_count": 16,
   "metadata": {},
   "outputs": [
    {
     "data": {
      "text/plain": [
       "3.0    1226\n",
       "5.0     381\n",
       "2.0     178\n",
       "4.0     140\n",
       "1.0      26\n",
       "Name: BYH05001, dtype: int64"
      ]
     },
     "execution_count": 16,
     "metadata": {},
     "output_type": "execute_result"
    }
   ],
   "source": [
    "df_HH1.BYH05001.value_counts() \n",
    "#5. 박사로 갈 수록 학력수준 높아짐 1= 고등학교 이하\n"
   ]
  },
  {
   "cell_type": "code",
   "execution_count": 30,
   "metadata": {},
   "outputs": [
    {
     "data": {
      "text/plain": [
       "1.0    1042\n",
       "3.0     501\n",
       "2.0     408\n",
       "Name: BYH06002, dtype: int64"
      ]
     },
     "execution_count": 30,
     "metadata": {},
     "output_type": "execute_result"
    }
   ],
   "source": [
    "df_HH1.BYH06002.value_counts()\n",
    "#고교평준화\n",
    "#1. 찬성 2. 반대 3. 모르겠다"
   ]
  },
  {
   "cell_type": "code",
   "execution_count": 32,
   "metadata": {
    "scrolled": true
   },
   "outputs": [
    {
     "data": {
      "text/plain": [
       "4.0    733\n",
       "3.0    570\n",
       "5.0    391\n",
       "2.0    228\n",
       "1.0     29\n",
       "Name: BYH06001, dtype: int64"
      ]
     },
     "execution_count": 32,
     "metadata": {},
     "output_type": "execute_result"
    }
   ],
   "source": [
    "df_HH1.BYH06001.value_counts()\n",
    "#정부정책 1관심없음"
   ]
  },
  {
   "cell_type": "code",
   "execution_count": 36,
   "metadata": {},
   "outputs": [
    {
     "data": {
      "text/plain": [
       "2.0     691\n",
       "1.0     508\n",
       "8.0     411\n",
       "6.0     127\n",
       "4.0      78\n",
       "3.0      51\n",
       "7.0      30\n",
       "10.0     29\n",
       "5.0      20\n",
       "9.0       6\n",
       "Name: BYH07001, dtype: int64"
      ]
     },
     "execution_count": 36,
     "metadata": {},
     "output_type": "execute_result"
    }
   ],
   "source": [
    "#삶 중요 1 #2. 소질 적성/ 1. 배우자\n",
    "df_HH1.BYH07001.value_counts()"
   ]
  },
  {
   "cell_type": "code",
   "execution_count": 34,
   "metadata": {},
   "outputs": [
    {
     "data": {
      "text/plain": [
       "1.0    849\n",
       "3.0    726\n",
       "4.0    197\n",
       "2.0    179\n",
       "Name: BYH07003, dtype: int64"
      ]
     },
     "execution_count": 34,
     "metadata": {},
     "output_type": "execute_result"
    }
   ],
   "source": [
    "# 직업이유 1. money / 3. 자아실현\n",
    "df_HH1.BYH07003.value_counts()"
   ]
  },
  {
   "cell_type": "code",
   "execution_count": 33,
   "metadata": {},
   "outputs": [
    {
     "data": {
      "text/plain": [
       "2.0    1237\n",
       "4.0     346\n",
       "3.0     236\n",
       "1.0      61\n",
       "5.0      43\n",
       "7.0      13\n",
       "8.0      10\n",
       "6.0       5\n",
       "Name: BYH07004, dtype: int64"
      ]
     },
     "execution_count": 33,
     "metadata": {},
     "output_type": "execute_result"
    }
   ],
   "source": [
    "# 성공요인 = 자식과 비교하기\n",
    "df_HH1.BYH07004.value_counts()"
   ]
  },
  {
   "cell_type": "markdown",
   "metadata": {},
   "source": [
    "보호자"
   ]
  },
  {
   "cell_type": "code",
   "execution_count": 37,
   "metadata": {},
   "outputs": [
    {
     "data": {
      "text/plain": [
       "1.0    1767\n",
       "3.0      97\n",
       "2.0      63\n",
       "4.0      18\n",
       "6.0       6\n",
       "Name: BYH10001, dtype: int64"
      ]
     },
     "execution_count": 37,
     "metadata": {},
     "output_type": "execute_result"
    }
   ],
   "source": [
    "#보호자 BYH10001\n",
    "df_HH1.BYH10001.value_counts()"
   ]
  },
  {
   "cell_type": "code",
   "execution_count": 38,
   "metadata": {},
   "outputs": [
    {
     "data": {
      "text/plain": [
       " 1.0    1736\n",
       " 3.0     112\n",
       " 2.0      79\n",
       "-5.0      24\n",
       "Name: BYH10002, dtype: int64"
      ]
     },
     "execution_count": 38,
     "metadata": {},
     "output_type": "execute_result"
    }
   ],
   "source": [
    "#parents\n",
    "df_HH1.BYH10002.value_counts()"
   ]
  },
  {
   "cell_type": "code",
   "execution_count": 18,
   "metadata": {},
   "outputs": [
    {
     "data": {
      "text/plain": [
       "-5.0    1644\n",
       " 3.0      16\n",
       " 1.0      13\n",
       " 2.0       8\n",
       " 4.0       2\n",
       " 5.0       1\n",
       "Name: F2H01003, dtype: int64"
      ]
     },
     "execution_count": 18,
     "metadata": {},
     "output_type": "execute_result"
    }
   ],
   "source": [
    "df_HH3.F2H01001.value_counts()\n",
    "df_HH3.F2H01003.value_counts() #보호자 변동된 사람들 "
   ]
  },
  {
   "cell_type": "code",
   "execution_count": 29,
   "metadata": {},
   "outputs": [
    {
     "data": {
      "text/plain": [
       "<matplotlib.axes._subplots.AxesSubplot at 0x1cef7062b88>"
      ]
     },
     "execution_count": 29,
     "metadata": {},
     "output_type": "execute_result"
    },
    {
     "data": {
      "image/png": "[encoded data removed]",
      "text/plain": [
       "<Figure size 432x288 with 1 Axes>"
      ]
     },
     "metadata": {
      "needs_background": "light"
     },
     "output_type": "display_data"
    }
   ],
   "source": [
    "# 사교육비\n",
    "df_HH3[df_HH3[\"F2H04005\"]>0][\"F2H04005\"].hist(bins=30)"
   ]
  },
  {
   "cell_type": "code",
   "execution_count": 12,
   "metadata": {},
   "outputs": [
    {
     "data": {
      "image/png": "[encoded data removed]",
      "text/plain": [
       "<Figure size 432x288 with 1 Axes>"
      ]
     },
     "metadata": {
      "needs_background": "light"
     },
     "output_type": "display_data"
    }
   ],
   "source": [
    "income = df_HH3.loc[df_HH3['income']<3000,'income'].hist(bins = 30)"
   ]
  },
  {
   "cell_type": "code",
   "execution_count": 13,
   "metadata": {},
   "outputs": [
    {
     "data": {
      "text/plain": [
       "count    1552.000000\n",
       "mean      307.427835\n",
       "std       260.002661\n",
       "min        20.000000\n",
       "25%       180.000000\n",
       "50%       280.000000\n",
       "75%       400.000000\n",
       "max      6000.000000\n",
       "Name: income, dtype: float64"
      ]
     },
     "execution_count": 13,
     "metadata": {},
     "output_type": "execute_result"
    }
   ],
   "source": [
    "df_HH3['income'].describe()"
   ]
  },
  {
   "cell_type": "code",
   "execution_count": 22,
   "metadata": {},
   "outputs": [
    {
     "data": {
      "text/plain": [
       "count    2505.000000\n",
       "mean      347.913772\n",
       "std       254.143606\n",
       "min         5.000000\n",
       "25%       200.000000\n",
       "50%       300.000000\n",
       "75%       430.000000\n",
       "max      5000.000000\n",
       "Name: income, dtype: float64"
      ]
     },
     "execution_count": 22,
     "metadata": {},
     "output_type": "execute_result"
    }
   ],
   "source": [
    "df_HH4['income'].describe()"
   ]
  },
  {
   "cell_type": "code",
   "execution_count": 15,
   "metadata": {},
   "outputs": [
    {
     "data": {
      "text/plain": [
       "<function matplotlib.pyplot.show(*args, **kw)>"
      ]
     },
     "execution_count": 15,
     "metadata": {},
     "output_type": "execute_result"
    },
    {
     "data": {
      "image/png": "[encoded data removed]",
      "text/plain": [
       "<Figure size 504x504 with 1 Axes>"
      ]
     },
     "metadata": {
      "needs_background": "light"
     },
     "output_type": "display_data"
    }
   ],
   "source": [
    "#outlier\n",
    "def outliers(data):\n",
    "    q1, q3 = np.percentile(data, [25,75])\n",
    "    iqr = q3-q1\n",
    "    lower_bound = q1 - (iqr *1.5)\n",
    "    upper_bound = q3 + (iqr * 1.5)\n",
    "\n",
    "    return np.where((data > upper_bound)|(data < lower_bound))\n",
    "\n",
    "plt.figure(figsize=(7,7))\n",
    "sns.boxplot(data = df_HH3['income'])\n",
    "plt.show\n",
    "\n",
    "df_HH3.loc[df_HH3['income']>1500,'income'] = 1500\n",
    "#outliers(df[\"income\"])"
   ]
  },
  {
   "cell_type": "code",
   "execution_count": 21,
   "metadata": {},
   "outputs": [
    {
     "data": {
      "text/plain": [
       "<function matplotlib.pyplot.show(*args, **kw)>"
      ]
     },
     "execution_count": 21,
     "metadata": {},
     "output_type": "execute_result"
    },
    {
     "data": {
      "image/png": "[encoded data removed]",
      "text/plain": [
       "<Figure size 504x504 with 1 Axes>"
      ]
     },
     "metadata": {
      "needs_background": "light"
     },
     "output_type": "display_data"
    }
   ],
   "source": [
    "plt.figure(figsize=(7,7))\n",
    "sns.boxplot(data = df_HH4['income'])\n",
    "plt.show"
   ]
  },
  {
   "cell_type": "code",
   "execution_count": 35,
   "metadata": {},
   "outputs": [],
   "source": [
    "df_HH4.loc[df_HH4['income']>1500,'income'] =1500"
   ]
  },
  {
   "cell_type": "code",
   "execution_count": null,
   "metadata": {},
   "outputs": [],
   "source": [
    "df = pd.merge()"
   ]
  },
  {
   "cell_type": "code",
   "execution_count": 76,
   "metadata": {},
   "outputs": [
    {
     "ename": "AttributeError",
     "evalue": "module 'matplotlib.pyplot' has no attribute 'get_figure'",
     "output_type": "error",
     "traceback": [
      "\u001b[1;31m---------------------------------------------------------------------------\u001b[0m",
      "\u001b[1;31mAttributeError\u001b[0m                            Traceback (most recent call last)",
      "\u001b[1;32m<ipython-input-76-419673e9f348>\u001b[0m in \u001b[0;36m<module>\u001b[1;34m\u001b[0m\n\u001b[0;32m      3\u001b[0m \u001b[0mplt\u001b[0m\u001b[1;33m.\u001b[0m\u001b[0maxvline\u001b[0m\u001b[1;33m(\u001b[0m\u001b[0mx\u001b[0m\u001b[1;33m.\u001b[0m\u001b[0mmean\u001b[0m\u001b[1;33m(\u001b[0m\u001b[1;33m)\u001b[0m\u001b[1;33m,\u001b[0m \u001b[0mcolor\u001b[0m \u001b[1;33m=\u001b[0m \u001b[1;34m'red'\u001b[0m\u001b[1;33m,\u001b[0m \u001b[0mlinestyle\u001b[0m \u001b[1;33m=\u001b[0m \u001b[1;34m'--'\u001b[0m\u001b[1;33m,\u001b[0m \u001b[0mlinewidth\u001b[0m \u001b[1;33m=\u001b[0m \u001b[1;36m1\u001b[0m\u001b[1;33m)\u001b[0m\u001b[1;33m\u001b[0m\u001b[1;33m\u001b[0m\u001b[0m\n\u001b[0;32m      4\u001b[0m \u001b[0mincome_2003\u001b[0m \u001b[1;33m=\u001b[0m \u001b[0mplt\u001b[0m\u001b[1;33m\u001b[0m\u001b[1;33m\u001b[0m\u001b[0m\n\u001b[1;32m----> 5\u001b[1;33m \u001b[0mfigure\u001b[0m \u001b[1;33m=\u001b[0m\u001b[0mincome_2003\u001b[0m\u001b[1;33m.\u001b[0m\u001b[0mget_figure\u001b[0m\u001b[1;33m(\u001b[0m\u001b[1;33m)\u001b[0m\u001b[1;33m\u001b[0m\u001b[1;33m\u001b[0m\u001b[0m\n\u001b[0m\u001b[0;32m      6\u001b[0m \u001b[0mfigure\u001b[0m\u001b[1;33m.\u001b[0m\u001b[0msavefig\u001b[0m\u001b[1;33m(\u001b[0m\u001b[1;34m'income_2003'\u001b[0m\u001b[1;33m,\u001b[0m \u001b[0mdpi\u001b[0m \u001b[1;33m=\u001b[0m \u001b[1;36m500\u001b[0m\u001b[1;33m)\u001b[0m\u001b[1;33m\u001b[0m\u001b[1;33m\u001b[0m\u001b[0m\n",
      "\u001b[1;31mAttributeError\u001b[0m: module 'matplotlib.pyplot' has no attribute 'get_figure'"
     ]
    },
    {
     "data": {
      "image/png": "[encoded data removed]",
      "text/plain": [
       "<Figure size 432x288 with 1 Axes>"
      ]
     },
     "metadata": {
      "needs_background": "light"
     },
     "output_type": "display_data"
    }
   ],
   "source": [
    "x = df_HH3.loc[df_HH3['BYSID'].isin(stu4) == True, 'income']\n",
    "plt.hist(x, bins = 30, alpha = 0.5)\n",
    "plt.axvline(x.mean(), color = 'red', linestyle = '--', linewidth = 1)\n",
    "income_2003 = plt\n",
    "figure =income_2003.get_figure()\n",
    "figure.savefig('income_2003', dpi = 500)"
   ]
  },
  {
   "cell_type": "code",
   "execution_count": 71,
   "metadata": {},
   "outputs": [
    {
     "data": {
      "image/png": "[encoded data removed]",
      "text/plain": [
       "<Figure size 432x288 with 1 Axes>"
      ]
     },
     "metadata": {
      "needs_background": "light"
     },
     "output_type": "display_data"
    }
   ],
   "source": [
    "income_2004 = df_HH4.loc[df_HH4['BYSID'].isin(stu4) == True,'income'].hist(bins = 30, alpha = 0.5, color = 'orange')\n",
    "figure = income_2004.get_figure()\n",
    "figure.savefig('income_2004', dpi = 500)"
   ]
  },
  {
   "cell_type": "code",
   "execution_count": 37,
   "metadata": {},
   "outputs": [],
   "source": [
    "stu = df_HH3['BYSID'].to_list()\n",
    "stu4 = df_HH4.loc[df_HH4['BYSID'].isin(stu) == True, 'BYSID'].to_list()"
   ]
  },
  {
   "cell_type": "code",
   "execution_count": 72,
   "metadata": {},
   "outputs": [
    {
     "data": {
      "image/png": "[encoded data removed]",
      "text/plain": [
       "<Figure size 432x288 with 1 Axes>"
      ]
     },
     "metadata": {
      "needs_background": "light"
     },
     "output_type": "display_data"
    }
   ],
   "source": [
    "new_income = df_HH4.loc[df_HH4['BYSID'].isin(stu4)==False, 'income'].hist( bins = 30, alpha = 0.5, color = 'green')\n",
    "figure = new_income.get_figure()\n",
    "figure.savefig('new_income', dpi = 500)"
   ]
  },
  {
   "cell_type": "code",
   "execution_count": null,
   "metadata": {},
   "outputs": [],
   "source": [
    "# get figure\n",
    "income = df_HH3['income'].hist()\n",
    "figure = income.get_figure()    \n",
    "figure.savefig('goals_heatmap.png', dpi=400)"
   ]
  },
  {
   "cell_type": "code",
   "execution_count": 59,
   "metadata": {},
   "outputs": [
    {
     "ename": "AttributeError",
     "evalue": "'numpy.ndarray' object has no attribute 'hist'",
     "output_type": "error",
     "traceback": [
      "\u001b[1;31m---------------------------------------------------------------------------\u001b[0m",
      "\u001b[1;31mAttributeError\u001b[0m                            Traceback (most recent call last)",
      "\u001b[1;32m<ipython-input-59-c3b2efdf194e>\u001b[0m in \u001b[0;36m<module>\u001b[1;34m\u001b[0m\n\u001b[0;32m      7\u001b[0m \u001b[0max1\u001b[0m\u001b[1;33m.\u001b[0m\u001b[0mset_title\u001b[0m\u001b[1;33m(\u001b[0m\u001b[1;34m'Parental Income in 2004'\u001b[0m\u001b[1;33m)\u001b[0m\u001b[1;33m\u001b[0m\u001b[1;33m\u001b[0m\u001b[0m\n\u001b[0;32m      8\u001b[0m \u001b[1;33m\u001b[0m\u001b[0m\n\u001b[1;32m----> 9\u001b[1;33m \u001b[0max2\u001b[0m\u001b[1;33m.\u001b[0m\u001b[0mhist\u001b[0m\u001b[1;33m(\u001b[0m\u001b[0mdf_HH4\u001b[0m\u001b[1;33m.\u001b[0m\u001b[0mloc\u001b[0m\u001b[1;33m[\u001b[0m\u001b[0mdf_HH4\u001b[0m\u001b[1;33m[\u001b[0m\u001b[1;34m'BYSID'\u001b[0m\u001b[1;33m]\u001b[0m\u001b[1;33m.\u001b[0m\u001b[0misin\u001b[0m\u001b[1;33m(\u001b[0m\u001b[0mstu4\u001b[0m\u001b[1;33m)\u001b[0m \u001b[1;33m==\u001b[0m \u001b[1;32mFalse\u001b[0m\u001b[1;33m,\u001b[0m\u001b[1;34m'income'\u001b[0m\u001b[1;33m]\u001b[0m\u001b[1;33m,\u001b[0m \u001b[0mbins\u001b[0m \u001b[1;33m=\u001b[0m \u001b[1;36m30\u001b[0m\u001b[1;33m,\u001b[0m \u001b[0malpha\u001b[0m \u001b[1;33m=\u001b[0m \u001b[1;36m0.5\u001b[0m\u001b[1;33m,\u001b[0m \u001b[0mcolor\u001b[0m \u001b[1;33m=\u001b[0m \u001b[1;34m'orange'\u001b[0m\u001b[1;33m)\u001b[0m\u001b[1;33m\u001b[0m\u001b[1;33m\u001b[0m\u001b[0m\n\u001b[0m\u001b[0;32m     10\u001b[0m \u001b[0max2\u001b[0m\u001b[1;33m.\u001b[0m\u001b[0mset_title\u001b[0m\u001b[1;33m(\u001b[0m\u001b[1;34m'Parental Income of New Cohort in 2004'\u001b[0m\u001b[1;33m)\u001b[0m\u001b[1;33m\u001b[0m\u001b[1;33m\u001b[0m\u001b[0m\n\u001b[0;32m     11\u001b[0m \u001b[1;33m\u001b[0m\u001b[0m\n",
      "\u001b[1;31mAttributeError\u001b[0m: 'numpy.ndarray' object has no attribute 'hist'"
     ]
    },
    {
     "data": {
      "image/png": "[encoded data removed]",
      "text/plain": [
       "<Figure size 432x288 with 4 Axes>"
      ]
     },
     "metadata": {
      "needs_background": "light"
     },
     "output_type": "display_data"
    }
   ],
   "source": [
    "fig, ((ax0, ax1), ax2 ) = plt.subplots(nrows=2, ncols=2)\n",
    "\n",
    "ax0.hist(df_HH3.loc[df_HH3['BYSID'].isin(stu4) == True, 'income'], bins = 30, alpha = 0.5)\n",
    "ax0.set_title('Parental Income in 2003')\n",
    "\n",
    "ax1.hist(df_HH4.loc[df_HH4['BYSID'].isin(stu4) == True,'income'], bins = 30, alpha = 0.5, color = 'orange')\n",
    "ax1.set_title('Parental Income in 2004')\n",
    "\n",
    "ax2.hist(df_HH4.loc[df_HH4['BYSID'].isin(stu4) == False,'income'], bins = 30, alpha = 0.5, color = 'orange')\n",
    "ax2.set_title('Parental Income of New Cohort in 2004')\n",
    "\n",
    "\n",
    "fig.tight_layout()\n",
    "plt.show()"
   ]
  },
  {
   "cell_type": "code",
   "execution_count": 53,
   "metadata": {},
   "outputs": [
    {
     "data": {
      "text/plain": [
       "<matplotlib.axes._subplots.AxesSubplot at 0x15b4bac52c8>"
      ]
     },
     "execution_count": 53,
     "metadata": {},
     "output_type": "execute_result"
    },
    {
     "data": {
      "image/png": "[encoded data removed]",
      "text/plain": [
       "<Figure size 432x288 with 1 Axes>"
      ]
     },
     "metadata": {
      "needs_background": "light"
     },
     "output_type": "display_data"
    }
   ],
   "source": [
    "df_HH4.loc[df_HH4['BYSID'].isin(stu4) == False, 'income'].hist( bins = 30, alpha = 0.5)"
   ]
  },
  {
   "cell_type": "code",
   "execution_count": 60,
   "metadata": {},
   "outputs": [
    {
     "data": {
      "text/plain": [
       "2        950.0\n",
       "13       350.0\n",
       "36       120.0\n",
       "46       150.0\n",
       "49        50.0\n",
       "         ...  \n",
       "2705     150.0\n",
       "2706     400.0\n",
       "2707     400.0\n",
       "2708     500.0\n",
       "2710    1500.0\n",
       "Name: income, Length: 1280, dtype: float64"
      ]
     },
     "execution_count": 60,
     "metadata": {},
     "output_type": "execute_result"
    }
   ],
   "source": [
    "df_HH4.loc[df_HH4['BYSID'].isin(stu4) == False, 'income']"
   ]
  },
  {
   "cell_type": "code",
   "execution_count": 61,
   "metadata": {},
   "outputs": [
    {
     "data": {
      "text/plain": [
       "0        250.0\n",
       "1        270.0\n",
       "3        180.0\n",
       "4        150.0\n",
       "5        500.0\n",
       "         ...  \n",
       "1453     100.0\n",
       "1454    1500.0\n",
       "1457     250.0\n",
       "1458     170.0\n",
       "1459     400.0\n",
       "Name: income, Length: 1225, dtype: float64"
      ]
     },
     "execution_count": 61,
     "metadata": {},
     "output_type": "execute_result"
    }
   ],
   "source": [
    "df_HH4.loc[df_HH4['BYSID'].isin(stu4) == True,'income']"
   ]
  },
  {
   "cell_type": "code",
   "execution_count": null,
   "metadata": {},
   "outputs": [],
   "source": []
  }
 ],
 "metadata": {
  "kernelspec": {
   "display_name": "Python 3",
   "language": "python",
   "name": "python3"
  },
  "language_info": {
   "codemirror_mode": {
    "name": "ipython",
    "version": 3
   },
   "file_extension": ".py",
   "mimetype": "text/x-python",
   "name": "python",
   "nbconvert_exporter": "python",
   "pygments_lexer": "ipython3",
   "version": "3.7.6"
  }
 },
 "nbformat": 4,
 "nbformat_minor": 4
}
