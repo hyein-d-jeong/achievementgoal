{
 "cells": [
  {
   "cell_type": "code",
   "execution_count": 1,
   "metadata": {},
   "outputs": [],
   "source": [
    "import pandas as pd\n",
    "import pyreadstat\n",
    "import numpy as np\n",
    "import seaborn as sns\n",
    "import matplotlib.pyplot as plt \n",
    "\n",
    "import econtools as econ\n",
    "import econtools.metrics as mt\n",
    "import math\n"
   ]
  },
  {
   "cell_type": "code",
   "execution_count": 39,
   "metadata": {},
   "outputs": [],
   "source": [
    "# 3차 \n",
    "df_HH3, meta = pyreadstat.read_sav(\"C:/Users/thxkn/OneDrive/바탕 화면/CV/박사지원서류/WS_HJ/KEEP/KEEPData_1-12Wave_Ver12/DATA(수능, 직업력, 가중치, 패널조사현황 자료 포함)/1-12차년도 DATA(SPSS)/3차년도(2006) DATA/중학교 3학년생 코호트/f2_m_household.sav\")\n",
    "\n",
    "#소득 [F2H04001]\n",
    "df_HH3[\"F2H04001\"].describe()\n",
    "df_HH3 = df_HH3.rename(columns = {\"F2H04001\": \"income\"})\n",
    "df_HH3 = df_HH3[df_HH3[\"income\"]>0]\n",
    "df_HH3[\"year\"] = 2003\n",
    "df_HH3 = df_HH3[['BYHID','income', 'year']]"
   ]
  },
  {
   "cell_type": "code",
   "execution_count": 40,
   "metadata": {},
   "outputs": [],
   "source": [
    "# 4차\n",
    "df_HH4, meta = pyreadstat.read_sav(\"C:/Users/thxkn/OneDrive/바탕 화면/CV/박사지원서류/WS_HJ/KEEP/KEEPData_1-12Wave_Ver12/DATA(수능, 직업력, 가중치, 패널조사현황 자료 포함)/1-12차년도 DATA(SPSS)/4차년도(2007) DATA/중학교 3학년생 코호트/f3_m_household.sav\")\n",
    "\n",
    "#소득 F3H08001\n",
    "df_HH4[\"F3H08001\"].describe()\n",
    "df_HH4 = df_HH4.rename(columns = {\"F3H08001\": \"income\"})\n",
    "df_HH4 = df_HH4[df_HH4[\"income\"]>0]\n",
    "df_HH4[\"year\"] = 2004\n",
    "df_HH4 = df_HH4[['BYHID','income', 'year']]"
   ]
  },
  {
   "cell_type": "code",
   "execution_count": 41,
   "metadata": {},
   "outputs": [
    {
     "data": {
      "text/plain": [
       "4057"
      ]
     },
     "execution_count": 41,
     "metadata": {},
     "output_type": "execute_result"
    }
   ],
   "source": [
    "df_HH = pd.concat([df_HH3, df_HH4])\n",
    "len(df_HH)"
   ]
  },
  {
   "cell_type": "markdown",
   "metadata": {},
   "source": [
    "<h2>Students</h2>"
   ]
  },
  {
   "cell_type": "code",
   "execution_count": 17,
   "metadata": {},
   "outputs": [],
   "source": [
    "# 3차_학생 고등학교 일반계 , 전문계\n",
    "\n",
    "df_st3, meta = pyreadstat.read_sav(\"C:/Users/thxkn/OneDrive/바탕 화면/CV/박사지원서류/WS_HJ/KEEP/KEEPData_1-12Wave_Ver12/DATA(수능, 직업력, 가중치, 패널조사현황 자료 포함)/1-12차년도 DATA(SPSS)/3차년도(2006) DATA/중학교 3학년생 코호트/f2_m_highschool_st.sav\")\n",
    "df_st_v3, meta = pyreadstat.read_sav(\"C:/Users/thxkn/OneDrive/바탕 화면/CV/박사지원서류/WS_HJ/KEEP/KEEPData_1-12Wave_Ver12/DATA(수능, 직업력, 가중치, 패널조사현황 자료 포함)/1-12차년도 DATA(SPSS)/3차년도(2006) DATA/중학교 3학년생 코호트/f2_m_vocationalhighschool_st.sav\")\n",
    "df3 = pd.concat([df_st3, df_st_v3])\n",
    "df3[\"year\"] = 2003\n",
    "df3 = df3.rename(columns={'F2S01003':'schooltype'})\n",
    "df3 = df3.rename(columns={'F2S01002':'region'})\n",
    "df3.loc[df3['BYSID'].isin(df_st_v3['BYSID'])==True, 'schooltype'] = 0\n",
    "\n",
    "# school type is not specified yet (in survey)"
   ]
  },
  {
   "cell_type": "code",
   "execution_count": 18,
   "metadata": {},
   "outputs": [],
   "source": [
    "# 4차_학생 고등학교 일반계, 전문계\n",
    "\n",
    "df_st4, meta = pyreadstat.read_sav(\"C:/Users/thxkn/OneDrive/바탕 화면/CV/박사지원서류/WS_HJ/KEEP/KEEPData_1-12Wave_Ver12/DATA(수능, 직업력, 가중치, 패널조사현황 자료 포함)/1-12차년도 DATA(SPSS)/4차년도(2007) DATA/중학교 3학년생 코호트/f3_m_highschool_st.sav\")\n",
    "df_st_v4, meta = pyreadstat.read_sav(\"C:/Users/thxkn/OneDrive/바탕 화면/CV/박사지원서류/WS_HJ/KEEP/KEEPData_1-12Wave_Ver12/DATA(수능, 직업력, 가중치, 패널조사현황 자료 포함)/1-12차년도 DATA(SPSS)/4차년도(2007) DATA/중학교 3학년생 코호트/f3_m_vocationalhighschool_st.sav\")\n",
    "\n",
    "df4 = pd.concat([df_st4, df_st_v4])\n",
    "df4[\"year\"] = 2004\n",
    "df4 = df4.rename(columns={'F3S01003':'schooltype'})\n",
    "df4 = df4.rename(columns={'F3S01002':'region'})\n",
    "\n",
    "df4.loc[df4['BYSID'].isin(df_st_v4['BYSID'])==True, 'schooltype'] = 0"
   ]
  },
  {
   "cell_type": "code",
   "execution_count": 19,
   "metadata": {},
   "outputs": [
    {
     "data": {
      "text/plain": [
       "False    2976\n",
       "Name: schooltype, dtype: int64"
      ]
     },
     "execution_count": 19,
     "metadata": {},
     "output_type": "execute_result"
    }
   ],
   "source": [
    "df4['schooltype'].isna().value_counts() #1no nan"
   ]
  },
  {
   "cell_type": "code",
   "execution_count": 25,
   "metadata": {},
   "outputs": [],
   "source": [
    "# Allocate df3 schooltype for students who is not in df4\n",
    "st_not_specified = df3.loc[df3['BYSID'].isin(df4['BYSID'])==False, 'BYSID'].to_list()\n",
    "len(st_not_specified) # 114 students\n",
    "\n",
    "#asking specific major\n",
    "df3['F2S01023'].value_counts()\n",
    "df3.loc[df3['BYSID'].isin(st_not_specified) == True, 'F2S01023'].value_counts() # 70 are public school (-5)\n",
    "# english 1, science 1, actor 1\n",
    "#df3.loc[(df3['BYSID'].isin(st_not_specified) == True) & (df3['F2S01004'] == 4.0), 'BYSID'] : 0 -> 70 are public schools\n",
    "df3.loc[df3['F2S01023'] == -5, 'schooltype'] = 7.0\n",
    "df3.loc[df3['F2S01023'] == '영어', 'schooltype'] = 1.0\n",
    "df3.loc[df3['F2S01023'] == '과학계', 'schooltype'] = 2.0\n",
    "df3.loc[df3['F2S01023'] == '연극', 'schooltype'] = 3.0\n",
    "\n",
    "# df3 school type was not specified\n",
    "# Allocate df3 schooltype by schooltype in df4\n",
    "\n",
    "for i in df3['BYSID']:\n",
    "    if i in df4['BYSID']:\n",
    "        df3.loc[df3['BYSID'] == i, 'schooltype' ] = df4.loc[df4['BYSID'] ==i, 'schooltype']"
   ]
  },
  {
   "cell_type": "code",
   "execution_count": 37,
   "metadata": {},
   "outputs": [],
   "source": [
    "df3 = df3[df3['schooltype']>0]\n",
    "df4 = df4[df4['schooltype']>0]\n",
    "\n",
    "df = pd.concat([df3, df4])"
   ]
  },
  {
   "cell_type": "code",
   "execution_count": 38,
   "metadata": {},
   "outputs": [
    {
     "data": {
      "text/plain": [
       "2512"
      ]
     },
     "execution_count": 38,
     "metadata": {},
     "output_type": "execute_result"
    }
   ],
   "source": [
    "len(df)"
   ]
  },
  {
   "cell_type": "code",
   "execution_count": 45,
   "metadata": {},
   "outputs": [],
   "source": [
    "# 남 1, 여 0\n",
    "df.loc[df['GENDER']==2.0, 'GENDER'] =0"
   ]
  },
  {
   "cell_type": "markdown",
   "metadata": {},
   "source": [
    "<h2>Main Dataset</h2>"
   ]
  },
  {
   "cell_type": "code",
   "execution_count": 43,
   "metadata": {},
   "outputs": [],
   "source": [
    "df = pd.merge(df, df_HH)\n",
    "#df3 does not have information about teacehrs #mighbe use 1차년도 teacher (2차년도-고1-teacher도 없음)"
   ]
  },
  {
   "cell_type": "code",
   "execution_count": 44,
   "metadata": {
    "scrolled": true
   },
   "outputs": [
    {
     "data": {
      "text/plain": [
       "2069"
      ]
     },
     "execution_count": 44,
     "metadata": {},
     "output_type": "execute_result"
    }
   ],
   "source": [
    "len(df) # parents no response = -500"
   ]
  },
  {
   "cell_type": "code",
   "execution_count": 46,
   "metadata": {},
   "outputs": [],
   "source": [
    "# income rank 03 \n",
    "a = df.loc[df['year'] == 2003, \"income\"]\n",
    "\n",
    "df[\"income_rank_p\"] = np.nan\n",
    "df.loc[ df['year'] == 2003 , \"income_rank_p\"] = a.rank(method = 'dense') \n",
    "df.loc[ df['year'] == 2003 , \"income_rank_p\"] = df.loc[ df['year'] == 2003 , \"income_rank_p\"]/ df.loc[ df['year'] == 2003 , \"income_rank_p\"].max()\n",
    "\n",
    "# income rank 04\n",
    "a = df.loc[df['year'] == 2004, \"income\"]\n",
    "\n",
    "df.loc[ df['year'] == 2004 , \"income_rank_p\"] = a.rank(method = 'dense') \n",
    "df.loc[ df['year'] == 2004 , \"income_rank_p\"] = df.loc[ df['year'] == 2004 , \"income_rank_p\"]/ df.loc[ df['year'] == 2004 , \"income_rank_p\"].max()"
   ]
  },
  {
   "cell_type": "code",
   "execution_count": 48,
   "metadata": {},
   "outputs": [
    {
     "data": {
      "text/plain": [
       "False    2069\n",
       "Name: income_rank_p, dtype: int64"
      ]
     },
     "execution_count": 48,
     "metadata": {},
     "output_type": "execute_result"
    }
   ],
   "source": [
    "df[\"income_rank_p\"].isna().value_counts() # all valid"
   ]
  },
  {
   "cell_type": "markdown",
   "metadata": {},
   "source": [
    "<h2>Achievement Goal</h2>"
   ]
  },
  {
   "cell_type": "code",
   "execution_count": 49,
   "metadata": {},
   "outputs": [],
   "source": [
    "# achievement goal\n",
    "# 3차 achievement goals = reference column\n",
    "df = df.rename(columns = {'F2S01071': 'learning', 'F2S01072': 'betterperson', 'F2S01073': 'betterjob', 'F2S01074': 'futurework', 'F2S01075': 'forsociety', 'F2S01076': 'favorablejudg', 'F2S01077': 'popular', 'F2S01078': 'competition', 'F2S01079': 'forced', 'F2S01080': 'negativejudg', 'F2S01081': 'penalty'})"
   ]
  },
  {
   "cell_type": "code",
   "execution_count": 50,
   "metadata": {},
   "outputs": [],
   "source": [
    "# 4차 90은 money인데 3차에는 없음\n",
    "df.loc[df['year'] == 2004, 'learning'] = df['F3S01087']\n",
    "df.loc[df['year'] == 2004, 'betterperson'] = df['F3S01088']\n",
    "df.loc[df['year'] == 2004, 'betterjob'] = df['F3S01089']\n",
    "df.loc[df['year'] == 2004, 'futurework'] = df['F3S01091']\n",
    "df.loc[df['year'] == 2004, 'forsociety'] = df['F3S01092']\n",
    "df.loc[df['year'] == 2004, 'favorablejudg'] = df['F3S01093']\n",
    "df.loc[df['year'] == 2004, 'popular'] = df['F3S01094']\n",
    "df.loc[df['year'] == 2004, 'competition'] = df['F3S01095']\n",
    "df.loc[df['year'] == 2004, 'forced'] = df['F3S01096']\n",
    "df.loc[df['year'] == 2004, 'negativejudg'] = df['F3S01097']\n",
    "df.loc[df['year'] == 2004, 'penalty'] = df['F3S01098']"
   ]
  },
  {
   "cell_type": "code",
   "execution_count": 51,
   "metadata": {},
   "outputs": [],
   "source": [
    "# drop achievement goal missing values\n",
    "\n",
    "goal_list = ['learning', 'betterperson', 'betterjob', 'futurework', 'forsociety', 'favorablejudg',  'popular',  'competition', 'forced', 'negativejudg',  'penalty']\n",
    "for i in goal_list:\n",
    "    df = df[df[i]>0]\n",
    "    \n",
    "# drop previous columns\n",
    "drop_list = []\n",
    "\n",
    "for i in range(87, 99):\n",
    "    df = df.drop('F3S010'+str(i), axis = 1)"
   ]
  },
  {
   "cell_type": "code",
   "execution_count": 29,
   "metadata": {},
   "outputs": [],
   "source": [
    "pyreadstat.write_sav(df, 'df.sav')"
   ]
  },
  {
   "cell_type": "markdown",
   "metadata": {},
   "source": [
    "<h3>School Type</h3>\n",
    "\n",
    "학교 별 소득 평균에 따라 값 부여"
   ]
  },
  {
   "cell_type": "code",
   "execution_count": null,
   "metadata": {},
   "outputs": [],
   "source": [
    "df.groupby('schooltype')['income'].mean()\n",
    "# 6. 대안학교 < 0. 전문계 (252) < 5. 종합고 일반계 < 7. 일반고 < 1. 외국어고 < 2. 과학고 <3. 예체능 < 4. 자립형 사립고\n",
    "\n",
    "df['st_pi'] = np.nan\n",
    "df.loc[df['schooltype'] == 6, 'st_pi'] =0\n",
    "df.loc[df['schooltype'] == 0, 'st_pi'] =1\n",
    "df.loc[df['schooltype'] == 5, 'st_pi'] =2\n",
    "df.loc[df['schooltype'] == 7, 'st_pi'] =3\n",
    "df.loc[df['schooltype'] == 1, 'st_pi'] =4\n",
    "df.loc[df['schooltype'] == 2, 'st_pi'] =5\n",
    "df.loc[df['schooltype'] == 3, 'st_pi'] =6\n",
    "df.loc[df['schooltype'] == 4, 'st_pi'] =7"
   ]
  },
  {
   "cell_type": "markdown",
   "metadata": {},
   "source": [
    "<h2> HH1 - parents' information </h2>"
   ]
  },
  {
   "cell_type": "code",
   "execution_count": 57,
   "metadata": {},
   "outputs": [],
   "source": [
    "df_HH1, meta = pyreadstat.read_sav(\"C:/Users/thxkn/OneDrive/바탕 화면/CV/박사지원서류/WS_HJ/KEEP/KEEPData_1-12Wave_Ver12/DATA(수능, 직업력, 가중치, 패널조사현황 자료 포함)/1-12차년도 DATA(SPSS)/1차년도(2004) DATA/중학교 3학년생 코호트/by_m_household.sav\")"
   ]
  },
  {
   "cell_type": "code",
   "execution_count": null,
   "metadata": {},
   "outputs": [],
   "source": []
  }
 ],
 "metadata": {
  "kernelspec": {
   "display_name": "Python 3",
   "language": "python",
   "name": "python3"
  },
  "language_info": {
   "codemirror_mode": {
    "name": "ipython",
    "version": 3
   },
   "file_extension": ".py",
   "mimetype": "text/x-python",
   "name": "python",
   "nbconvert_exporter": "python",
   "pygments_lexer": "ipython3",
   "version": "3.7.6"
  }
 },
 "nbformat": 4,
 "nbformat_minor": 4
}
